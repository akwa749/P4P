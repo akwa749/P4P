{
 "cells": [
  {
   "cell_type": "code",
   "execution_count": 2,
   "metadata": {},
   "outputs": [],
   "source": [
    "import numpy as np\n",
    "import open3d as o3d\n",
    "import copy\n",
    "import math\n",
    "import itertools\n",
    "import sys\n",
    "import matplotlib.pyplot as plt\n",
    "from collections import Counter\n",
    "\n",
    "import config\n",
    "cfg = config.PreLoad() # instantiate"
   ]
  },
  {
   "attachments": {},
   "cell_type": "markdown",
   "metadata": {},
   "source": [
    "## Loading in Point cloud data\n",
    "\n",
    "UPDATE:\n",
    "- P003, P013 work successfully\n",
    "- P013, P014, P015, P017 also work successfully, but require altering z value bounding box plane; otherwise doesn't work.\n",
    "- P010, P005, P006 works well, but requires sacrificing small details of feet\n",
    "\n",
    "- P006\n",
    "\n",
    "18/09:\n",
    "- P003, P013, P014 works\n",
    "- try colour threshold around feet\n",
    "\n",
    "\n",
    "- work on feet refinement new AUT data\n",
    "- focus on setting error checking pipeline\n",
    "\n",
    "for report:\n",
    "- talk about automatic cleaning w manual cleaning - error measure\n",
    "- how much error is introduced with automatic cleaning - look at benefits / cons"
   ]
  },
  {
   "cell_type": "code",
   "execution_count": 4,
   "metadata": {},
   "outputs": [
    {
     "name": "stdout",
     "output_type": "stream",
     "text": [
      "['p00100.ply']\n"
     ]
    },
    {
     "ename": "FileExistsError",
     "evalue": "[WinError 183] Cannot create a file when that file already exists: './data/p00100.ply' -> './data/P002.ply'",
     "output_type": "error",
     "traceback": [
      "\u001b[1;31m---------------------------------------------------------------------------\u001b[0m",
      "\u001b[1;31mFileExistsError\u001b[0m                           Traceback (most recent call last)",
      "\u001b[1;32mc:\\Users\\GGPC\\OneDrive\\Desktop\\P4P\\cleaning.ipynb Cell 3\u001b[0m line \u001b[0;36m<cell line: 14>\u001b[1;34m()\u001b[0m\n\u001b[0;32m     <a href='vscode-notebook-cell:/c%3A/Users/GGPC/OneDrive/Desktop/P4P/cleaning.ipynb#X21sZmlsZQ%3D%3D?line=10'>11</a>\u001b[0m         files\u001b[39m.\u001b[39mappend(filename)\n\u001b[0;32m     <a href='vscode-notebook-cell:/c%3A/Users/GGPC/OneDrive/Desktop/P4P/cleaning.ipynb#X21sZmlsZQ%3D%3D?line=12'>13</a>\u001b[0m \u001b[39mprint\u001b[39m(files)\n\u001b[1;32m---> <a href='vscode-notebook-cell:/c%3A/Users/GGPC/OneDrive/Desktop/P4P/cleaning.ipynb#X21sZmlsZQ%3D%3D?line=13'>14</a>\u001b[0m renamed \u001b[39m=\u001b[39m cfg\u001b[39m.\u001b[39;49mrename(path\u001b[39m=\u001b[39;49mpath, files\u001b[39m=\u001b[39;49mfiles)\n",
      "File \u001b[1;32mc:\\Users\\GGPC\\OneDrive\\Desktop\\P4P\\config.py:26\u001b[0m, in \u001b[0;36mPreLoad.rename\u001b[1;34m(self, path, files)\u001b[0m\n\u001b[0;32m     22\u001b[0m \u001b[39mif\u001b[39;00m (\n\u001b[0;32m     23\u001b[0m     os\u001b[39m.\u001b[39mpath\u001b[39m.\u001b[39misfile(full_path) \u001b[39mand\u001b[39;00m file \u001b[39m==\u001b[39m file_to_rename\n\u001b[0;32m     24\u001b[0m ):  \u001b[39m# renaming only desired files\u001b[39;00m\n\u001b[0;32m     25\u001b[0m     _, ext \u001b[39m=\u001b[39m os\u001b[39m.\u001b[39mpath\u001b[39m.\u001b[39msplitext(file)  \u001b[39m# extract the .ply extension\u001b[39;00m\n\u001b[1;32m---> 26\u001b[0m     new_name \u001b[39m=\u001b[39m \u001b[39mf\u001b[39m\u001b[39m\"\u001b[39m\u001b[39mP\u001b[39m\u001b[39m{\u001b[39;00m\u001b[39mstr\u001b[39m(i\u001b[39m-\u001b[39m\u001b[39m3\u001b[39m)\u001b[39m.\u001b[39mzfill(\u001b[39m3\u001b[39m)\u001b[39m}\u001b[39;00m\u001b[39m{\u001b[39;00mext\u001b[39m}\u001b[39;00m\u001b[39m\"\u001b[39m\n\u001b[0;32m     27\u001b[0m     new_full_path \u001b[39m=\u001b[39m os\u001b[39m.\u001b[39mpath\u001b[39m.\u001b[39mjoin(path, new_name)\n\u001b[0;32m     28\u001b[0m     os\u001b[39m.\u001b[39mrename(full_path, new_full_path)\n",
      "\u001b[1;31mFileExistsError\u001b[0m: [WinError 183] Cannot create a file when that file already exists: './data/p00100.ply' -> './data/P002.ply'"
     ]
    }
   ],
   "source": [
    "import os, re\n",
    "path = \"./data/\"\n",
    "\n",
    "## renaming files if different to the format P00{i}.ply\n",
    "pattern = r\"^P\\d+\\.ply$\"\n",
    "files = []\n",
    "for filename in os.listdir(path):\n",
    "    full_path = os.path.join(path, filename)\n",
    "    \n",
    "    if os.path.isfile(full_path) and not re.match(pattern, filename):\n",
    "        files.append(filename)\n",
    "        \n",
    "print(files)\n",
    "renamed = cfg.rename(path=path, files=files)\n",
    "# for old_name, new_name in renamed:\n",
    "#     print(f\"Renamed {old_name} to {new_name}\")\n",
    "    \n",
    "## loading pcd data\n",
    "# path = \"./data/P004.ply\"\n",
    "# pcd = cfg.load(path)\n",
    "# print(\"PLY file loaded.\")\n",
    "# print(\"Shape of points\", np.asarray(pcd.points).shape)\n",
    "# print(\"Shape of colors\", np.asarray(pcd.colors).shape)\n",
    "# o3d.visualization.draw_geometries([pcd])"
   ]
  },
  {
   "cell_type": "code",
   "execution_count": 5,
   "metadata": {},
   "outputs": [
    {
     "name": "stdout",
     "output_type": "stream",
     "text": [
      "point cloud has 21 clusters\n"
     ]
    }
   ],
   "source": [
    "# pcd_vis = copy.deepcopy(pcd) # need to do this to create a deep copy of pcd\n",
    "\n",
    "# def viewClustersViaColours(pcd: o3d.cpu.pybind.geometry.PointCloud) -> None:\n",
    "#     '''\n",
    "#         Visualising pcd coloured by cluster applying DBSCAN (Density-Based Spatial Clustering of Applications with Noise) algorithm\n",
    "#         Alter cluster_dbscan() params for different results\n",
    "#             eps: max dist between two samples for them to be considered same neighbourhood\n",
    "#             min_points: min number of points required to form a cluster\n",
    "#     '''\n",
    "    \n",
    "#     labels = np.array(pcd.cluster_dbscan(eps=0.03, min_points=3, print_progress=True))\n",
    "#     max_label = labels.max()\n",
    "#     print(f\"point cloud has {max_label + 1} clusters\")\n",
    "#     colors = plt.get_cmap(\"tab20\")(labels / (max_label if max_label > 0 else 1)) # avoids div error\n",
    "#     colors[labels < 0] = 0 # label=-1 indicates noise\n",
    "#     pcd.colors = o3d.utility.Vector3dVector(colors[:, :3])\n",
    "#     o3d.visualization.draw_geometries([pcd])\n",
    "\n",
    "# viewClustersViaColours(pcd_vis)"
   ]
  },
  {
   "cell_type": "code",
   "execution_count": 20,
   "metadata": {},
   "outputs": [
    {
     "name": "stdout",
     "output_type": "stream",
     "text": [
      "Plane equation: 0.02x + -0.00y + 1.00z + -0.04 = 0\n"
     ]
    }
   ],
   "source": [
    "def remove_floor_by_plane_fitting(pcd: o3d.cpu.pybind.geometry.PointCloud, distance_threshold=0.01) -> o3d.cpu.pybind.geometry.PointCloud:\n",
    "    # Use RANSAC plane segmentation\n",
    "    plane_model, inliers = pcd.segment_plane(distance_threshold=distance_threshold,\n",
    "                                             ransac_n=3,\n",
    "                                             num_iterations=1000)\n",
    "    [a, b, c, d] = plane_model\n",
    "    print(f\"Plane equation: {a:.2f}x + {b:.2f}y + {c:.2f}z + {d:.2f} = 0\")\n",
    "\n",
    "    # Remove points that belong to the plane (i.e., the floor)\n",
    "    pcd_without_floor = pcd.select_by_index(inliers, invert=True)\n",
    "    \n",
    "    return pcd_without_floor\n",
    "\n",
    "# Segment and remove the floor using plane fitting\n",
    "pcd = remove_floor_by_plane_fitting(pcd)\n",
    "o3d.visualization.draw_geometries([pcd])"
   ]
  },
  {
   "cell_type": "code",
   "execution_count": 22,
   "metadata": {},
   "outputs": [
    {
     "data": {
      "application/vnd.jupyter.widget-view+json": {
       "model_id": "afa6ff66cc70474bafde46757ef6ce8c",
       "version_major": 2,
       "version_minor": 0
      },
      "text/plain": [
       "FloatText(value=-1.3912112712860107, description='x')"
      ]
     },
     "metadata": {},
     "output_type": "display_data"
    },
    {
     "data": {
      "application/vnd.jupyter.widget-view+json": {
       "model_id": "1fbf40577a554c6297f598d80a72b38d",
       "version_major": 2,
       "version_minor": 0
      },
      "text/plain": [
       "FloatText(value=1.2664138078689575, description='x_dup')"
      ]
     },
     "metadata": {},
     "output_type": "display_data"
    },
    {
     "data": {
      "application/vnd.jupyter.widget-view+json": {
       "model_id": "7a03abcf6bac4f308966d3b5d5d3b15f",
       "version_major": 2,
       "version_minor": 0
      },
      "text/plain": [
       "FloatText(value=-1.2884637117385864, description='y')"
      ]
     },
     "metadata": {},
     "output_type": "display_data"
    },
    {
     "data": {
      "application/vnd.jupyter.widget-view+json": {
       "model_id": "9f913b6794094862a472b9b11e825be8",
       "version_major": 2,
       "version_minor": 0
      },
      "text/plain": [
       "FloatText(value=1.363161325454712, description='y_dup')"
      ]
     },
     "metadata": {},
     "output_type": "display_data"
    },
    {
     "data": {
      "application/vnd.jupyter.widget-view+json": {
       "model_id": "45b4567458a544d48cba4c56a3ef241f",
       "version_major": 2,
       "version_minor": 0
      },
      "text/plain": [
       "FloatText(value=-0.031779661774635315, description='z')"
      ]
     },
     "metadata": {},
     "output_type": "display_data"
    },
    {
     "data": {
      "text/plain": [
       "<ipywidgets.widgets.interaction._InteractFactory at 0x247615fcd90>"
      ]
     },
     "metadata": {},
     "output_type": "display_data"
    },
    {
     "data": {
      "application/vnd.jupyter.widget-view+json": {
       "model_id": "124960e279964ad6b88a87029eb8cb8d",
       "version_major": 2,
       "version_minor": 0
      },
      "text/plain": [
       "Button(description='Save point cloud', style=ButtonStyle())"
      ]
     },
     "metadata": {},
     "output_type": "display_data"
    }
   ],
   "source": [
    "from ipywidgets import (\n",
    "    interact,\n",
    "    interactive,\n",
    "    Button,\n",
    "    FloatSlider,\n",
    "    FloatText,\n",
    ")\n",
    "from ipywidgets import jslink as link\n",
    "from IPython.display import display\n",
    "import ipywidgets as widgets\n",
    "\n",
    "# holds final state of point cloud\n",
    "final_pcd = None\n",
    "\n",
    "pcd_tmp = np.asarray(pcd.points)\n",
    "\n",
    "min_x, min_y, min_z = pcd_tmp.min(axis=0)\n",
    "max_x, max_y, max_z = pcd_tmp.max(axis=0)\n",
    "\n",
    "\n",
    "def create_grid_on_plane(thresh, axis, color):\n",
    "    lines = []\n",
    "    colors = []\n",
    "    for i in np.linspace(-1, 1, 10):  # Adjust these values as per your requirements\n",
    "        # vertical lines\n",
    "        start = (\n",
    "            [i, thresh, -1]\n",
    "            if axis == \"y\"\n",
    "            else ([thresh, i, -1] if axis == \"x\" else [-1, i, thresh])\n",
    "        )\n",
    "        end = (\n",
    "            [i, thresh, 1]\n",
    "            if axis == \"y\"\n",
    "            else ([thresh, i, 1] if axis == \"x\" else [1, i, thresh])\n",
    "        )\n",
    "        lines.append([start, end])\n",
    "        colors.append(color)\n",
    "        # horizontal lines\n",
    "        start = (\n",
    "            [-1, thresh, i]\n",
    "            if axis == \"y\"\n",
    "            else ([thresh, -1, i] if axis == \"x\" else [i, -1, thresh])\n",
    "        )\n",
    "        end = (\n",
    "            [1, thresh, i]\n",
    "            if axis == \"y\"\n",
    "            else ([thresh, 1, i] if axis == \"x\" else [i, 1, thresh])\n",
    "        )\n",
    "        lines.append([start, end])\n",
    "        colors.append(color)\n",
    "\n",
    "    line_set = o3d.geometry.LineSet(\n",
    "        points=o3d.utility.Vector3dVector(np.array(lines).reshape(-1, 3)),\n",
    "        lines=o3d.utility.Vector2iVector(\n",
    "            np.array([[i, i + 1] for i in range(0, len(lines) * 2, 2)])\n",
    "        ),\n",
    "    )\n",
    "\n",
    "    line_set.colors = o3d.utility.Vector3dVector(colors)\n",
    "    return line_set\n",
    "\n",
    "\n",
    "def view_and_adjust_threshold(\n",
    "    thresh_x=min_x,\n",
    "    thresh_x_dup=max_x,\n",
    "    thresh_y=min_y,\n",
    "    thresh_y_dup=max_y,\n",
    "    thresh_z=min_z,\n",
    "):\n",
    "    global final_pcd\n",
    "\n",
    "    pcd_tmp = np.asarray(pcd.points)\n",
    "    pcd_tmpc = np.asarray(pcd.colors)\n",
    "\n",
    "    indices = (\n",
    "        ((pcd_tmp[:, 0] > thresh_x) & (pcd_tmp[:, 0] < thresh_x_dup))\n",
    "        & ((pcd_tmp[:, 1] > thresh_y) & (pcd_tmp[:, 1] < thresh_y_dup))\n",
    "        & (pcd_tmp[:, 2] > thresh_z)\n",
    "    )\n",
    "    pcd_tmp_tmp = pcd_tmp[indices]\n",
    "    pcd_tmp_tmpc = pcd_tmpc[indices]\n",
    "\n",
    "    filtered = o3d.geometry.PointCloud()\n",
    "    filtered.points = o3d.utility.Vector3dVector(pcd_tmp_tmp)\n",
    "    filtered.colors = o3d.utility.Vector3dVector(pcd_tmp_tmpc)\n",
    "\n",
    "    final_pcd = filtered\n",
    "\n",
    "    plane_x = create_grid_on_plane(thresh_x, \"x\", [1, 0, 0])  # red color for x plane\n",
    "    plane_y = create_grid_on_plane(thresh_y, \"y\", [0, 1, 0])  # green color for y plane\n",
    "    plane_z = create_grid_on_plane(thresh_z, \"z\", [0, 0, 1])  # blue color for z plane\n",
    "\n",
    "    plane_x_dup = create_grid_on_plane(\n",
    "        thresh_x_dup, \"x\", [1, 0, 0]\n",
    "    )  \n",
    "    plane_y_dup = create_grid_on_plane(\n",
    "        thresh_y_dup, \"y\", [0, 1, 0]\n",
    "    )  \n",
    "    \n",
    "    centroid = np.mean(np.asarray(pcd.points), axis=0)\n",
    "    centroid_frame = o3d.geometry.TriangleMesh.create_coordinate_frame(size=1, origin=centroid)\n",
    "\n",
    "    ## visualise origin pt\n",
    "    origin = o3d.geometry.TriangleMesh.create_coordinate_frame(size=1, origin=[0, 0, 0])\n",
    "    o3d.visualization.draw_geometries(\n",
    "        [final_pcd, origin, plane_x, plane_y, plane_z, plane_x_dup, plane_y_dup]\n",
    "    )\n",
    "\n",
    "\n",
    "def save_pcd(b):\n",
    "    if final_pcd is not None:\n",
    "        o3d.io.write_point_cloud(\"final.ply\", final_pcd)\n",
    "        print(\"Point cloud saved!\")\n",
    "    else:\n",
    "        print(\"No point cloud to save.\")\n",
    "\n",
    "\n",
    "save_button = Button(description=\"Save point cloud\")\n",
    "save_button.on_click(save_pcd)\n",
    "\n",
    "slider_x = FloatSlider(min=min_x, max=max_x, step=0.001, value=-0.8, description=\"x\")\n",
    "text_x = FloatText(value=min_x, description=\"x\")\n",
    "link((slider_x, \"value\"), (text_x, \"value\"))\n",
    "\n",
    "slider_x_dup = FloatSlider(\n",
    "    min=min_x, max=max_x, step=0.001, value=0.8, description=\"x_dup\"\n",
    ")\n",
    "text_x_dup = FloatText(value=max_x, description=\"x_dup\")\n",
    "link((slider_x_dup, \"value\"), (text_x_dup, \"value\"))\n",
    "\n",
    "slider_y = FloatSlider(min=min_y, max=max_y, step=0.001, value=-0.8, description=\"y\")\n",
    "text_y = FloatText(value=min_y, description=\"y\")\n",
    "link((slider_y, \"value\"), (text_y, \"value\"))\n",
    "\n",
    "slider_y_dup = FloatSlider(\n",
    "    min=min_y, max=max_y, step=0.001, value=0.8, description=\"y_dup\"\n",
    ")\n",
    "text_y_dup = FloatText(value=max_y, description=\"y_dup\")\n",
    "link((slider_y_dup, \"value\"), (text_y_dup, \"value\"))\n",
    "\n",
    "slider_z = FloatSlider(min=min_z, max=max_z, step=0.001, value=0.03, description=\"z\")\n",
    "text_z = FloatText(value=min_z, description=\"z\")\n",
    "link((slider_z, \"value\"), (text_z, \"value\"))\n",
    "\n",
    "interactive(\n",
    "    view_and_adjust_threshold,\n",
    "    thresh_x=slider_x,\n",
    "    thresh_x_dup=slider_x_dup,\n",
    "    thresh_y=slider_y,\n",
    "    thresh_y_dup=slider_y_dup,\n",
    "    thresh_z=slider_z,\n",
    ")\n",
    "\n",
    "display(text_x, text_x_dup, text_y, text_y_dup, text_z, interact, save_button)\n",
    "\n",
    "pcd = copy.deepcopy(final_pcd)\n",
    "# o3d.visualization.draw_geometries([pcd])"
   ]
  },
  {
   "cell_type": "code",
   "execution_count": 23,
   "metadata": {},
   "outputs": [],
   "source": [
    "pcd.estimate_normals(search_param=o3d.geometry.KDTreeSearchParamHybrid(radius=0.5, max_nn=50))\n",
    "\n",
    "# z values\n",
    "z_values = np.asarray(pcd.points)[:, 2]\n",
    "\n",
    "# 90th percentile of the Z values for plane segmentation\n",
    "z_90th_percentile = np.percentile(z_values, 90)\n",
    "z_min = z_values.min()\n",
    "alpha = 0.01\n",
    "distance_threshold = alpha * (z_90th_percentile - z_min)\n",
    "\n",
    "# Apply plane segmentation to identify potential ground points\n",
    "plane_model, inliers = pcd.segment_plane(distance_threshold=distance_threshold, ransac_n=3, num_iterations=1000)\n",
    "\n",
    "# From the identified ground points, find the minimum Z value\n",
    "ground_z_min = np.asarray(pcd.select_by_index(inliers).points)[:, 2].min()\n",
    "\n",
    "# Set a height threshold above the identified floor\n",
    "height_threshold = 0.02  # 2 centimeters\n",
    "\n",
    "# Identify points that are inliers and below the height threshold\n",
    "to_remove = [i for i in inliers if z_values[i] < ground_z_min + height_threshold]\n",
    "\n",
    "# Remove the identified points to retain the details of the feet\n",
    "pcd = pcd.select_by_index(to_remove, invert=True)\n",
    "\n",
    "# Visualize the result\n",
    "o3d.visualization.draw_geometries([pcd])\n"
   ]
  },
  {
   "cell_type": "code",
   "execution_count": 318,
   "metadata": {},
   "outputs": [],
   "source": [
    "# def region_growing_segmentation(pcd, initial_inliers, height_threshold=0.02, radius=0.05):\n",
    "#     \"\"\"\n",
    "#     Perform region growing segmentation based on initial ground points.\n",
    "    \n",
    "#     Parameters:\n",
    "#     - pcd: The point cloud.\n",
    "#     - initial_inliers: List of initial ground points (from plane segmentation).\n",
    "#     - height_threshold: Maximum height difference to consider a point as ground.\n",
    "#     - radius: Radius for neighbor search.\n",
    "    \n",
    "#     Returns:\n",
    "#     - ground_points: List of all ground points after region growing.\n",
    "#     \"\"\"\n",
    "    \n",
    "#     # Convert points to numpy array\n",
    "#     points = np.asarray(pcd.points)\n",
    "    \n",
    "#     # Initialize the KD-tree for efficient neighbor search\n",
    "#     kdtree = o3d.geometry.KDTreeFlann(pcd)\n",
    "    \n",
    "#     # Set of all ground points\n",
    "#     ground_points = set(initial_inliers)\n",
    "    \n",
    "#     # Points to be checked\n",
    "#     to_check = set(initial_inliers)\n",
    "    \n",
    "#     while to_check:\n",
    "#         # Take a point from the set\n",
    "#         point_idx = to_check.pop()\n",
    "        \n",
    "#         # Find neighbors of the point within the given radius\n",
    "#         _, idx_neighbors, _ = kdtree.search_radius_vector_3d(points[point_idx], radius)\n",
    "        \n",
    "#         for idx in idx_neighbors:\n",
    "#             # If the point is close enough in height and hasn't been considered yet\n",
    "#             if abs(points[idx, 2] - points[point_idx, 2]) < height_threshold and idx not in ground_points:\n",
    "#                 ground_points.add(idx)\n",
    "#                 to_check.add(idx)\n",
    "    \n",
    "#     return list(ground_points)\n",
    "\n",
    "# # Use initial plane segmentation to get starting inliers\n",
    "# initial_inliers = inliers\n",
    "\n",
    "# # Apply region growing segmentation\n",
    "# all_ground_points = region_growing_segmentation(pcd, initial_inliers)\n",
    "\n",
    "# # Visualize the result after removing the identified ground\n",
    "# pcd_without_ground = pcd.select_by_index(all_ground_points, invert=True)\n",
    "# o3d.visualization.draw_geometries([pcd_without_ground])\n"
   ]
  },
  {
   "cell_type": "code",
   "execution_count": 319,
   "metadata": {},
   "outputs": [],
   "source": [
    "# def remove_floor_using_color(pcd, floor_color_range):\n",
    "#     colors = np.asarray(pcd.colors)\n",
    "\n",
    "#     floor_indices = np.where(\n",
    "#         (colors[:, 0] >= floor_color_range[0][0]) & (colors[:, 0] <= floor_color_range[1][0]) &\n",
    "#         (colors[:, 1] >= floor_color_range[0][1]) & (colors[:, 1] <= floor_color_range[1][1]) &\n",
    "#         (colors[:, 2] >= floor_color_range[0][2]) & (colors[:, 2] <= floor_color_range[1][2])\n",
    "#     )[0]\n",
    "\n",
    "#     pcd_without_floor = pcd.select_by_index(floor_indices, invert=True)\n",
    "\n",
    "#     return pcd_without_floor\n",
    "\n",
    "# floor_color_range = [(0.3, 0.3, 0.3), (0.7, 0.7, 0.7)]\n",
    "\n",
    "# pcd_without_floor = remove_floor_using_color(pcd, floor_color_range)\n",
    "\n",
    "# o3d.visualization.draw_geometries([pcd_without_floor])\n"
   ]
  },
  {
   "cell_type": "code",
   "execution_count": 320,
   "metadata": {},
   "outputs": [
    {
     "ename": "KeyboardInterrupt",
     "evalue": "",
     "output_type": "error",
     "traceback": [
      "\u001b[1;31m---------------------------------------------------------------------------\u001b[0m",
      "\u001b[1;31mKeyboardInterrupt\u001b[0m                         Traceback (most recent call last)",
      "\u001b[1;32mc:\\Users\\GGPC\\OneDrive\\Desktop\\P4P\\cleaning.ipynb Cell 10\u001b[0m line \u001b[0;36m<cell line: 21>\u001b[1;34m()\u001b[0m\n\u001b[0;32m     <a href='vscode-notebook-cell:/c%3A/Users/GGPC/OneDrive/Desktop/P4P/cleaning.ipynb#X35sZmlsZQ%3D%3D?line=17'>18</a>\u001b[0m segmented_indices \u001b[39m=\u001b[39m np\u001b[39m.\u001b[39masarray(segmented_pcd\u001b[39m.\u001b[39mpoints)\u001b[39m.\u001b[39mtolist()\n\u001b[0;32m     <a href='vscode-notebook-cell:/c%3A/Users/GGPC/OneDrive/Desktop/P4P/cleaning.ipynb#X35sZmlsZQ%3D%3D?line=19'>20</a>\u001b[0m \u001b[39m# find respective indices from original pcd\u001b[39;00m\n\u001b[1;32m---> <a href='vscode-notebook-cell:/c%3A/Users/GGPC/OneDrive/Desktop/P4P/cleaning.ipynb#X35sZmlsZQ%3D%3D?line=20'>21</a>\u001b[0m original_indices \u001b[39m=\u001b[39m [i \u001b[39mfor\u001b[39;00m i, v \u001b[39min\u001b[39;00m \u001b[39menumerate\u001b[39m(pcd\u001b[39m.\u001b[39mpoints) \u001b[39mif\u001b[39;00m \u001b[39mtuple\u001b[39m(v) \u001b[39min\u001b[39;00m \u001b[39mset\u001b[39m(\u001b[39mmap\u001b[39m(\u001b[39mtuple\u001b[39m, segmented_indices))]\n\u001b[0;32m     <a href='vscode-notebook-cell:/c%3A/Users/GGPC/OneDrive/Desktop/P4P/cleaning.ipynb#X35sZmlsZQ%3D%3D?line=22'>23</a>\u001b[0m \u001b[39m# inverse of segment \u001b[39;00m\n\u001b[0;32m     <a href='vscode-notebook-cell:/c%3A/Users/GGPC/OneDrive/Desktop/P4P/cleaning.ipynb#X35sZmlsZQ%3D%3D?line=23'>24</a>\u001b[0m inverse_pcd \u001b[39m=\u001b[39m pcd\u001b[39m.\u001b[39mselect_by_index(original_indices, invert\u001b[39m=\u001b[39m\u001b[39mTrue\u001b[39;00m)\n",
      "\u001b[1;32mc:\\Users\\GGPC\\OneDrive\\Desktop\\P4P\\cleaning.ipynb Cell 10\u001b[0m line \u001b[0;36m<listcomp>\u001b[1;34m(.0)\u001b[0m\n\u001b[0;32m     <a href='vscode-notebook-cell:/c%3A/Users/GGPC/OneDrive/Desktop/P4P/cleaning.ipynb#X35sZmlsZQ%3D%3D?line=17'>18</a>\u001b[0m segmented_indices \u001b[39m=\u001b[39m np\u001b[39m.\u001b[39masarray(segmented_pcd\u001b[39m.\u001b[39mpoints)\u001b[39m.\u001b[39mtolist()\n\u001b[0;32m     <a href='vscode-notebook-cell:/c%3A/Users/GGPC/OneDrive/Desktop/P4P/cleaning.ipynb#X35sZmlsZQ%3D%3D?line=19'>20</a>\u001b[0m \u001b[39m# find respective indices from original pcd\u001b[39;00m\n\u001b[1;32m---> <a href='vscode-notebook-cell:/c%3A/Users/GGPC/OneDrive/Desktop/P4P/cleaning.ipynb#X35sZmlsZQ%3D%3D?line=20'>21</a>\u001b[0m original_indices \u001b[39m=\u001b[39m [i \u001b[39mfor\u001b[39;00m i, v \u001b[39min\u001b[39;00m \u001b[39menumerate\u001b[39m(pcd\u001b[39m.\u001b[39mpoints) \u001b[39mif\u001b[39;00m \u001b[39mtuple\u001b[39m(v) \u001b[39min\u001b[39;00m \u001b[39mset\u001b[39m(\u001b[39mmap\u001b[39m(\u001b[39mtuple\u001b[39m, segmented_indices))]\n\u001b[0;32m     <a href='vscode-notebook-cell:/c%3A/Users/GGPC/OneDrive/Desktop/P4P/cleaning.ipynb#X35sZmlsZQ%3D%3D?line=22'>23</a>\u001b[0m \u001b[39m# inverse of segment \u001b[39;00m\n\u001b[0;32m     <a href='vscode-notebook-cell:/c%3A/Users/GGPC/OneDrive/Desktop/P4P/cleaning.ipynb#X35sZmlsZQ%3D%3D?line=23'>24</a>\u001b[0m inverse_pcd \u001b[39m=\u001b[39m pcd\u001b[39m.\u001b[39mselect_by_index(original_indices, invert\u001b[39m=\u001b[39m\u001b[39mTrue\u001b[39;00m)\n",
      "\u001b[1;31mKeyboardInterrupt\u001b[0m: "
     ]
    }
   ],
   "source": [
    "# def segment_by_dominant_color(pcd, threshold=0.1):\n",
    "#     colors = np.asarray(pcd.colors)\n",
    "    \n",
    "#     hist, bin_edges = np.histogramdd(colors, bins=(8, 8, 8))\n",
    "    \n",
    "#     dominant_color_index = np.unravel_index(hist.argmax(), hist.shape)\n",
    "#     dominant_color = [(edge[i] + edge[i+1]) / 2 for i, edge in zip(dominant_color_index, bin_edges)]\n",
    "    \n",
    "#     mask = np.all(np.abs(colors - dominant_color) < threshold, axis=1)\n",
    "    \n",
    "#     segmented_pcd = pcd.select_by_index(np.where(mask)[0])\n",
    "    \n",
    "#     return segmented_pcd\n",
    "\n",
    "# segmented_pcd = segment_by_dominant_color(pcd)\n",
    "\n",
    "# # indices of segmented pcd\n",
    "# segmented_indices = np.asarray(segmented_pcd.points).tolist()\n",
    "\n",
    "# # find respective indices from original pcd\n",
    "# original_indices = [i for i, v in enumerate(pcd.points) if tuple(v) in set(map(tuple, segmented_indices))]\n",
    "\n",
    "# # inverse of segment \n",
    "# inverse_pcd = pcd.select_by_index(original_indices, invert=True)\n",
    "\n",
    "# pcd = copy.deepcopy(inverse_pcd)\n",
    "\n",
    "# o3d.visualization.draw_geometries([pcd])\n"
   ]
  },
  {
   "cell_type": "code",
   "execution_count": 24,
   "metadata": {},
   "outputs": [],
   "source": [
    "# def bounding_box_minor(pcd: o3d.cpu.pybind.geometry.PointCloud) -> None:\n",
    "#     '''\n",
    "#     Cleans the floor??\n",
    "    \n",
    "#     Brain no work \n",
    "    \n",
    "#     '''\n",
    "    \n",
    "#     # Create bounding box:\n",
    "#     bounds = [[-math.inf, math.inf], [-math.inf, math.inf], [0, 0.0458]]  # set the bounds\n",
    "    \n",
    "#     bounding_box_points = list(itertools.product(*bounds))  # create limit points\n",
    "#     bounding_box = o3d.geometry.AxisAlignedBoundingBox.create_from_points(\n",
    "#         o3d.utility.Vector3dVector(bounding_box_points))  # create bounding box object\n",
    "    \n",
    "#     _, inliers = pcd.segment_plane(distance_threshold=0.01,\n",
    "#                                           ransac_n=3,\n",
    "#                                           num_iterations=1000)\n",
    "#     plane = pcd.select_by_index(inliers)\n",
    "#     pcd = pcd.select_by_index(inliers, invert=True)\n",
    "    \n",
    "#     # Crop the point cloud using the bounding box:\n",
    "#     pcd_croped = pcd.crop(bounding_box)\n",
    "#     dists = np.asarray(pcd.compute_point_cloud_distance(pcd_croped))\n",
    "#     indices = np.where(dists > 0.01)[0]\n",
    "#     pcd_cropped_inv = pcd.select_by_index(indices)\n",
    "\n",
    "#     # Display the cropped point cloud:\n",
    "#     o3d.visualization.draw_geometries([pcd_cropped_inv])\n",
    "        \n",
    "#     return pcd_cropped_inv\n",
    "\n",
    "\n",
    "def downsample_clean(pcd: o3d.cpu.pybind.geometry.PointCloud) -> None:\n",
    "    '''\n",
    "    Performs downsampling, outlier removal and bounding box removal\n",
    "    \n",
    "    Args:\n",
    "        pcd (o3d.cpu.pybind.geometry.PointCloud): PointCloud object\n",
    "    \n",
    "    Returns:\n",
    "        type: None \n",
    "    '''\n",
    "\n",
    "    # voxel downsampling: reducing overall num of pts\n",
    "    voxel_size = 0.01\n",
    "    downsampled = pcd.voxel_down_sample(voxel_size) \n",
    "    \n",
    "    # outlier cleaning\n",
    "    _, ind = downsampled.remove_statistical_outlier(nb_neighbors=100, std_ratio=2.0)\n",
    "    cleaned_pcd = downsampled.select_by_index(ind)\n",
    "    \n",
    "    # minimal bounding box\n",
    "    # pcd = bounding_box_minor(cleaned_pcd)\n",
    "\n",
    "    # # paint removal parts\n",
    "    epsilon = 0.01\n",
    "    points = np.asarray(pcd.points)\n",
    "    indices = np.where(np.abs(points[:, 2] < epsilon))[0]\n",
    "    \n",
    "    pcd_in_color = pcd.select_by_index(indices)\n",
    "    pcd_in_color.paint_uniform_color([1,1,0])\n",
    "    pcd = pcd.select_by_index(indices, invert=True)\n",
    "    \n",
    "    o3d.visualization.draw_geometries([pcd])\n",
    "\n",
    "    return pcd\n",
    "\n",
    "def isolateLargestCluster(\n",
    "    pcd: o3d.cpu.pybind.geometry.PointCloud, labels: np.ndarray\n",
    ") -> None:\n",
    "    \"\"\"\n",
    "    Uses DBSCAN to group and isolate the largest point cloud\n",
    "\n",
    "    Args:\n",
    "        pcd (o3d.cpu.pybind.geometry.PointCloud): PointCloud object\n",
    "        labels (np.ndarray): Array of clusters identified by labels\n",
    "\n",
    "    Returns:\n",
    "        type: o3d.cpu.pybind.geometry.PointCloud\n",
    "    \"\"\"\n",
    "\n",
    "    # finding the label of largest cluster + ignoring noisy points labeled -1\n",
    "    counts = Counter(labels)\n",
    "    largest_cluster_label = max(\n",
    "        counts.items(), key=lambda x: x[1] if x[0] != -1 else -1\n",
    "    )[0]\n",
    "\n",
    "    # get all pts / colors of largest cluster\n",
    "    largest_cluster_points = np.array(pcd.points)[labels == largest_cluster_label]\n",
    "    largest_cluster_colors = np.array(pcd.colors)[labels == largest_cluster_label]\n",
    "\n",
    "    # new point cloud from the largest cluster pts w/ colors\n",
    "    largest_cluster_pcd = o3d.geometry.PointCloud()\n",
    "    largest_cluster_pcd.points = o3d.utility.Vector3dVector(largest_cluster_points)\n",
    "    largest_cluster_pcd.colors = o3d.utility.Vector3dVector(largest_cluster_colors)\n",
    "\n",
    "    return largest_cluster_pcd\n",
    "\n",
    "pcd = downsample_clean(pcd)\n",
    "labels = np.array(pcd.cluster_dbscan(eps=0.05, min_points=3, print_progress=True))\n",
    "pcd = isolateLargestCluster(pcd, labels)\n",
    "o3d.visualization.draw_geometries([pcd])\n"
   ]
  },
  {
   "cell_type": "markdown",
   "metadata": {},
   "source": [
    "### Saving Point Cloud"
   ]
  },
  {
   "cell_type": "code",
   "execution_count": 323,
   "metadata": {},
   "outputs": [
    {
     "name": "stdout",
     "output_type": "stream",
     "text": [
      "Point cloud saved!\n"
     ]
    }
   ],
   "source": [
    "output_file_name = f\"./data/lidar-cleaned/cleaned_{path.split('/')[-1][:-4]}.ply\"\n",
    "\n",
    "if pcd is not None:\n",
    "    o3d.io.write_point_cloud(output_file_name, pcd)\n",
    "    print(\"Point cloud saved!\")\n",
    "else:\n",
    "    print(\"No point cloud to save.\")"
   ]
  },
  {
   "cell_type": "code",
   "execution_count": 324,
   "metadata": {},
   "outputs": [],
   "source": [
    "path = f\"./data/lidar-cleaned/cleaned_{path.split('/')[-1][:-4]}.ply\"\n",
    "\n",
    "pcd = X.load(path)\n",
    "o3d.visualization.draw_geometries([pcd], window_name='read')"
   ]
  },
  {
   "cell_type": "code",
   "execution_count": null,
   "metadata": {},
   "outputs": [],
   "source": []
  }
 ],
 "metadata": {
  "kernelspec": {
   "display_name": "dslab",
   "language": "python",
   "name": "python3"
  },
  "language_info": {
   "codemirror_mode": {
    "name": "ipython",
    "version": 3
   },
   "file_extension": ".py",
   "mimetype": "text/x-python",
   "name": "python",
   "nbconvert_exporter": "python",
   "pygments_lexer": "ipython3",
   "version": "3.8.13"
  }
 },
 "nbformat": 4,
 "nbformat_minor": 2
}

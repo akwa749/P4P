{
 "cells": [
  {
   "cell_type": "code",
   "execution_count": 130,
   "metadata": {},
   "outputs": [],
   "source": [
    "import numpy as np\n",
    "import open3d as o3d\n",
    "import pathlib\n",
    "import math\n",
    "import itertools"
   ]
  },
  {
   "attachments": {},
   "cell_type": "markdown",
   "metadata": {},
   "source": [
    "## Loading in Point cloud data"
   ]
  },
  {
   "cell_type": "code",
   "execution_count": 139,
   "metadata": {},
   "outputs": [
    {
     "name": "stdout",
     "output_type": "stream",
     "text": [
      "PLY file loaded\n"
     ]
    }
   ],
   "source": [
    "# Load ply file\n",
    "path = \"./data/fragment.ply\"\n",
    "\n",
    "if pathlib.Path(path).exists():\n",
    "    pcd = o3d.io.read_point_cloud(path)\n",
    "    print('PLY file loaded')\n",
    "else:\n",
    "    raise FileNotFoundError(\"FILE NOT FOUND, TRY AGAIN!\")"
   ]
  },
  {
   "cell_type": "code",
   "execution_count": 109,
   "metadata": {},
   "outputs": [
    {
     "name": "stdout",
     "output_type": "stream",
     "text": [
      "['HalfEdgeTriangleMesh', 'Image', 'LineSet', 'PointCloud', 'RGBDImage', 'TetraMesh', 'TriangleMesh', 'Type', 'Unspecified', 'VoxelGrid', '__add__', '__class__', '__copy__', '__deepcopy__', '__delattr__', '__dir__', '__doc__', '__eq__', '__format__', '__ge__', '__getattribute__', '__gt__', '__hash__', '__iadd__', '__init__', '__init_subclass__', '__le__', '__lt__', '__module__', '__ne__', '__new__', '__reduce__', '__reduce_ex__', '__repr__', '__setattr__', '__sizeof__', '__str__', '__subclasshook__', 'clear', 'cluster_dbscan', 'colors', 'compute_convex_hull', 'compute_mahalanobis_distance', 'compute_mean_and_covariance', 'compute_nearest_neighbor_distance', 'compute_point_cloud_distance', 'covariances', 'create_from_depth_image', 'create_from_rgbd_image', 'crop', 'detect_planar_patches', 'dimension', 'estimate_covariances', 'estimate_normals', 'estimate_point_covariances', 'farthest_point_down_sample', 'get_axis_aligned_bounding_box', 'get_center', 'get_geometry_type', 'get_max_bound', 'get_min_bound', 'get_minimal_oriented_bounding_box', 'get_oriented_bounding_box', 'get_rotation_matrix_from_axis_angle', 'get_rotation_matrix_from_quaternion', 'get_rotation_matrix_from_xyz', 'get_rotation_matrix_from_xzy', 'get_rotation_matrix_from_yxz', 'get_rotation_matrix_from_yzx', 'get_rotation_matrix_from_zxy', 'get_rotation_matrix_from_zyx', 'has_colors', 'has_covariances', 'has_normals', 'has_points', 'hidden_point_removal', 'is_empty', 'normalize_normals', 'normals', 'orient_normals_consistent_tangent_plane', 'orient_normals_to_align_with_direction', 'orient_normals_towards_camera_location', 'paint_uniform_color', 'points', 'random_down_sample', 'remove_duplicated_points', 'remove_non_finite_points', 'remove_radius_outlier', 'remove_statistical_outlier', 'rotate', 'scale', 'segment_plane', 'select_by_index', 'transform', 'translate', 'uniform_down_sample', 'voxel_down_sample', 'voxel_down_sample_and_trace']\n"
     ]
    }
   ],
   "source": [
    "# PLY file info\n",
    "print(dir(pcd))"
   ]
  },
  {
   "cell_type": "code",
   "execution_count": 140,
   "metadata": {},
   "outputs": [
    {
     "name": "stdout",
     "output_type": "stream",
     "text": [
      "Shape of points (196133, 3)\n",
      "Shape of colors (196133, 3)\n"
     ]
    }
   ],
   "source": [
    "print('Shape of points', np.asarray(pcd.points).shape)\n",
    "print('Shape of colors', np.asarray(pcd.colors).shape)"
   ]
  },
  {
   "attachments": {},
   "cell_type": "markdown",
   "metadata": {},
   "source": [
    "# Preprocessing"
   ]
  },
  {
   "cell_type": "code",
   "execution_count": 141,
   "metadata": {},
   "outputs": [
    {
     "name": "stdout",
     "output_type": "stream",
     "text": [
      "[Open3D WARNING] [KDTreeFlann::SetRawData] Failed due to no data.\n"
     ]
    },
    {
     "ename": "ValueError",
     "evalue": "max() arg is an empty sequence",
     "output_type": "error",
     "traceback": [
      "\u001b[1;31m---------------------------------------------------------------------------\u001b[0m",
      "\u001b[1;31mValueError\u001b[0m                                Traceback (most recent call last)",
      "Cell \u001b[1;32mIn[141], line 148\u001b[0m\n\u001b[0;32m    145\u001b[0m process\u001b[39m.\u001b[39mvisualise(inlier)\n\u001b[0;32m    147\u001b[0m pcd_in_bbox \u001b[39m=\u001b[39m process\u001b[39m.\u001b[39mbounding_box(inlier)\n\u001b[1;32m--> 148\u001b[0m cropped \u001b[39m=\u001b[39m process\u001b[39m.\u001b[39;49mminMaxView(pcd_in_bbox)\n\u001b[0;32m    150\u001b[0m process\u001b[39m.\u001b[39mvisualise(cropped)\n",
      "Cell \u001b[1;32mIn[141], line 71\u001b[0m, in \u001b[0;36mPreProcessing.minMaxView\u001b[1;34m(self, pcd)\u001b[0m\n\u001b[0;32m     68\u001b[0m THRESHOLD \u001b[39m=\u001b[39m \u001b[39m0.1\u001b[39m\n\u001b[0;32m     70\u001b[0m \u001b[39m# Get the max value along the y-axis:\u001b[39;00m\n\u001b[1;32m---> 71\u001b[0m y_max \u001b[39m=\u001b[39m \u001b[39mmax\u001b[39;49m(pcd\u001b[39m.\u001b[39;49mpoints, key\u001b[39m=\u001b[39;49m\u001b[39mlambda\u001b[39;49;00m x: x[\u001b[39m1\u001b[39;49m])[\u001b[39m1\u001b[39m]\n\u001b[0;32m     73\u001b[0m \u001b[39m# Get the original points color to be updated:\u001b[39;00m\n\u001b[0;32m     74\u001b[0m pcd_colors \u001b[39m=\u001b[39m np\u001b[39m.\u001b[39masarray(pcd\u001b[39m.\u001b[39mcolors)\n",
      "\u001b[1;31mValueError\u001b[0m: max() arg is an empty sequence"
     ]
    }
   ],
   "source": [
    "class PreProcessing:\n",
    "    def __init__(self, voxelSize=0.01, itera=10000):\n",
    "        self.voxelSize = voxelSize\n",
    "        self.itera = itera\n",
    "    \n",
    "    def minMaxView(self, pcd):\n",
    "        '''\n",
    "        used to visualise the min/max points in each respective axes\n",
    "        '''\n",
    "        \n",
    "        # Colors:\n",
    "        RED = [1., 0., 0.]\n",
    "        GREEN = [0., 1., 0.]\n",
    "        BLUE = [0., 0., 1.]\n",
    "        YELLOW = [1., 1., 0.]\n",
    "        MAGENTA = [1., 0., 1.]\n",
    "        CYAN = [0., 1., 1.]\n",
    "        \n",
    "        # create 3d coordinate system\n",
    "        origin = o3d.geometry.TriangleMesh.create_coordinate_frame(size=0.5)\n",
    "        \n",
    "        # Get max and min points of each axis x, y and z:\n",
    "        x_max = max(pcd.points, key=lambda x: x[0])\n",
    "        y_max = max(pcd.points, key=lambda x: x[1])\n",
    "        z_max = max(pcd.points, key=lambda x: x[2])\n",
    "        x_min = min(pcd.points, key=lambda x: x[0])\n",
    "        y_min = min(pcd.points, key=lambda x: x[1])\n",
    "        z_min = min(pcd.points, key=lambda x: x[2])\n",
    "        \n",
    "        # Create bounding box:\n",
    "        bounds = [[-math.inf, math.inf], [-math.inf, math.inf], [0, 0.0458]]  # set the bounds\n",
    "        bounding_box_points = list(itertools.product(*bounds))  # create limit points\n",
    "        bounding_box = o3d.geometry.AxisAlignedBoundingBox.create_from_points(\n",
    "            o3d.utility.Vector3dVector(bounding_box_points))  # create bounding box object\n",
    "\n",
    "        # Crop the point cloud using the bounding box:\n",
    "        pcd_croped = pcd.crop(bounding_box)\n",
    "        dists = np.asarray(pcd.compute_point_cloud_distance(pcd_croped))\n",
    "        indices = np.where(dists > 0.00001)[0]\n",
    "        pcd_cropped_inv = pcd.select_by_index(indices)\n",
    "\n",
    "        # Display the cropped point cloud:\n",
    "        o3d.visualization.draw_geometries([pcd_croped])\n",
    "        o3d.visualization.draw_geometries([pcd_cropped_inv])\n",
    "        \n",
    "        pcd = pcd_cropped_inv\n",
    "\n",
    "        positions = [x_max, y_max, z_max, x_min, y_min, z_min]\n",
    "        geometries = [pcd, origin]\n",
    "        colors = [RED, GREEN, BLUE, MAGENTA, YELLOW, CYAN]\n",
    "        for i in range(len(positions)):\n",
    "            # Create a sphere mesh:\n",
    "            sphere = o3d.geometry.TriangleMesh.create_sphere(radius=0.05)\n",
    "            # move to the point position:\n",
    "            sphere.translate(np.asarray(positions[i]))\n",
    "            # add color:\n",
    "            sphere.paint_uniform_color(np.asarray(colors[i]))\n",
    "            # compute normals for vertices or faces:\n",
    "            sphere.compute_vertex_normals()\n",
    "            # add to geometry list to display later:\n",
    "            geometries.append(sphere)\n",
    "\n",
    "        # Display:\n",
    "        o3d.visualization.draw_geometries(geometries)\n",
    "        \n",
    "        ########################\n",
    "        # Define a threshold:\n",
    "        THRESHOLD = 0.1\n",
    "\n",
    "        # Get the max value along the y-axis:\n",
    "        y_max = max(pcd.points, key=lambda x: x[1])[1]\n",
    "\n",
    "        # Get the original points color to be updated:\n",
    "        pcd_colors = np.asarray(pcd.colors)\n",
    "\n",
    "        # Number of points:\n",
    "        n_points = pcd_colors.shape[0]\n",
    "\n",
    "        # update color:\n",
    "        for i in range(n_points):\n",
    "            # if the current point is aground point:\n",
    "            if pcd.points[i][1] >= y_max - THRESHOLD:\n",
    "                pcd_colors[i] = RED  # color it green\n",
    "\n",
    "        pcd.colors = o3d.utility.Vector3dVector(pcd_colors)\n",
    "\n",
    "        # Display:\n",
    "        o3d.visualization.draw_geometries([pcd, origin])\n",
    "        \n",
    "        return pcd\n",
    "        \n",
    "            \n",
    "    def downsample_clean(self, pcd):\n",
    "        '''\n",
    "        most of the cleaning is done here\n",
    "        '''\n",
    "        \n",
    "        # create 3d coordinate system\n",
    "        origin = o3d.geometry.TriangleMesh.create_coordinate_frame(size=0.5)\n",
    "        \n",
    "        # reduce total number of points\n",
    "        downsampled = pcd.voxel_down_sample(self.voxelSize) \n",
    "        self.visualise(origin, pcd)\n",
    "        \n",
    "        # outlier cleaning\n",
    "        cl, ind = downsampled.remove_statistical_outlier(nb_neighbors=20, std_ratio=2.0)\n",
    "        cleaned_pcd = downsampled.select_by_index(ind)\n",
    "        \n",
    "        # removing majority floor\n",
    "        plane_model, inliers = cleaned_pcd.segment_plane(distance_threshold=0.015, ransac_n=3, num_iterations=self.itera)\n",
    "        inlier_cloud = cleaned_pcd.select_by_index(inliers)\n",
    "        inlier_cloud.paint_uniform_color([1,0,0])\n",
    "        outlier_cloud = cleaned_pcd.select_by_index(inliers, invert=True)\n",
    "        o3d.visualization.draw_geometries([outlier_cloud, inlier_cloud])\n",
    "\n",
    "        return outlier_cloud\n",
    "    \n",
    "    def bounding_box(self, pcd):\n",
    "        '''\n",
    "        applying bounding box method removing majority of unwanted points\n",
    "        '''\n",
    "        \n",
    "        points = np.asarray(pcd.points)\n",
    "        \n",
    "        min_x, min_y, min_z = points.min(axis=0)[:3]\n",
    "        max_x, max_y, max_z = points.max(axis=0)[:3]\n",
    "\n",
    "        padding = 0.53\n",
    "        bbox = o3d.geometry.AxisAlignedBoundingBox(min_bound=(padding*min_x, padding*min_y ,padding*min_z ), max_bound=(padding*max_x, padding*max_y, max_z))\n",
    "\n",
    "        # Select points within the bounding box\n",
    "        pcd_in_bbox = pcd.crop(bbox)\n",
    "        \n",
    "        return pcd_in_bbox\n",
    "    \n",
    "    def visualise(self, *args):\n",
    "        # drawing\n",
    "        o3d.visualization.draw_geometries(\n",
    "            [*args], \n",
    "            window_name=\"point cloud\" \n",
    "        )\n",
    "\n",
    "process = PreProcessing()\n",
    "inlier = process.downsample_clean(pcd)\n",
    "process.visualise(inlier)\n",
    "\n",
    "pcd_in_bbox = process.bounding_box(inlier)\n",
    "cropped = process.minMaxView(pcd_in_bbox)\n",
    "\n",
    "process.visualise(cropped)"
   ]
  },
  {
   "cell_type": "code",
   "execution_count": 122,
   "metadata": {},
   "outputs": [
    {
     "name": "stderr",
     "output_type": "stream",
     "text": [
      "c:\\Users\\GGPC\\anaconda3\\lib\\site-packages\\sklearn\\cluster\\_kmeans.py:870: FutureWarning: The default value of `n_init` will change from 10 to 'auto' in 1.4. Set the value of `n_init` explicitly to suppress the warning\n",
      "  warnings.warn(\n"
     ]
    }
   ],
   "source": [
    "from sklearn.cluster import KMeans\n",
    "\n",
    "min_x, min_y, min_z = np.asarray(pcd.points).min(axis=0)[:3]\n",
    "max_x, max_y, max_z = np.asarray(pcd.points).max(axis=0)[:3]\n",
    "\n",
    "# Convert the point cloud to a numpy array\n",
    "points = np.asarray(pcd_in_bbox.points)\n",
    "\n",
    "# Calculate the centroid of the entire point cloud\n",
    "centroid = np.mean(points, axis=0)\n",
    "\n",
    "# Define the approximate z-coordinate of the feet\n",
    "feet_z = min_z  # Adjust this value based on your data\n",
    "\n",
    "# Shift the centroid to the level of the feet\n",
    "centroid[2] = feet_z\n",
    "\n",
    "# Define a tolerance\n",
    "tolerance = 0.05  # Adjust this value based on your needs\n",
    "\n",
    "# Create a mask for points that are within the tolerance of the new centroid\n",
    "mask = np.logical_and(points[:, 2] > (centroid[2] - tolerance), points[:, 2] < (centroid[2] + tolerance))\n",
    "\n",
    "# Extract the segment of the point cloud\n",
    "segment_points = points[mask]\n",
    "\n",
    "# Perform k-means clustering on the segment with 2 clusters (the feet and the floor)\n",
    "kmeans = KMeans(n_clusters=2, random_state=0).fit(segment_points)\n",
    "\n",
    "# Find the index of the cluster whose centroid is closer to the new centroid\n",
    "feet_cluster_index = np.argmin(np.linalg.norm(kmeans.cluster_centers_ - centroid, axis=1))\n",
    "\n",
    "# Create a mask for points in the segment that belong to the feet cluster\n",
    "segment_mask = kmeans.labels_ == feet_cluster_index\n",
    "\n",
    "# Combine the segment mask with the original mask to get a mask for the feet in the original point cloud\n",
    "mask[mask] = segment_mask\n",
    "\n",
    "# Select points using the mask\n",
    "final_pcd = pcd_in_bbox.select_by_index(np.where(~mask)[0])\n",
    "\n",
    "# Visualize\n",
    "o3d.visualization.draw_geometries([final_pcd], window_name=\"Cleaned Point Cloud after Removing Floor Points\")\n"
   ]
  },
  {
   "cell_type": "code",
   "execution_count": 121,
   "metadata": {},
   "outputs": [],
   "source": [
    "# Define the distance thresholds\n",
    "x_threshold = 0.01  # Adjust this value based on your data\n",
    "y_threshold = 0.01  # Adjust this value based on your data\n",
    "z_threshold = 0.1  # Adjust this value based on your data\n",
    "\n",
    "points = np.asarray(final_pcd.points)\n",
    "\n",
    "# Create a mask for points that are at or below the height of the centroid\n",
    "height_mask = points[:, 2] <= centroid[2] \n",
    "\n",
    "# Select points using the height mask\n",
    "segment_points = points[height_mask]\n",
    "\n",
    "# Create masks for points that are within the distance thresholds from the centroid\n",
    "x_mask = np.abs(segment_points[:, 0] - centroid[0]) <= x_threshold\n",
    "y_mask = np.abs(segment_points[:, 1] - centroid[1]) <= y_threshold\n",
    "\n",
    "# Combine the masks for x and y\n",
    "xy_mask = np.logical_and(x_mask, y_mask)\n",
    "\n",
    "# Get the opposite of the xy_mask\n",
    "# inverse_xy_mask = ~xy_mask\n",
    "\n",
    "# Select points using the inverse_xy_mask\n",
    "final_segment_points = segment_points[xy_mask]\n",
    "\n",
    "# Combine the final_segment_points with the points above the height of the centroid\n",
    "final_points = np.vstack((points[~height_mask], final_segment_points))\n",
    "\n",
    "# Convert the final points to a point cloud\n",
    "final_pcd = o3d.geometry.PointCloud()\n",
    "final_pcd.points = o3d.utility.Vector3dVector(final_points)\n",
    "\n",
    "# Visualize\n",
    "o3d.visualization.draw_geometries([final_pcd], window_name=\"Cleaned Point Cloud after Removing Far Points\")\n"
   ]
  }
 ],
 "metadata": {
  "kernelspec": {
   "display_name": "Python 3",
   "language": "python",
   "name": "python3"
  },
  "language_info": {
   "codemirror_mode": {
    "name": "ipython",
    "version": 3
   },
   "file_extension": ".py",
   "mimetype": "text/x-python",
   "name": "python",
   "nbconvert_exporter": "python",
   "pygments_lexer": "ipython3",
   "version": "3.9.16"
  }
 },
 "nbformat": 4,
 "nbformat_minor": 2
}

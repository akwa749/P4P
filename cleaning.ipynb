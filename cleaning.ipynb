{
 "cells": [
  {
   "cell_type": "code",
   "execution_count": 1,
   "metadata": {},
   "outputs": [
    {
     "name": "stdout",
     "output_type": "stream",
     "text": [
      "Jupyter environment detected. Enabling Open3D WebVisualizer.\n",
      "[Open3D INFO] WebRTC GUI backend enabled.\n",
      "[Open3D INFO] WebRTCWindowSystem: HTTP handshake server disabled.\n"
     ]
    }
   ],
   "source": [
    "import numpy as np\n",
    "import open3d as o3d\n",
    "import pathlib\n",
    "import copy\n",
    "import math\n",
    "import itertools\n",
    "import sys\n",
    "import matplotlib.pyplot as plt\n",
    "\n",
    "from collections import Counter"
   ]
  },
  {
   "attachments": {},
   "cell_type": "markdown",
   "metadata": {},
   "source": [
    "## Loading in Point cloud data\n",
    "\n",
    "UPDATE:\n",
    "- P003, P013 work successfully\n",
    "- P013, P014, P015, P017 also work successfully, but require altering z value bounding box plane; otherwise doesn't work.\n",
    "- P010, P005, P006 works well, but requires sacrificing small details of feet\n",
    "\n",
    "- P006"
   ]
  },
  {
   "cell_type": "code",
   "execution_count": 2,
   "metadata": {},
   "outputs": [
    {
     "name": "stdout",
     "output_type": "stream",
     "text": [
      "PLY file loaded.\n",
      "Shape of points (251759, 3)\n",
      "Shape of colors (251759, 3)\n",
      "[Open3D WARNING] GLFW Error: WGL: Failed to make context current: The handle is invalid. \n",
      "[Open3D WARNING] GLFW Error: WGL: Failed to make context current: The handle is invalid. \n",
      "[Open3D WARNING] GLFW Error: WGL: Failed to make context current: The handle is invalid. \n"
     ]
    }
   ],
   "source": [
    "# Load ply file\n",
    "path = \"./data/P002\" + \".ply\"\n",
    "# path = './abi-scan-cleaned/anthony-01.ply'\n",
    "\n",
    "# output_file_name = 'anthony-cap.ply'\n",
    "\n",
    "def load(path: str) -> o3d.cpu.pybind.geometry.PointCloud:\n",
    "    \"\"\"\n",
    "    Loads a ply file provided a valid path with robust error checking\n",
    "\n",
    "    Checks file path exists and is a ply file that is not empty\n",
    "\n",
    "    Args:\n",
    "        path: string path to a .ply file\n",
    "\n",
    "    Returns:\n",
    "        pcd: non-empty point cloud data object\n",
    "    \"\"\"\n",
    "\n",
    "    # checks if file exists\n",
    "    if not pathlib.Path(path).exists():\n",
    "        raise FileNotFoundError(\"File not found.\")\n",
    "\n",
    "    # checking correct file format\n",
    "    if pathlib.Path(path).suffix != \".ply\":\n",
    "        raise ValueError(f\"Expected a .ply file, got {pathlib.Path(path).suffix}\")\n",
    "\n",
    "    # check if file is not empty\n",
    "    if pathlib.Path(path).stat().st_size == 0:\n",
    "        raise ValueError(\"File is empty.\")\n",
    "\n",
    "    pcd = o3d.io.read_point_cloud(path)\n",
    "\n",
    "    # checks pt cloud is not empty\n",
    "    if not np.asarray(pcd.points).size:\n",
    "        raise ValueError(\"Point cloud has no points.\")\n",
    "\n",
    "    # pts and colors must match (not too important, but mismatches may lead to incorrect results when vis or analysing)\n",
    "    if np.asarray(pcd.points).shape[0] != np.asarray(pcd.colors).shape[0]:\n",
    "        raise ValueError(\"Point cloud has mismatch between points and colors.\")\n",
    "\n",
    "    return pcd  # should pass all error cases\n",
    "\n",
    "\n",
    "pcd = load(path)\n",
    "\n",
    "print(\"PLY file loaded.\")\n",
    "print(\"Shape of points\", np.asarray(pcd.points).shape)\n",
    "print(\"Shape of colors\", np.asarray(pcd.colors).shape)\n",
    "o3d.visualization.draw_geometries([pcd])"
   ]
  },
  {
   "cell_type": "code",
   "execution_count": null,
   "metadata": {},
   "outputs": [
    {
     "data": {
      "application/vnd.jupyter.widget-view+json": {
       "model_id": "02008831a3a8473783710462931ec66d",
       "version_major": 2,
       "version_minor": 0
      },
      "text/plain": [
       "FloatText(value=-1.859531283378601, description='x')"
      ]
     },
     "metadata": {},
     "output_type": "display_data"
    },
    {
     "data": {
      "application/vnd.jupyter.widget-view+json": {
       "model_id": "337bb3249f20483bbb7690e87662bb95",
       "version_major": 2,
       "version_minor": 0
      },
      "text/plain": [
       "FloatText(value=1.8454686403274536, description='x_dup')"
      ]
     },
     "metadata": {},
     "output_type": "display_data"
    },
    {
     "data": {
      "application/vnd.jupyter.widget-view+json": {
       "model_id": "c91445c3b42243dca69d6602c4ea2b47",
       "version_major": 2,
       "version_minor": 0
      },
      "text/plain": [
       "FloatText(value=-1.8829686641693115, description='y')"
      ]
     },
     "metadata": {},
     "output_type": "display_data"
    },
    {
     "data": {
      "application/vnd.jupyter.widget-view+json": {
       "model_id": "85cc09debc1f46e491d7dcd501f59b9b",
       "version_major": 2,
       "version_minor": 0
      },
      "text/plain": [
       "FloatText(value=2.0020313262939453, description='y_dup')"
      ]
     },
     "metadata": {},
     "output_type": "display_data"
    },
    {
     "data": {
      "application/vnd.jupyter.widget-view+json": {
       "model_id": "46a650f8fb9e4d5e94f5674d7f9e4395",
       "version_major": 2,
       "version_minor": 0
      },
      "text/plain": [
       "FloatText(value=-0.0719052329659462, description='z')"
      ]
     },
     "metadata": {},
     "output_type": "display_data"
    },
    {
     "data": {
      "text/plain": [
       "<ipywidgets.widgets.interaction._InteractFactory at 0x1affaab68b0>"
      ]
     },
     "metadata": {},
     "output_type": "display_data"
    },
    {
     "data": {
      "application/vnd.jupyter.widget-view+json": {
       "model_id": "2c7662e3ad634400821200acfebe249e",
       "version_major": 2,
       "version_minor": 0
      },
      "text/plain": [
       "Button(description='Save point cloud', style=ButtonStyle())"
      ]
     },
     "metadata": {},
     "output_type": "display_data"
    }
   ],
   "source": [
    "from ipywidgets import (\n",
    "    interact,\n",
    "    interactive,\n",
    "    Button,\n",
    "    FloatSlider,\n",
    "    FloatText,\n",
    ")\n",
    "from ipywidgets import jslink as link\n",
    "from IPython.display import display\n",
    "import ipywidgets as widgets\n",
    "\n",
    "# holds final state of point cloud\n",
    "final_pcd = None\n",
    "\n",
    "pcd_tmp = np.asarray(pcd.points)\n",
    "\n",
    "min_x, min_y, min_z = pcd_tmp.min(axis=0)\n",
    "max_x, max_y, max_z = pcd_tmp.max(axis=0)\n",
    "\n",
    "\n",
    "def create_grid_on_plane(thresh, axis, color):\n",
    "    lines = []\n",
    "    colors = []\n",
    "    for i in np.linspace(-1, 1, 10):  # Adjust these values as per your requirements\n",
    "        # vertical lines\n",
    "        start = (\n",
    "            [i, thresh, -1]\n",
    "            if axis == \"y\"\n",
    "            else ([thresh, i, -1] if axis == \"x\" else [-1, i, thresh])\n",
    "        )\n",
    "        end = (\n",
    "            [i, thresh, 1]\n",
    "            if axis == \"y\"\n",
    "            else ([thresh, i, 1] if axis == \"x\" else [1, i, thresh])\n",
    "        )\n",
    "        lines.append([start, end])\n",
    "        colors.append(color)\n",
    "        # horizontal lines\n",
    "        start = (\n",
    "            [-1, thresh, i]\n",
    "            if axis == \"y\"\n",
    "            else ([thresh, -1, i] if axis == \"x\" else [i, -1, thresh])\n",
    "        )\n",
    "        end = (\n",
    "            [1, thresh, i]\n",
    "            if axis == \"y\"\n",
    "            else ([thresh, 1, i] if axis == \"x\" else [i, 1, thresh])\n",
    "        )\n",
    "        lines.append([start, end])\n",
    "        colors.append(color)\n",
    "\n",
    "    line_set = o3d.geometry.LineSet(\n",
    "        points=o3d.utility.Vector3dVector(np.array(lines).reshape(-1, 3)),\n",
    "        lines=o3d.utility.Vector2iVector(\n",
    "            np.array([[i, i + 1] for i in range(0, len(lines) * 2, 2)])\n",
    "        ),\n",
    "    )\n",
    "\n",
    "    line_set.colors = o3d.utility.Vector3dVector(colors)\n",
    "    return line_set\n",
    "\n",
    "\n",
    "def view_and_adjust_threshold(\n",
    "    thresh_x=min_x,\n",
    "    thresh_x_dup=max_x,\n",
    "    thresh_y=min_y,\n",
    "    thresh_y_dup=max_y,\n",
    "    thresh_z=min_z,\n",
    "):\n",
    "    global final_pcd\n",
    "\n",
    "    pcd_tmp = np.asarray(pcd.points)\n",
    "    pcd_tmpc = np.asarray(pcd.colors)\n",
    "\n",
    "    indices = (\n",
    "        ((pcd_tmp[:, 0] > thresh_x) & (pcd_tmp[:, 0] < thresh_x_dup))\n",
    "        & ((pcd_tmp[:, 1] > thresh_y) & (pcd_tmp[:, 1] < thresh_y_dup))\n",
    "        & (pcd_tmp[:, 2] > thresh_z)\n",
    "    )\n",
    "    pcd_tmp_tmp = pcd_tmp[indices]\n",
    "    pcd_tmp_tmpc = pcd_tmpc[indices]\n",
    "\n",
    "    filtered = o3d.geometry.PointCloud()\n",
    "    filtered.points = o3d.utility.Vector3dVector(pcd_tmp_tmp)\n",
    "    filtered.colors = o3d.utility.Vector3dVector(pcd_tmp_tmpc)\n",
    "\n",
    "    final_pcd = filtered\n",
    "\n",
    "    plane_x = create_grid_on_plane(thresh_x, \"x\", [1, 0, 0])  # red color for x plane\n",
    "    plane_y = create_grid_on_plane(thresh_y, \"y\", [0, 1, 0])  # green color for y plane\n",
    "    plane_z = create_grid_on_plane(thresh_z, \"z\", [0, 0, 1])  # blue color for z plane\n",
    "\n",
    "    plane_x_dup = create_grid_on_plane(\n",
    "        thresh_x_dup, \"x\", [1, 0, 0]\n",
    "    )  \n",
    "    plane_y_dup = create_grid_on_plane(\n",
    "        thresh_y_dup, \"y\", [0, 1, 0]\n",
    "    )  \n",
    "    \n",
    "    centroid = np.mean(np.asarray(pcd.points), axis=0)\n",
    "    centroid_frame = o3d.geometry.TriangleMesh.create_coordinate_frame(size=1, origin=centroid)\n",
    "\n",
    "    ## visualise origin pt\n",
    "    origin = o3d.geometry.TriangleMesh.create_coordinate_frame(size=1, origin=[0, 0, 0])\n",
    "    o3d.visualization.draw_geometries(\n",
    "        [final_pcd, origin, plane_x, plane_y, plane_z, plane_x_dup, plane_y_dup]\n",
    "    )\n",
    "\n",
    "\n",
    "def save_pcd(b):\n",
    "    if final_pcd is not None:\n",
    "        o3d.io.write_point_cloud(\"final.ply\", final_pcd)\n",
    "        print(\"Point cloud saved!\")\n",
    "    else:\n",
    "        print(\"No point cloud to save.\")\n",
    "\n",
    "\n",
    "save_button = Button(description=\"Save point cloud\")\n",
    "save_button.on_click(save_pcd)\n",
    "\n",
    "slider_x = FloatSlider(min=min_x, max=max_x, step=0.001, value=-0.8, description=\"x\")\n",
    "text_x = FloatText(value=min_x, description=\"x\")\n",
    "link((slider_x, \"value\"), (text_x, \"value\"))\n",
    "\n",
    "slider_x_dup = FloatSlider(\n",
    "    min=min_x, max=max_x, step=0.001, value=0.8, description=\"x_dup\"\n",
    ")\n",
    "text_x_dup = FloatText(value=max_x, description=\"x_dup\")\n",
    "link((slider_x_dup, \"value\"), (text_x_dup, \"value\"))\n",
    "\n",
    "slider_y = FloatSlider(min=min_y, max=max_y, step=0.001, value=-0.8, description=\"y\")\n",
    "text_y = FloatText(value=min_y, description=\"y\")\n",
    "link((slider_y, \"value\"), (text_y, \"value\"))\n",
    "\n",
    "slider_y_dup = FloatSlider(\n",
    "    min=min_y, max=max_y, step=0.001, value=0.8, description=\"y_dup\"\n",
    ")\n",
    "text_y_dup = FloatText(value=max_y, description=\"y_dup\")\n",
    "link((slider_y_dup, \"value\"), (text_y_dup, \"value\"))\n",
    "\n",
    "slider_z = FloatSlider(min=min_z, max=max_z, step=0.001, value=0.0, description=\"z\")\n",
    "text_z = FloatText(value=min_z, description=\"z\")\n",
    "link((slider_z, \"value\"), (text_z, \"value\"))\n",
    "\n",
    "interactive(\n",
    "    view_and_adjust_threshold,\n",
    "    thresh_x=slider_x,\n",
    "    thresh_x_dup=slider_x_dup,\n",
    "    thresh_y=slider_y,\n",
    "    thresh_y_dup=slider_y_dup,\n",
    "    thresh_z=slider_z,\n",
    ")\n",
    "\n",
    "display(text_x, text_x_dup, text_y, text_y_dup, text_z, interact, save_button)"
   ]
  },
  {
   "cell_type": "code",
   "execution_count": null,
   "metadata": {},
   "outputs": [],
   "source": [
    "pcd = copy.deepcopy(final_pcd)\n",
    "o3d.visualization.draw_geometries([pcd])"
   ]
  },
  {
   "cell_type": "code",
   "execution_count": null,
   "metadata": {},
   "outputs": [],
   "source": [
    "# pcd.estimate_normals(search_param=o3d.geometry.KDTreeSearchParamHybrid(radius=0.5, max_nn=50))\n",
    "\n",
    "# Extract the Z values from the point cloud\n",
    "z_values = np.asarray(pcd.points)[:, 2]\n",
    "\n",
    "# Compute the 90th percentile of the Z values for plane segmentation\n",
    "z_90th_percentile = np.percentile(z_values, 90)\n",
    "z_min = z_values.min()\n",
    "alpha = 0.01\n",
    "distance_threshold = alpha * (z_90th_percentile - z_min)\n",
    "\n",
    "# Apply plane segmentation to identify potential ground points\n",
    "plane_model, inliers = pcd.segment_plane(distance_threshold=distance_threshold, ransac_n=3, num_iterations=1000)\n",
    "\n",
    "# From the identified ground points, find the minimum Z value\n",
    "ground_z_min = np.asarray(pcd.select_by_index(inliers).points)[:, 2].min()\n",
    "\n",
    "# Set a height threshold above the identified floor\n",
    "height_threshold = 0.02  # 2 centimeters\n",
    "\n",
    "# Identify points that are inliers and below the height threshold\n",
    "to_remove = [i for i in inliers if z_values[i] < ground_z_min + height_threshold]\n",
    "\n",
    "# Remove the identified points to retain the details of the feet\n",
    "pcd = pcd.select_by_index(to_remove, invert=True)\n",
    "\n",
    "# Visualize the result\n",
    "o3d.visualization.draw_geometries([pcd])\n"
   ]
  },
  {
   "cell_type": "code",
   "execution_count": null,
   "metadata": {},
   "outputs": [],
   "source": [
    "# def region_growing_segmentation(pcd, initial_inliers, height_threshold=0.02, radius=0.05):\n",
    "#     \"\"\"\n",
    "#     Perform region growing segmentation based on initial ground points.\n",
    "    \n",
    "#     Parameters:\n",
    "#     - pcd: The point cloud.\n",
    "#     - initial_inliers: List of initial ground points (from plane segmentation).\n",
    "#     - height_threshold: Maximum height difference to consider a point as ground.\n",
    "#     - radius: Radius for neighbor search.\n",
    "    \n",
    "#     Returns:\n",
    "#     - ground_points: List of all ground points after region growing.\n",
    "#     \"\"\"\n",
    "    \n",
    "#     # Convert points to numpy array\n",
    "#     points = np.asarray(pcd.points)\n",
    "    \n",
    "#     # Initialize the KD-tree for efficient neighbor search\n",
    "#     kdtree = o3d.geometry.KDTreeFlann(pcd)\n",
    "    \n",
    "#     # Set of all ground points\n",
    "#     ground_points = set(initial_inliers)\n",
    "    \n",
    "#     # Points to be checked\n",
    "#     to_check = set(initial_inliers)\n",
    "    \n",
    "#     while to_check:\n",
    "#         # Take a point from the set\n",
    "#         point_idx = to_check.pop()\n",
    "        \n",
    "#         # Find neighbors of the point within the given radius\n",
    "#         _, idx_neighbors, _ = kdtree.search_radius_vector_3d(points[point_idx], radius)\n",
    "        \n",
    "#         for idx in idx_neighbors:\n",
    "#             # If the point is close enough in height and hasn't been considered yet\n",
    "#             if abs(points[idx, 2] - points[point_idx, 2]) < height_threshold and idx not in ground_points:\n",
    "#                 ground_points.add(idx)\n",
    "#                 to_check.add(idx)\n",
    "    \n",
    "#     return list(ground_points)\n",
    "\n",
    "# # Use initial plane segmentation to get starting inliers\n",
    "# initial_inliers = inliers\n",
    "\n",
    "# # Apply region growing segmentation\n",
    "# all_ground_points = region_growing_segmentation(pcd, initial_inliers)\n",
    "\n",
    "# # Visualize the result after removing the identified ground\n",
    "# pcd_without_ground = pcd.select_by_index(all_ground_points, invert=True)\n",
    "# o3d.visualization.draw_geometries([pcd_without_ground])\n"
   ]
  },
  {
   "cell_type": "markdown",
   "metadata": {},
   "source": [
    "# Preprocessing"
   ]
  },
  {
   "cell_type": "code",
   "execution_count": null,
   "metadata": {},
   "outputs": [],
   "source": [
    "# def bounding_box_minor(pcd: o3d.cpu.pybind.geometry.PointCloud) -> None:\n",
    "#     '''\n",
    "#     Cleans the floor??\n",
    "    \n",
    "#     Brain no work \n",
    "    \n",
    "#     '''\n",
    "    \n",
    "#     # Create bounding box:\n",
    "#     bounds = [[-math.inf, math.inf], [-math.inf, math.inf], [0, 0.0458]]  # set the bounds\n",
    "    \n",
    "#     bounding_box_points = list(itertools.product(*bounds))  # create limit points\n",
    "#     bounding_box = o3d.geometry.AxisAlignedBoundingBox.create_from_points(\n",
    "#         o3d.utility.Vector3dVector(bounding_box_points))  # create bounding box object\n",
    "    \n",
    "#     _, inliers = pcd.segment_plane(distance_threshold=0.01,\n",
    "#                                           ransac_n=3,\n",
    "#                                           num_iterations=1000)\n",
    "#     plane = pcd.select_by_index(inliers)\n",
    "#     pcd = pcd.select_by_index(inliers, invert=True)\n",
    "    \n",
    "#     # Crop the point cloud using the bounding box:\n",
    "#     pcd_croped = pcd.crop(bounding_box)\n",
    "#     dists = np.asarray(pcd.compute_point_cloud_distance(pcd_croped))\n",
    "#     indices = np.where(dists > 0.01)[0]\n",
    "#     pcd_cropped_inv = pcd.select_by_index(indices)\n",
    "\n",
    "#     # Display the cropped point cloud:\n",
    "#     o3d.visualization.draw_geometries([pcd_cropped_inv])\n",
    "        \n",
    "#     return pcd_cropped_inv\n",
    "\n",
    "\n",
    "def downsample_clean(pcd: o3d.cpu.pybind.geometry.PointCloud) -> None:\n",
    "    '''\n",
    "    Performs downsampling, outlier removal and bounding box removal\n",
    "    \n",
    "    Args:\n",
    "        pcd (o3d.cpu.pybind.geometry.PointCloud): PointCloud object\n",
    "    \n",
    "    Returns:\n",
    "        type: None \n",
    "    '''\n",
    "\n",
    "    # voxel downsampling: reducing overall num of pts\n",
    "    voxel_size = 0.01\n",
    "    downsampled = pcd.voxel_down_sample(voxel_size) \n",
    "    \n",
    "    # outlier cleaning\n",
    "    _, ind = downsampled.remove_statistical_outlier(nb_neighbors=100, std_ratio=2.0)\n",
    "    cleaned_pcd = downsampled.select_by_index(ind)\n",
    "    \n",
    "    # minimal bounding box\n",
    "    # pcd = bounding_box_minor(cleaned_pcd)\n",
    "\n",
    "    # # paint removal parts\n",
    "    epsilon = 0.01\n",
    "    points = np.asarray(pcd.points)\n",
    "    indices = np.where(np.abs(points[:, 2] < epsilon))[0]\n",
    "    \n",
    "    pcd_in_color = pcd.select_by_index(indices)\n",
    "    pcd_in_color.paint_uniform_color([1,1,0])\n",
    "    pcd = pcd.select_by_index(indices, invert=True)\n",
    "    \n",
    "    o3d.visualization.draw_geometries([pcd])\n",
    "\n",
    "    return pcd\n",
    "\n",
    "def isolateLargestCluster(\n",
    "    pcd: o3d.cpu.pybind.geometry.PointCloud, labels: np.ndarray\n",
    ") -> None:\n",
    "    \"\"\"\n",
    "    Uses DBSCAN to group and isolate the largest point cloud\n",
    "\n",
    "    Args:\n",
    "        pcd (o3d.cpu.pybind.geometry.PointCloud): PointCloud object\n",
    "        labels (np.ndarray): Array of clusters identified by labels\n",
    "\n",
    "    Returns:\n",
    "        type: o3d.cpu.pybind.geometry.PointCloud\n",
    "    \"\"\"\n",
    "\n",
    "    # finding the label of largest cluster + ignoring noisy points labeled -1\n",
    "    counts = Counter(labels)\n",
    "    largest_cluster_label = max(\n",
    "        counts.items(), key=lambda x: x[1] if x[0] != -1 else -1\n",
    "    )[0]\n",
    "\n",
    "    # get all pts / colors of largest cluster\n",
    "    largest_cluster_points = np.array(pcd.points)[labels == largest_cluster_label]\n",
    "    largest_cluster_colors = np.array(pcd.colors)[labels == largest_cluster_label]\n",
    "\n",
    "    # new point cloud from the largest cluster pts w/ colors\n",
    "    largest_cluster_pcd = o3d.geometry.PointCloud()\n",
    "    largest_cluster_pcd.points = o3d.utility.Vector3dVector(largest_cluster_points)\n",
    "    largest_cluster_pcd.colors = o3d.utility.Vector3dVector(largest_cluster_colors)\n",
    "\n",
    "    return largest_cluster_pcd\n",
    "\n",
    "pcd = downsample_clean(pcd)\n",
    "labels = np.array(pcd.cluster_dbscan(eps=0.05, min_points=3, print_progress=True))\n",
    "pcd = isolateLargestCluster(pcd, labels)\n",
    "o3d.visualization.draw_geometries([pcd])\n"
   ]
  },
  {
   "cell_type": "code",
   "execution_count": null,
   "metadata": {},
   "outputs": [
    {
     "name": "stdout",
     "output_type": "stream",
     "text": [
      "Point cloud saved!\n"
     ]
    }
   ],
   "source": [
    "if pcd is not None:\n",
    "    o3d.io.write_point_cloud(\"./abi-scan-cleaned/\" + output_file_name, pcd)\n",
    "    print(\"Point cloud saved!\")\n",
    "else:\n",
    "    print(\"No point cloud to save.\")"
   ]
  },
  {
   "cell_type": "code",
   "execution_count": null,
   "metadata": {},
   "outputs": [],
   "source": []
  },
  {
   "cell_type": "code",
   "execution_count": null,
   "metadata": {},
   "outputs": [],
   "source": []
  }
 ],
 "metadata": {
  "kernelspec": {
   "display_name": "dslab",
   "language": "python",
   "name": "dslab"
  },
  "language_info": {
   "codemirror_mode": {
    "name": "ipython",
    "version": 3
   },
   "file_extension": ".py",
   "mimetype": "text/x-python",
   "name": "python",
   "nbconvert_exporter": "python",
   "pygments_lexer": "ipython3",
   "version": "3.8.16"
  }
 },
 "nbformat": 4,
 "nbformat_minor": 2
}

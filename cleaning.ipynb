{
 "cells": [
  {
   "cell_type": "code",
   "execution_count": 19,
   "metadata": {},
   "outputs": [],
   "source": [
    "import numpy as np\n",
    "import open3d as o3d\n",
    "import pathlib\n",
    "import math\n",
    "import itertools"
   ]
  },
  {
   "attachments": {},
   "cell_type": "markdown",
   "metadata": {},
   "source": [
    "## Loading in Point cloud data"
   ]
  },
  {
   "cell_type": "code",
   "execution_count": 20,
   "metadata": {},
   "outputs": [
    {
     "name": "stdout",
     "output_type": "stream",
     "text": [
      "PLY file loaded\n"
     ]
    }
   ],
   "source": [
    "# Load ply file\n",
    "path = \"./data/P002 2022-01-25 01_24_48.ply\"\n",
    "\n",
    "if pathlib.Path(path).exists():\n",
    "    pcd = o3d.io.read_point_cloud(path)\n",
    "    print('PLY file loaded')\n",
    "else:\n",
    "    raise FileNotFoundError(\"FILE NOT FOUND, TRY AGAIN!\")"
   ]
  },
  {
   "cell_type": "code",
   "execution_count": 21,
   "metadata": {},
   "outputs": [
    {
     "name": "stdout",
     "output_type": "stream",
     "text": [
      "['HalfEdgeTriangleMesh', 'Image', 'LineSet', 'PointCloud', 'RGBDImage', 'TetraMesh', 'TriangleMesh', 'Type', 'Unspecified', 'VoxelGrid', '__add__', '__class__', '__copy__', '__deepcopy__', '__delattr__', '__dir__', '__doc__', '__eq__', '__format__', '__ge__', '__getattribute__', '__gt__', '__hash__', '__iadd__', '__init__', '__init_subclass__', '__le__', '__lt__', '__module__', '__ne__', '__new__', '__reduce__', '__reduce_ex__', '__repr__', '__setattr__', '__sizeof__', '__str__', '__subclasshook__', 'clear', 'cluster_dbscan', 'colors', 'compute_convex_hull', 'compute_mahalanobis_distance', 'compute_mean_and_covariance', 'compute_nearest_neighbor_distance', 'compute_point_cloud_distance', 'covariances', 'create_from_depth_image', 'create_from_rgbd_image', 'crop', 'detect_planar_patches', 'dimension', 'estimate_covariances', 'estimate_normals', 'estimate_point_covariances', 'farthest_point_down_sample', 'get_axis_aligned_bounding_box', 'get_center', 'get_geometry_type', 'get_max_bound', 'get_min_bound', 'get_minimal_oriented_bounding_box', 'get_oriented_bounding_box', 'get_rotation_matrix_from_axis_angle', 'get_rotation_matrix_from_quaternion', 'get_rotation_matrix_from_xyz', 'get_rotation_matrix_from_xzy', 'get_rotation_matrix_from_yxz', 'get_rotation_matrix_from_yzx', 'get_rotation_matrix_from_zxy', 'get_rotation_matrix_from_zyx', 'has_colors', 'has_covariances', 'has_normals', 'has_points', 'hidden_point_removal', 'is_empty', 'normalize_normals', 'normals', 'orient_normals_consistent_tangent_plane', 'orient_normals_to_align_with_direction', 'orient_normals_towards_camera_location', 'paint_uniform_color', 'points', 'random_down_sample', 'remove_duplicated_points', 'remove_non_finite_points', 'remove_radius_outlier', 'remove_statistical_outlier', 'rotate', 'scale', 'segment_plane', 'select_by_index', 'transform', 'translate', 'uniform_down_sample', 'voxel_down_sample', 'voxel_down_sample_and_trace']\n"
     ]
    }
   ],
   "source": [
    "# PLY file info\n",
    "print(dir(pcd))"
   ]
  },
  {
   "cell_type": "code",
   "execution_count": 22,
   "metadata": {},
   "outputs": [
    {
     "name": "stdout",
     "output_type": "stream",
     "text": [
      "Shape of points (251759, 3)\n",
      "Shape of colors (251759, 3)\n"
     ]
    }
   ],
   "source": [
    "print('Shape of points', np.asarray(pcd.points).shape)\n",
    "print('Shape of colors', np.asarray(pcd.colors).shape)"
   ]
  },
  {
   "attachments": {},
   "cell_type": "markdown",
   "metadata": {},
   "source": [
    "# Preprocessing"
   ]
  },
  {
   "cell_type": "code",
   "execution_count": 23,
   "metadata": {},
   "outputs": [
    {
     "name": "stdout",
     "output_type": "stream",
     "text": [
      "[Open3D WARNING] GLFW Error: WGL: Failed to make context current: The requested transformation operation is not supported. \n"
     ]
    },
    {
     "ename": "TypeError",
     "evalue": "draw_geometries(): incompatible function arguments. The following argument types are supported:\n    1. (geometry_list: List[open3d.cpu.pybind.geometry.Geometry], window_name: str = 'Open3D', width: int = 1920, height: int = 1080, left: int = 50, top: int = 50, point_show_normal: bool = False, mesh_show_wireframe: bool = False, mesh_show_back_face: bool = False) -> None\n    2. (geometry_list: List[open3d.cpu.pybind.geometry.Geometry], window_name: str = 'Open3D', width: int = 1920, height: int = 1080, left: int = 50, top: int = 50, point_show_normal: bool = False, mesh_show_wireframe: bool = False, mesh_show_back_face: bool = False, lookat: numpy.ndarray[numpy.float64[3, 1]], up: numpy.ndarray[numpy.float64[3, 1]], front: numpy.ndarray[numpy.float64[3, 1]], zoom: float) -> None\n\nInvoked with: [PointCloud with 19640 points., array([[-0.40546346, -0.14839208,  1.05951929],\n       [ 0.15353656, -0.15314204,  0.99951929],\n       [-0.06133839, -0.01839203,  1.07951933],\n       ...,\n       [ 0.62553656,  0.40660805,  0.49851933],\n       [ 0.61753666,  0.41360801,  0.50126934],\n       [ 0.62553656,  0.41535801,  0.49951935]])]; kwargs: window_name='z index floor'",
     "output_type": "error",
     "traceback": [
      "\u001b[1;31m---------------------------------------------------------------------------\u001b[0m",
      "\u001b[1;31mTypeError\u001b[0m                                 Traceback (most recent call last)",
      "\u001b[1;32mc:\\Users\\Bane6\\Desktop\\P4P\\cleaning.ipynb Cell 7\u001b[0m in \u001b[0;36m<cell line: 167>\u001b[1;34m()\u001b[0m\n\u001b[0;32m    <a href='vscode-notebook-cell:/c%3A/Users/Bane6/Desktop/P4P/cleaning.ipynb#W6sZmlsZQ%3D%3D?line=163'>164</a>\u001b[0m inlier \u001b[39m=\u001b[39m process\u001b[39m.\u001b[39mdownsample_clean(pcd_in_bbox)\n\u001b[0;32m    <a href='vscode-notebook-cell:/c%3A/Users/Bane6/Desktop/P4P/cleaning.ipynb#W6sZmlsZQ%3D%3D?line=164'>165</a>\u001b[0m process\u001b[39m.\u001b[39mvisualise(inlier)\n\u001b[1;32m--> <a href='vscode-notebook-cell:/c%3A/Users/Bane6/Desktop/P4P/cleaning.ipynb#W6sZmlsZQ%3D%3D?line=166'>167</a>\u001b[0m cropped \u001b[39m=\u001b[39m process\u001b[39m.\u001b[39;49mminMaxView(inlier)\n\u001b[0;32m    <a href='vscode-notebook-cell:/c%3A/Users/Bane6/Desktop/P4P/cleaning.ipynb#W6sZmlsZQ%3D%3D?line=167'>168</a>\u001b[0m process\u001b[39m.\u001b[39mvisualise(cropped)\n",
      "\u001b[1;32mc:\\Users\\Bane6\\Desktop\\P4P\\cleaning.ipynb Cell 7\u001b[0m in \u001b[0;36mPreProcessing.minMaxView\u001b[1;34m(self, pcd)\u001b[0m\n\u001b[0;32m     <a href='vscode-notebook-cell:/c%3A/Users/Bane6/Desktop/P4P/cleaning.ipynb#W6sZmlsZQ%3D%3D?line=35'>36</a>\u001b[0m pcd \u001b[39m=\u001b[39m pcd\u001b[39m.\u001b[39mselect_by_index(indices, invert\u001b[39m=\u001b[39m\u001b[39mTrue\u001b[39;00m)\n\u001b[0;32m     <a href='vscode-notebook-cell:/c%3A/Users/Bane6/Desktop/P4P/cleaning.ipynb#W6sZmlsZQ%3D%3D?line=36'>37</a>\u001b[0m \u001b[39m# pcd.colors = o3d.utility.Vector3dVector(pcd)\u001b[39;00m\n\u001b[0;32m     <a href='vscode-notebook-cell:/c%3A/Users/Bane6/Desktop/P4P/cleaning.ipynb#W6sZmlsZQ%3D%3D?line=37'>38</a>\u001b[0m \u001b[39m# colors = np.zeros(points.shape)\u001b[39;00m\n\u001b[0;32m     <a href='vscode-notebook-cell:/c%3A/Users/Bane6/Desktop/P4P/cleaning.ipynb#W6sZmlsZQ%3D%3D?line=38'>39</a>\u001b[0m \u001b[39m# colors[indices] = BLUE\u001b[39;00m\n\u001b[1;32m---> <a href='vscode-notebook-cell:/c%3A/Users/Bane6/Desktop/P4P/cleaning.ipynb#W6sZmlsZQ%3D%3D?line=40'>41</a>\u001b[0m \u001b[39mself\u001b[39;49m\u001b[39m.\u001b[39;49mvisualise(pcd, points, windowName\u001b[39m=\u001b[39;49m\u001b[39m\"\u001b[39;49m\u001b[39mz index floor\u001b[39;49m\u001b[39m\"\u001b[39;49m)\n\u001b[0;32m     <a href='vscode-notebook-cell:/c%3A/Users/Bane6/Desktop/P4P/cleaning.ipynb#W6sZmlsZQ%3D%3D?line=42'>43</a>\u001b[0m \u001b[39m# print(colors) \u001b[39;00m\n\u001b[0;32m     <a href='vscode-notebook-cell:/c%3A/Users/Bane6/Desktop/P4P/cleaning.ipynb#W6sZmlsZQ%3D%3D?line=43'>44</a>\u001b[0m \n\u001b[0;32m     <a href='vscode-notebook-cell:/c%3A/Users/Bane6/Desktop/P4P/cleaning.ipynb#W6sZmlsZQ%3D%3D?line=44'>45</a>\u001b[0m \n\u001b[1;32m   (...)\u001b[0m\n\u001b[0;32m     <a href='vscode-notebook-cell:/c%3A/Users/Bane6/Desktop/P4P/cleaning.ipynb#W6sZmlsZQ%3D%3D?line=84'>85</a>\u001b[0m \u001b[39m# # Display:\u001b[39;00m\n\u001b[0;32m     <a href='vscode-notebook-cell:/c%3A/Users/Bane6/Desktop/P4P/cleaning.ipynb#W6sZmlsZQ%3D%3D?line=85'>86</a>\u001b[0m \u001b[39m# o3d.visualization.draw_geometries([pcd, origin])\u001b[39;00m\n\u001b[0;32m     <a href='vscode-notebook-cell:/c%3A/Users/Bane6/Desktop/P4P/cleaning.ipynb#W6sZmlsZQ%3D%3D?line=87'>88</a>\u001b[0m \u001b[39mreturn\u001b[39;00m pcd\n",
      "\u001b[1;32mc:\\Users\\Bane6\\Desktop\\P4P\\cleaning.ipynb Cell 7\u001b[0m in \u001b[0;36mPreProcessing.visualise\u001b[1;34m(self, windowName, *args)\u001b[0m\n\u001b[0;32m    <a href='vscode-notebook-cell:/c%3A/Users/Bane6/Desktop/P4P/cleaning.ipynb#W6sZmlsZQ%3D%3D?line=153'>154</a>\u001b[0m \u001b[39mdef\u001b[39;00m \u001b[39mvisualise\u001b[39m(\u001b[39mself\u001b[39m, \u001b[39m*\u001b[39margs, windowName\u001b[39m=\u001b[39m\u001b[39m\"\u001b[39m\u001b[39mPoint Cloud\u001b[39m\u001b[39m\"\u001b[39m):\n\u001b[0;32m    <a href='vscode-notebook-cell:/c%3A/Users/Bane6/Desktop/P4P/cleaning.ipynb#W6sZmlsZQ%3D%3D?line=154'>155</a>\u001b[0m     \u001b[39m# drawing\u001b[39;00m\n\u001b[1;32m--> <a href='vscode-notebook-cell:/c%3A/Users/Bane6/Desktop/P4P/cleaning.ipynb#W6sZmlsZQ%3D%3D?line=155'>156</a>\u001b[0m     o3d\u001b[39m.\u001b[39;49mvisualization\u001b[39m.\u001b[39;49mdraw_geometries(\n\u001b[0;32m    <a href='vscode-notebook-cell:/c%3A/Users/Bane6/Desktop/P4P/cleaning.ipynb#W6sZmlsZQ%3D%3D?line=156'>157</a>\u001b[0m         [\u001b[39m*\u001b[39;49margs], \n\u001b[0;32m    <a href='vscode-notebook-cell:/c%3A/Users/Bane6/Desktop/P4P/cleaning.ipynb#W6sZmlsZQ%3D%3D?line=157'>158</a>\u001b[0m         window_name\u001b[39m=\u001b[39;49mwindowName\n\u001b[0;32m    <a href='vscode-notebook-cell:/c%3A/Users/Bane6/Desktop/P4P/cleaning.ipynb#W6sZmlsZQ%3D%3D?line=158'>159</a>\u001b[0m     )\n",
      "\u001b[1;31mTypeError\u001b[0m: draw_geometries(): incompatible function arguments. The following argument types are supported:\n    1. (geometry_list: List[open3d.cpu.pybind.geometry.Geometry], window_name: str = 'Open3D', width: int = 1920, height: int = 1080, left: int = 50, top: int = 50, point_show_normal: bool = False, mesh_show_wireframe: bool = False, mesh_show_back_face: bool = False) -> None\n    2. (geometry_list: List[open3d.cpu.pybind.geometry.Geometry], window_name: str = 'Open3D', width: int = 1920, height: int = 1080, left: int = 50, top: int = 50, point_show_normal: bool = False, mesh_show_wireframe: bool = False, mesh_show_back_face: bool = False, lookat: numpy.ndarray[numpy.float64[3, 1]], up: numpy.ndarray[numpy.float64[3, 1]], front: numpy.ndarray[numpy.float64[3, 1]], zoom: float) -> None\n\nInvoked with: [PointCloud with 19640 points., array([[-0.40546346, -0.14839208,  1.05951929],\n       [ 0.15353656, -0.15314204,  0.99951929],\n       [-0.06133839, -0.01839203,  1.07951933],\n       ...,\n       [ 0.62553656,  0.40660805,  0.49851933],\n       [ 0.61753666,  0.41360801,  0.50126934],\n       [ 0.62553656,  0.41535801,  0.49951935]])]; kwargs: window_name='z index floor'"
     ]
    }
   ],
   "source": [
    "class PreProcessing:\n",
    "    def __init__(self, voxelSize=0.01, itera=10000):\n",
    "        self.voxelSize = voxelSize\n",
    "        self.itera = itera\n",
    "    \n",
    "    def minMaxView(self, pcd):\n",
    "        '''\n",
    "        used to visualise the min/max points in each respective axes\n",
    "        '''\n",
    "        \n",
    "        # Colors:\n",
    "        RED = [1., 0., 0.]\n",
    "        GREEN = [0., 1., 0.]\n",
    "        BLUE = [0., 0., 1.]\n",
    "        YELLOW = [1., 1., 0.]\n",
    "        MAGENTA = [1., 0., 1.]\n",
    "        CYAN = [0., 1., 1.]\n",
    "        \n",
    "        # create 3d coordinate system\n",
    "        origin = o3d.geometry.TriangleMesh.create_coordinate_frame(size=0.5)\n",
    "        \n",
    "        # Get max and min points of each axis x, y and z:\n",
    "        x_max, x_min = max(pcd.points, key=lambda x: x[0]), min(pcd.points, key=lambda x: x[0])\n",
    "        y_max, y_min = max(pcd.points, key=lambda x: x[1]), min(pcd.points, key=lambda x: x[1])\n",
    "        z_max, z_min = max(pcd.points, key=lambda x: x[2]), min(pcd.points, key=lambda x: x[2])\n",
    "\n",
    "        # floor cleaning\n",
    "        pcd = self.bounding_box_minor(pcd)\n",
    "        self.visualise(pcd, windowName=\"bounding box minor\")\n",
    "\n",
    "        # paint the floor as 0\n",
    "        epsilon = 0.05\n",
    "        points = np.asarray(pcd.points)\n",
    "        indices = np.where(np.abs(points[:, 2] < epsilon))[0]\n",
    "        \n",
    "        pcd = pcd.select_by_index(indices, invert=True)\n",
    "        # pcd.colors = o3d.utility.Vector3dVector(pcd)\n",
    "        # colors = np.zeros(points.shape)\n",
    "        # colors[indices] = BLUE\n",
    "        \n",
    "        self.visualise(pcd, points, windowName=\"z index floor\")\n",
    "        \n",
    "        # print(colors) \n",
    "        \n",
    "        \n",
    "        # positions = [x_max, y_max, z_max, x_min, y_min, z_min]\n",
    "        # geometries = [pcd, origin]\n",
    "        # colors = [RED, GREEN, BLUE, MAGENTA, YELLOW, CYAN]\n",
    "        # for i in range(len(positions)):\n",
    "        #     # Create a sphere mesh:\n",
    "        #     sphere = o3d.geometry.TriangleMesh.create_sphere(radius=0.05)\n",
    "        #     # move to the point position:\n",
    "        #     sphere.translate(np.asarray(positions[i]))\n",
    "        #     # add color:\n",
    "        #     sphere.paint_uniform_color(np.asarray(colors[i]))\n",
    "        #     # compute normals for vertices or faces:\n",
    "        #     sphere.compute_vertex_normals()\n",
    "        #     # add to geometry list to display later:\n",
    "        #     geometries.append(sphere)\n",
    "\n",
    "        # Display:\n",
    "        # o3d.visualization.draw_geometries(pcd)\n",
    "        \n",
    "        # ########################\n",
    "        # # Define a threshold:\n",
    "        # THRESHOLD = 0.1\n",
    "\n",
    "        # # Get the max value along the y-axis:\n",
    "        # y_max = max(pcd.points, key=lambda x: x[1])[1]\n",
    "\n",
    "        # # Get the original points color to be updated:\n",
    "        # pcd_colors = np.asarray(pcd.colors)\n",
    "\n",
    "        # # Number of points:\n",
    "        # n_points = pcd_colors.shape[0]\n",
    "\n",
    "        # # update color:\n",
    "        # for i in range(n_points):\n",
    "        #     # if the current point is aground point:\n",
    "        #     if pcd.points[i][1] >= y_max - THRESHOLD:\n",
    "        #         pcd_colors[i] = RED  # color it green\n",
    "\n",
    "        # pcd.colors = o3d.utility.Vector3dVector(pcd_colors)\n",
    "\n",
    "        # # Display:\n",
    "        # o3d.visualization.draw_geometries([pcd, origin])\n",
    "        \n",
    "        return pcd\n",
    "        \n",
    "            \n",
    "    def downsample_clean(self, pcd):\n",
    "        '''\n",
    "        most of the cleaning is done here\n",
    "        '''\n",
    "         \n",
    "        # create 3d coordinate system\n",
    "        origin = o3d.geometry.TriangleMesh.create_coordinate_frame(size=0.5)\n",
    "        \n",
    "        # reduce total number of points\n",
    "        downsampled = pcd.voxel_down_sample(self.voxelSize) \n",
    "        self.visualise(origin, pcd)\n",
    "        \n",
    "        # outlier cleaning\n",
    "        cl, ind = downsampled.remove_statistical_outlier(nb_neighbors=100, std_ratio=2.0)\n",
    "        cleaned_pcd = downsampled.select_by_index(ind)\n",
    "        \n",
    "        # removing majority floor\n",
    "        plane_model, inliers = cleaned_pcd.segment_plane(distance_threshold=0.02, ransac_n=5, num_iterations=self.itera)\n",
    "        inlier_cloud = cleaned_pcd.select_by_index(inliers)\n",
    "        inlier_cloud.paint_uniform_color([1,0,0])\n",
    "        outlier_cloud = cleaned_pcd.select_by_index(inliers, invert=True)\n",
    "        o3d.visualization.draw_geometries([outlier_cloud, inlier_cloud])\n",
    "\n",
    "        return outlier_cloud\n",
    "    \n",
    "    def bounding_box_major(self, pcd):\n",
    "        '''\n",
    "        applying bounding box method removing majority of unwanted points\n",
    "        '''\n",
    "        \n",
    "        points = np.asarray(pcd.points)\n",
    "        \n",
    "        min_x, min_y, min_z = points.min(axis=0)[:3]\n",
    "        max_x, max_y, max_z = points.max(axis=0)[:3]\n",
    "\n",
    "        padding = 0.53\n",
    "        bbox = o3d.geometry.AxisAlignedBoundingBox(min_bound=(padding*min_x, padding*min_y ,min_z ), max_bound=(padding*max_x, padding*max_y, max_z))\n",
    "\n",
    "        # Select points within the bounding box\n",
    "        pcd_in_bbox = pcd.crop(bbox)\n",
    "        \n",
    "        return pcd_in_bbox\n",
    "\n",
    "    def bounding_box_minor(self, pcd):\n",
    "        # Create bounding box:\n",
    "        bounds = [[-math.inf, math.inf], [-math.inf, math.inf], [0, 0.0458]]  # set the bounds\n",
    "        \n",
    "        bounding_box_points = list(itertools.product(*bounds))  # create limit points\n",
    "        bounding_box = o3d.geometry.AxisAlignedBoundingBox.create_from_points(\n",
    "            o3d.utility.Vector3dVector(bounding_box_points))  # create bounding box object\n",
    "        \n",
    "        # Crop the point cloud using the bounding box:\n",
    "        pcd_croped = pcd.crop(bounding_box)\n",
    "        dists = np.asarray(pcd.compute_point_cloud_distance(pcd_croped))\n",
    "        indices = np.where(dists > 0.000001)[0]\n",
    "        pcd_cropped_inv = pcd.select_by_index(indices)\n",
    "\n",
    "        # Display the cropped point cloud:\n",
    "        self.visualise(pcd_croped, windowName=\"pcd cropped\")\n",
    "        self.visualise(pcd_cropped_inv, windowName=\"pcd cropped inverse\")\n",
    "        \n",
    "        return pcd_cropped_inv\n",
    "    \n",
    "    def visualise(self, *args, windowName=\"Point Cloud\"):\n",
    "        # drawing\n",
    "        o3d.visualization.draw_geometries(\n",
    "            [*args], \n",
    "            window_name=windowName\n",
    "        )\n",
    "\n",
    "process = PreProcessing()\n",
    "pcd_in_bbox = process.bounding_box_major(pcd)\n",
    "\n",
    "inlier = process.downsample_clean(pcd_in_bbox)\n",
    "process.visualise(inlier)\n",
    "\n",
    "cropped = process.minMaxView(inlier)\n",
    "process.visualise(cropped)"
   ]
  }
 ],
 "metadata": {
  "kernelspec": {
   "display_name": "Python 3",
   "language": "python",
   "name": "python3"
  },
  "language_info": {
   "codemirror_mode": {
    "name": "ipython",
    "version": 3
   },
   "file_extension": ".py",
   "mimetype": "text/x-python",
   "name": "python",
   "nbconvert_exporter": "python",
   "pygments_lexer": "ipython3",
   "version": "3.8.13"
  }
 },
 "nbformat": 4,
 "nbformat_minor": 2
}

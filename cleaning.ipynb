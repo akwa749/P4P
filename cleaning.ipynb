{
 "cells": [
  {
   "cell_type": "code",
   "execution_count": 2,
   "metadata": {},
   "outputs": [
    {
     "name": "stdout",
     "output_type": "stream",
     "text": [
      "Jupyter environment detected. Enabling Open3D WebVisualizer.\n",
      "[Open3D INFO] WebRTC GUI backend enabled.\n",
      "[Open3D INFO] WebRTCWindowSystem: HTTP handshake server disabled.\n"
     ]
    }
   ],
   "source": [
    "import numpy as np\n",
    "import open3d as o3d\n",
    "import pathlib\n",
    "import sys\n",
    "import math\n",
    "import itertools\n",
    "import matplotlib.pyplot as plt\n",
    "import copy\n",
    "\n",
    "from collections import Counter"
   ]
  },
  {
   "attachments": {},
   "cell_type": "markdown",
   "metadata": {},
   "source": [
    "## Loading in Point cloud data\n",
    "\n",
    "UPDATE:\n",
    "- P003, P013 work successfully\n",
    "- P013, P014, P015, P017 also work successfully, but require altering z value bounding box plane; otherwise doesn't work.\n",
    "- P010, P011 doesn't work at all.\n",
    "- P005, P006 works well, but requires sacrificing small details of feet"
   ]
  },
  {
   "cell_type": "code",
   "execution_count": 42,
   "metadata": {},
   "outputs": [
    {
     "name": "stdout",
     "output_type": "stream",
     "text": [
      "PLY file loaded.\n",
      "Shape of points (247847, 3)\n",
      "Shape of colors (247847, 3)\n"
     ]
    }
   ],
   "source": [
    "# Load ply file\n",
    "path = \"./data/P010 2022-01-25 01_36_50.ply\"\n",
    "\n",
    "def load(path: str) -> o3d.cpu.pybind.geometry.PointCloud:\n",
    "    '''\n",
    "        Loads a ply file provided a valid path with robust error checking\n",
    "        \n",
    "        Checks file path exists and is a ply file that is not empty\n",
    "        \n",
    "        Args:\n",
    "            path: string path to a .ply file\n",
    "        \n",
    "        Returns:\n",
    "            pcd: non-empty point cloud data object\n",
    "    '''\n",
    "    \n",
    "    # checks if file exists\n",
    "    if not pathlib.Path(path).exists(): \n",
    "        raise FileNotFoundError(\"File not found.\")\n",
    "    \n",
    "    # checking correct file format\n",
    "    if pathlib.Path(path).suffix != '.ply':\n",
    "        raise ValueError(f\"Expected a .ply file, got {pathlib.Path(path).suffix}\")\n",
    "    \n",
    "    # check if file is not empty\n",
    "    if pathlib.Path(path).stat().st_size == 0:\n",
    "        raise ValueError(\"File is empty.\")\n",
    "    \n",
    "    pcd = o3d.io.read_point_cloud(path)\n",
    "    \n",
    "    # checks pt cloud is not empty\n",
    "    if not np.asarray(pcd.points).size:\n",
    "        raise ValueError(\"Point cloud has no points.\")\n",
    "    \n",
    "    # pts and colors must match (not too important, but mismatches may lead to incorrect results when vis or analysing)\n",
    "    if np.asarray(pcd.points).shape[0] != np.asarray(pcd.colors).shape[0]:\n",
    "        raise ValueError(\"Point cloud has mismatch between points and colors.\")\n",
    "    \n",
    "    return pcd # should pass all error cases\n",
    "\n",
    "pcd = load(path)\n",
    "\n",
    "print(\"PLY file loaded.\")\n",
    "print('Shape of points', np.asarray(pcd.points).shape)\n",
    "print('Shape of colors', np.asarray(pcd.colors).shape)"
   ]
  },
  {
   "cell_type": "code",
   "execution_count": null,
   "metadata": {},
   "outputs": [],
   "source": [
    "o3d.visualization.draw_geometries([pcd])"
   ]
  },
  {
   "cell_type": "code",
   "execution_count": null,
   "metadata": {},
   "outputs": [
    {
     "name": "stdout",
     "output_type": "stream",
     "text": [
      "point cloud has 223 clusters\n"
     ]
    }
   ],
   "source": [
    "# pcd_vis = copy.deepcopy(pcd) # need to do this to create a deep copy of pcd\n",
    "\n",
    "# def viewClustersViaColours(pcd: o3d.cpu.pybind.geometry.PointCloud) -> None:\n",
    "#     '''\n",
    "#         Visualising pcd coloured by cluster applying DBSCAN (Density-Based Spatial Clustering of Applications with Noise) algorithm\n",
    "#         Alter cluster_dbscan() params for different results\n",
    "#             eps: max dist between two samples for them to be considered same neighbourhood\n",
    "#             min_points: min number of points required to form a cluster\n",
    "#     '''\n",
    "    \n",
    "#     labels = np.array(pcd.cluster_dbscan(eps=0.03, min_points=3, print_progress=True))\n",
    "#     max_label = labels.max()\n",
    "#     print(f\"point cloud has {max_label + 1} clusters\")\n",
    "#     colors = plt.get_cmap(\"tab20\")(labels / (max_label if max_label > 0 else 1)) # avoids div error\n",
    "#     colors[labels < 0] = 0 # label=-1 indicates noise\n",
    "#     pcd.colors = o3d.utility.Vector3dVector(colors[:, :3])\n",
    "#     o3d.visualization.draw_geometries([pcd])\n",
    "\n",
    "# viewClustersViaColours(pcd_vis)"
   ]
  },
  {
   "cell_type": "code",
   "execution_count": 43,
   "metadata": {},
   "outputs": [
    {
     "data": {
      "application/vnd.jupyter.widget-view+json": {
       "model_id": "660b0962903a4079960808ada5677cb7",
       "version_major": 2,
       "version_minor": 0
      },
      "text/plain": [
       "FloatText(value=-1.2634514570236206, description='x')"
      ]
     },
     "metadata": {},
     "output_type": "display_data"
    },
    {
     "data": {
      "application/vnd.jupyter.widget-view+json": {
       "model_id": "c14bbe9303ad4d6cb5ebcbcb35a80ee0",
       "version_major": 2,
       "version_minor": 0
      },
      "text/plain": [
       "FloatText(value=1.3225486278533936, description='x_dup')"
      ]
     },
     "metadata": {},
     "output_type": "display_data"
    },
    {
     "data": {
      "application/vnd.jupyter.widget-view+json": {
       "model_id": "1d176a8c7a6545798faf9ec01a31a156",
       "version_major": 2,
       "version_minor": 0
      },
      "text/plain": [
       "FloatText(value=-1.425574541091919, description='y')"
      ]
     },
     "metadata": {},
     "output_type": "display_data"
    },
    {
     "data": {
      "application/vnd.jupyter.widget-view+json": {
       "model_id": "9de549cd55e948b48915cc8d533779f5",
       "version_major": 2,
       "version_minor": 0
      },
      "text/plain": [
       "FloatText(value=1.4900506734848022, description='y_dup')"
      ]
     },
     "metadata": {},
     "output_type": "display_data"
    },
    {
     "data": {
      "application/vnd.jupyter.widget-view+json": {
       "model_id": "6e754252f1b24565869c02b93e2ad7ca",
       "version_major": 2,
       "version_minor": 0
      },
      "text/plain": [
       "FloatText(value=-0.028662221506237984, description='z')"
      ]
     },
     "metadata": {},
     "output_type": "display_data"
    },
    {
     "data": {
      "text/plain": [
       "<ipywidgets.widgets.interaction._InteractFactory at 0x2723c3e67c0>"
      ]
     },
     "metadata": {},
     "output_type": "display_data"
    },
    {
     "data": {
      "application/vnd.jupyter.widget-view+json": {
       "model_id": "4ebb679fe6a040e38dec8173a35d1697",
       "version_major": 2,
       "version_minor": 0
      },
      "text/plain": [
       "Button(description='Save point cloud', style=ButtonStyle())"
      ]
     },
     "metadata": {},
     "output_type": "display_data"
    }
   ],
   "source": [
    "from ipywidgets import interact, interactive, fixed, interact_manual, Button, FloatSlider, FloatText\n",
    "from ipywidgets import jslink as link\n",
    "from IPython.display import display\n",
    "import ipywidgets as widgets\n",
    "\n",
    "# holds final state of point cloud\n",
    "final_pcd = None\n",
    "\n",
    "pcd_tmp = np.asarray(pcd.points)\n",
    "\n",
    "min_x, min_y, min_z = pcd_tmp.min(axis=0)\n",
    "max_x, max_y, max_z = pcd_tmp.max(axis=0)\n",
    "\n",
    "def create_grid_on_plane(thresh, axis, color):\n",
    "    lines = []\n",
    "    colors = []\n",
    "    for i in np.linspace(-1, 1, 10):  # Adjust these values as per your requirements\n",
    "        # vertical lines\n",
    "        start = [i, thresh, -1] if axis == 'y' else ([thresh, i, -1] if axis == 'x' else [-1, i, thresh])\n",
    "        end = [i, thresh, 1] if axis == 'y' else ([thresh, i, 1] if axis == 'x' else [1, i, thresh])\n",
    "        lines.append([start, end])\n",
    "        colors.append(color)\n",
    "        # horizontal lines\n",
    "        start = [-1, thresh, i] if axis == 'y' else ([thresh, -1, i] if axis == 'x' else [i, -1, thresh])\n",
    "        end = [1, thresh, i] if axis == 'y' else ([thresh, 1, i] if axis == 'x' else [i, 1, thresh])\n",
    "        lines.append([start, end])\n",
    "        colors.append(color)\n",
    "\n",
    "    line_set = o3d.geometry.LineSet(\n",
    "        points=o3d.utility.Vector3dVector(np.array(lines).reshape(-1, 3)),\n",
    "        lines=o3d.utility.Vector2iVector(np.array([[i, i+1] for i in range(0, len(lines)*2, 2)])),\n",
    "    )\n",
    "\n",
    "    line_set.colors = o3d.utility.Vector3dVector(colors)\n",
    "    return line_set\n",
    "\n",
    "def view_and_adjust_threshold(thresh_x=min_x, thresh_x_dup=max_x, thresh_y=min_y, thresh_y_dup=max_y, thresh_z=min_z):\n",
    "    global final_pcd \n",
    "\n",
    "    pcd_tmp = np.asarray(pcd.points)\n",
    "    pcd_tmpc = np.asarray(pcd.colors)\n",
    "\n",
    "    indices = (((pcd_tmp[:,0] > thresh_x) & (pcd_tmp[:,0] < thresh_x_dup)) & \n",
    "               ((pcd_tmp[:,1] > thresh_y) & (pcd_tmp[:,1] < thresh_y_dup)) & \n",
    "               (pcd_tmp[:,2] > thresh_z))\n",
    "    pcd_tmp_tmp = pcd_tmp[indices]\n",
    "    pcd_tmp_tmpc = pcd_tmpc[indices]\n",
    "\n",
    "    filtered = o3d.geometry.PointCloud()\n",
    "    filtered.points = o3d.utility.Vector3dVector(pcd_tmp_tmp)\n",
    "    filtered.colors = o3d.utility.Vector3dVector(pcd_tmp_tmpc)\n",
    "    \n",
    "    final_pcd = filtered\n",
    "    \n",
    "    plane_x = create_grid_on_plane(thresh_x, 'x', [1, 0, 0])  # red color for x plane\n",
    "    plane_y = create_grid_on_plane(thresh_y, 'y', [0, 1, 0])  # green color for y plane\n",
    "    plane_z = create_grid_on_plane(thresh_z, 'z', [0, 0, 1])  # blue color for z plane\n",
    "    \n",
    "    plane_x_dup = create_grid_on_plane(thresh_x_dup, 'x', [1, 0, 0])  # duplicate x plane\n",
    "    plane_y_dup = create_grid_on_plane(thresh_y_dup, 'y', [0, 1, 0])  # duplicate y plane\n",
    "    \n",
    "    ## visualise origin pt\n",
    "    # origin = o3d.geometry.TriangleMesh.create_coordinate_frame(size=2, origin=[0,0,0]) \n",
    "    # o3d.visualization.draw_geometries([final_pcd, origin, plane_x, plane_y, plane_z, plane_x_dup, plane_y_dup])\n",
    "\n",
    "    o3d.visualization.draw_geometries([final_pcd, plane_x, plane_y, plane_z, plane_x_dup, plane_y_dup])\n",
    "\n",
    "def save_pcd(b):\n",
    "    if final_pcd is not None:\n",
    "        o3d.io.write_point_cloud(\"final.ply\", final_pcd)\n",
    "        print(\"Point cloud saved!\")\n",
    "    else:\n",
    "        print(\"No point cloud to save.\")\n",
    "\n",
    "save_button = Button(description=\"Save point cloud\")\n",
    "save_button.on_click(save_pcd)  \n",
    "\n",
    "\n",
    "\n",
    "slider_x = FloatSlider(min=min_x, max=max_x, step=0.001, value=min_x, description=\"x\")\n",
    "text_x = FloatText(value=min_x, description=\"x\")\n",
    "link((slider_x, 'value'), (text_x, 'value'))\n",
    "\n",
    "slider_x_dup = FloatSlider(min=min_x, max=max_x, step=0.001, value=max_x, description=\"x_dup\")\n",
    "text_x_dup = FloatText(value=max_x, description=\"x_dup\")\n",
    "link((slider_x_dup, 'value'), (text_x_dup, 'value'))\n",
    "\n",
    "slider_y = FloatSlider(min=min_y, max=max_y, step=0.001, value=min_y, description=\"y\")\n",
    "text_y = FloatText(value=min_y, description=\"y\")\n",
    "link((slider_y, 'value'), (text_y, 'value'))\n",
    "\n",
    "slider_y_dup = FloatSlider(min=min_y, max=max_y, step=0.001, value=max_y, description=\"y_dup\")\n",
    "text_y_dup = FloatText(value=max_y, description=\"y_dup\")\n",
    "link((slider_y_dup, 'value'), (text_y_dup, 'value'))\n",
    "\n",
    "slider_z= FloatSlider(min=min_z, max=max_z, step=0.001, value=min_z, description=\"z\")\n",
    "text_z = FloatText(value=min_z, description=\"z\")\n",
    "link((slider_z, 'value'), (text_z, 'value'))\n",
    "\n",
    "interactive(view_and_adjust_threshold, \n",
    "         thresh_x=slider_x, \n",
    "         thresh_x_dup=slider_x_dup, \n",
    "         thresh_y=slider_y, \n",
    "         thresh_y_dup=slider_y_dup, \n",
    "         thresh_z=slider_z)\n",
    "\n",
    "display(text_x, text_x_dup, text_y, text_y_dup, text_z, interact, save_button)\n"
   ]
  },
  {
   "cell_type": "code",
   "execution_count": null,
   "metadata": {},
   "outputs": [],
   "source": [
    "o3d.visualization.draw_geometries([final_pcd])"
   ]
  },
  {
   "cell_type": "code",
   "execution_count": 44,
   "metadata": {},
   "outputs": [],
   "source": [
    "# note: pcd = final_pcd creates a shallow copy, only stores reference to cropped pcd so any cahnges to pcd = changes to final_pcd   \n",
    "# Use deepcopy() to create an independent / deep copy\n",
    "\n",
    "pcd = copy.deepcopy(final_pcd) "
   ]
  },
  {
   "cell_type": "code",
   "execution_count": 37,
   "metadata": {},
   "outputs": [],
   "source": [
    "o3d.visualization.draw_geometries([pcd])"
   ]
  },
  {
   "cell_type": "markdown",
   "metadata": {},
   "source": [
    "# Preprocessing"
   ]
  },
  {
   "cell_type": "code",
   "execution_count": 45,
   "metadata": {},
   "outputs": [
    {
     "data": {
      "text/plain": [
       "PointCloud with 87312 points."
      ]
     },
     "execution_count": 45,
     "metadata": {},
     "output_type": "execute_result"
    }
   ],
   "source": [
    "def downsample_clean(pcd: o3d.cpu.pybind.geometry.PointCloud) -> None:\n",
    "    '''\n",
    "    Performs downsampling, outlier removal and bounding box removal\n",
    "    \n",
    "    Args:\n",
    "        pcd (o3d.cpu.pybind.geometry.PointCloud): PointCloud object\n",
    "    \n",
    "    Returns:\n",
    "        type: None \n",
    "    '''\n",
    "\n",
    "    # voxel downsampling: reducing overall num of pts\n",
    "    voxel_size = 0.01\n",
    "    downsampled = pcd.voxel_down_sample(voxel_size) \n",
    "    \n",
    "    # outlier cleaning\n",
    "    _, ind = downsampled.remove_statistical_outlier(nb_neighbors=100, std_ratio=2.0)\n",
    "    cleaned_pcd = downsampled.select_by_index(ind)\n",
    "    \n",
    "    # paint removal parts\n",
    "    epsilon = 0.01\n",
    "    points = np.asarray(cleaned_pcd.points)\n",
    "    indices = np.where(np.abs(points[:, 2] < epsilon))[0]\n",
    "    \n",
    "    pcd_in_color = cleaned_pcd.select_by_index(indices)\n",
    "    pcd_in_color.paint_uniform_color([1,1,0])\n",
    "    pcd = pcd.select_by_index(indices, invert=True)\n",
    "    \n",
    "    o3d.visualization.draw_geometries([cleaned_pcd])\n",
    "\n",
    "    return pcd\n",
    "\n",
    "downsample_clean(pcd)"
   ]
  },
  {
   "cell_type": "code",
   "execution_count": 46,
   "metadata": {},
   "outputs": [],
   "source": [
    "pcd = downsample_clean(pcd)"
   ]
  },
  {
   "cell_type": "code",
   "execution_count": 47,
   "metadata": {},
   "outputs": [],
   "source": [
    "\n",
    "def isolateLargestCluster(pcd: o3d.cpu.pybind.geometry.PointCloud, labels: np.ndarray) -> None:\n",
    "    '''\n",
    "    Uses DBSCAN to group and isolate the largest point cloud \n",
    "       \n",
    "    Args:\n",
    "        pcd (o3d.cpu.pybind.geometry.PointCloud): PointCloud object\n",
    "        labels (np.ndarray): Array of clusters identified by labels\n",
    "    \n",
    "    Returns:\n",
    "        type: o3d.cpu.pybind.geometry.PointCloud\n",
    "    '''\n",
    "\n",
    "    # finding the label of largest cluster + ignoring noisy points labeled -1\n",
    "    counts = Counter(labels)\n",
    "    largest_cluster_label = max(counts.items(), key=lambda x: x[1] if x[0] != -1 else -1)[0]\n",
    "\n",
    "    # get all pts / colors of largest cluster\n",
    "    largest_cluster_points = np.array(pcd.points)[labels == largest_cluster_label]\n",
    "    largest_cluster_colors = np.array(pcd.colors)[labels == largest_cluster_label]\n",
    "    \n",
    "    # new point cloud from the largest cluster pts w/ colors\n",
    "    largest_cluster_pcd = o3d.geometry.PointCloud()\n",
    "    largest_cluster_pcd.points = o3d.utility.Vector3dVector(largest_cluster_points)\n",
    "    largest_cluster_pcd.colors = o3d.utility.Vector3dVector(largest_cluster_colors)\n",
    "    \n",
    "    return largest_cluster_pcd\n",
    "    \n",
    "labels = np.array(pcd.cluster_dbscan(eps=0.05, min_points=3, print_progress=True))\n",
    "pcd = isolateLargestCluster(pcd, labels)\n",
    "o3d.visualization.draw_geometries([pcd])"
   ]
  },
  {
   "cell_type": "code",
   "execution_count": null,
   "metadata": {},
   "outputs": [],
   "source": []
  },
  {
   "cell_type": "code",
   "execution_count": null,
   "metadata": {},
   "outputs": [],
   "source": []
  }
 ],
 "metadata": {
  "kernelspec": {
   "display_name": "Python 3",
   "language": "python",
   "name": "python3"
  },
  "language_info": {
   "codemirror_mode": {
    "name": "ipython",
    "version": 3
   },
   "file_extension": ".py",
   "mimetype": "text/x-python",
   "name": "python",
   "nbconvert_exporter": "python",
   "pygments_lexer": "ipython3",
   "version": "3.8.16"
  }
 },
 "nbformat": 4,
 "nbformat_minor": 2
}

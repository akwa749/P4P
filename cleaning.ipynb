{
 "cells": [
  {
   "cell_type": "code",
   "execution_count": 1,
   "metadata": {},
   "outputs": [
    {
     "name": "stdout",
     "output_type": "stream",
     "text": [
      "Jupyter environment detected. Enabling Open3D WebVisualizer.\n",
      "[Open3D INFO] WebRTC GUI backend enabled.\n",
      "[Open3D INFO] WebRTCWindowSystem: HTTP handshake server disabled.\n"
     ]
    }
   ],
   "source": [
    "import numpy as np\n",
    "import open3d as o3d\n",
    "import pathlib\n",
    "import math\n",
    "import itertools"
   ]
  },
  {
   "cell_type": "markdown",
   "metadata": {},
   "source": [
    "## Loading in Point cloud data"
   ]
  },
  {
   "cell_type": "code",
   "execution_count": 2,
   "metadata": {},
   "outputs": [
    {
     "name": "stdout",
     "output_type": "stream",
     "text": [
      "PLY file loaded\n"
     ]
    }
   ],
   "source": [
    "# Load ply file\n",
    "path = \"./data/P001 2022-01-25 01_39_54.ply\"\n",
    "\n",
    "if pathlib.Path(path).exists():\n",
    "    pcd = o3d.io.read_point_cloud(path)\n",
    "    print('PLY file loaded')\n",
    "else:\n",
    "    raise FileNotFoundError(\"FILE NOT FOUND, TRY AGAIN!\")"
   ]
  },
  {
   "cell_type": "code",
   "execution_count": 3,
   "metadata": {},
   "outputs": [
    {
     "name": "stdout",
     "output_type": "stream",
     "text": [
      "['HalfEdgeTriangleMesh', 'Image', 'LineSet', 'PointCloud', 'RGBDImage', 'TetraMesh', 'TriangleMesh', 'Type', 'Unspecified', 'VoxelGrid', '__add__', '__class__', '__copy__', '__deepcopy__', '__delattr__', '__dir__', '__doc__', '__eq__', '__format__', '__ge__', '__getattribute__', '__gt__', '__hash__', '__iadd__', '__init__', '__init_subclass__', '__le__', '__lt__', '__module__', '__ne__', '__new__', '__reduce__', '__reduce_ex__', '__repr__', '__setattr__', '__sizeof__', '__str__', '__subclasshook__', 'clear', 'cluster_dbscan', 'colors', 'compute_convex_hull', 'compute_mahalanobis_distance', 'compute_mean_and_covariance', 'compute_nearest_neighbor_distance', 'compute_point_cloud_distance', 'covariances', 'create_from_depth_image', 'create_from_rgbd_image', 'crop', 'dimension', 'estimate_covariances', 'estimate_normals', 'estimate_point_covariances', 'farthest_point_down_sample', 'get_axis_aligned_bounding_box', 'get_center', 'get_geometry_type', 'get_max_bound', 'get_min_bound', 'get_oriented_bounding_box', 'get_rotation_matrix_from_axis_angle', 'get_rotation_matrix_from_quaternion', 'get_rotation_matrix_from_xyz', 'get_rotation_matrix_from_xzy', 'get_rotation_matrix_from_yxz', 'get_rotation_matrix_from_yzx', 'get_rotation_matrix_from_zxy', 'get_rotation_matrix_from_zyx', 'has_colors', 'has_covariances', 'has_normals', 'has_points', 'hidden_point_removal', 'is_empty', 'normalize_normals', 'normals', 'orient_normals_consistent_tangent_plane', 'orient_normals_to_align_with_direction', 'orient_normals_towards_camera_location', 'paint_uniform_color', 'points', 'random_down_sample', 'remove_duplicated_points', 'remove_non_finite_points', 'remove_radius_outlier', 'remove_statistical_outlier', 'rotate', 'scale', 'segment_plane', 'select_by_index', 'transform', 'translate', 'uniform_down_sample', 'voxel_down_sample', 'voxel_down_sample_and_trace']\n"
     ]
    }
   ],
   "source": [
    "# PLY file info\n",
    "print(dir(pcd))"
   ]
  },
  {
   "cell_type": "code",
   "execution_count": 4,
   "metadata": {},
   "outputs": [
    {
     "name": "stdout",
     "output_type": "stream",
     "text": [
      "Shape of points (247847, 3)\n",
      "Shape of colors (247847, 3)\n"
     ]
    }
   ],
   "source": [
    "print('Shape of points', np.asarray(pcd.points).shape)\n",
    "print('Shape of colors', np.asarray(pcd.colors).shape)"
   ]
  },
  {
   "cell_type": "markdown",
   "metadata": {},
   "source": [
    "# Preprocessing"
   ]
  },
  {
   "cell_type": "code",
   "execution_count": 4,
   "metadata": {},
   "outputs": [],
   "source": [
    "class PreProcessing:\n",
    "    def __init__(self, voxelSize=0.01, itera=10000):\n",
    "        self.voxelSize = voxelSize\n",
    "        self.itera = itera\n",
    "    \n",
    "    def minMaxView(self, pcd):\n",
    "        '''\n",
    "        used to visualise the min/max points in each respective axes\n",
    "        '''\n",
    "        \n",
    "        # Colors:\n",
    "        RED = [1., 0., 0.]\n",
    "        GREEN = [0., 1., 0.]\n",
    "        BLUE = [0., 0., 1.]\n",
    "        YELLOW = [1., 1., 0.]\n",
    "        MAGENTA = [1., 0., 1.]\n",
    "        CYAN = [0., 1., 1.]\n",
    "        \n",
    "        # create 3d coordinate system\n",
    "        origin = o3d.geometry.TriangleMesh.create_coordinate_frame(size=0.5)\n",
    "        \n",
    "        # Get max and min points of each axis x, y and z:\n",
    "        x_max = max(pcd.points, key=lambda x: x[0])\n",
    "        y_max = max(pcd.points, key=lambda x: x[1])\n",
    "        z_max = max(pcd.points, key=lambda x: x[2])\n",
    "        x_min = min(pcd.points, key=lambda x: x[0])\n",
    "        y_min = min(pcd.points, key=lambda x: x[1])\n",
    "        z_min = min(pcd.points, key=lambda x: x[2])\n",
    "        \n",
    "        # Create bounding box:\n",
    "        bounds = [[-math.inf, math.inf], [-math.inf, math.inf], [0, 0.0458]]  # set the bounds\n",
    "        bounding_box_points = list(itertools.product(*bounds))  # create limit points\n",
    "        bounding_box = o3d.geometry.AxisAlignedBoundingBox.create_from_points(\n",
    "            o3d.utility.Vector3dVector(bounding_box_points))  # create bounding box object\n",
    "\n",
    "        # Crop the point cloud using the bounding box:\n",
    "        pcd_croped = pcd.crop(bounding_box)\n",
    "        dists = np.asarray(pcd.compute_point_cloud_distance(pcd_croped))\n",
    "        indices = np.where(dists > 0.00001)[0]\n",
    "        pcd_cropped_inv = pcd.select_by_index(indices)\n",
    "\n",
    "        # Display the cropped point cloud:\n",
    "        o3d.visualization.draw_geometries([pcd_croped])\n",
    "        o3d.visualization.draw_geometries([pcd_cropped_inv])\n",
    "        \n",
    "        pcd = pcd_cropped_inv\n",
    "\n",
    "        positions = [x_max, y_max, z_max, x_min, y_min, z_min]\n",
    "        geometries = [pcd, origin]\n",
    "        colors = [RED, GREEN, BLUE, MAGENTA, YELLOW, CYAN]\n",
    "        for i in range(len(positions)):\n",
    "            # Create a sphere mesh:\n",
    "            sphere = o3d.geometry.TriangleMesh.create_sphere(radius=0.05)\n",
    "            # move to the point position:\n",
    "            sphere.translate(np.asarray(positions[i]))\n",
    "            # add color:\n",
    "            sphere.paint_uniform_color(np.asarray(colors[i]))\n",
    "            # compute normals for vertices or faces:\n",
    "            sphere.compute_vertex_normals()\n",
    "            # add to geometry list to display later:\n",
    "            geometries.append(sphere)\n",
    "\n",
    "        # Display:\n",
    "        o3d.visualization.draw_geometries(geometries)\n",
    "        \n",
    "        ########################\n",
    "        # Define a threshold:\n",
    "        THRESHOLD = 0.1\n",
    "\n",
    "        # Get the max value along the y-axis:\n",
    "        y_max = max(pcd.points, key=lambda x: x[1])[1]\n",
    "\n",
    "        # Get the original points color to be updated:\n",
    "        pcd_colors = np.asarray(pcd.colors)\n",
    "\n",
    "        # Number of points:\n",
    "        n_points = pcd_colors.shape[0]\n",
    "\n",
    "        # update color:\n",
    "        for i in range(n_points):\n",
    "            # if the current point is aground point:\n",
    "            if pcd.points[i][1] >= y_max - THRESHOLD:\n",
    "                pcd_colors[i] = RED  # color it green\n",
    "\n",
    "        pcd.colors = o3d.utility.Vector3dVector(pcd_colors)\n",
    "\n",
    "        # Display:\n",
    "        o3d.visualization.draw_geometries([pcd, origin])\n",
    "        \n",
    "        return pcd\n",
    "        \n",
    "            \n",
    "    def downsample_clean(self, pcd):\n",
    "        '''\n",
    "        most of the cleaning is done here\n",
    "        '''\n",
    "        \n",
    "        # create 3d coordinate system\n",
    "        origin = o3d.geometry.TriangleMesh.create_coordinate_frame(size=0.5)\n",
    "        \n",
    "        # reduce total number of points\n",
    "        downsampled = pcd.voxel_down_sample(self.voxelSize) \n",
    "        self.visualise(origin, pcd)\n",
    "        \n",
    "        # outlier cleaning\n",
    "        cl, ind = downsampled.remove_statistical_outlier(nb_neighbors=40, std_ratio=2.0)\n",
    "        cleaned_pcd = downsampled.select_by_index(ind)\n",
    "        \n",
    "        # removing majority floor\n",
    "        plane_model, inliers = cleaned_pcd.segment_plane(distance_threshold=0.02, ransac_n=5, num_iterations=self.itera)\n",
    "        inlier_cloud = cleaned_pcd.select_by_index(inliers)\n",
    "        inlier_cloud.paint_uniform_color([1,0,0])\n",
    "        outlier_cloud = cleaned_pcd.select_by_index(inliers, invert=True)\n",
    "        o3d.visualization.draw_geometries([outlier_cloud, inlier_cloud])\n",
    "\n",
    "        return outlier_cloud\n",
    "    \n",
    "    def bounding_box(self, pcd):\n",
    "        '''\n",
    "        applying bounding box method removing majority of unwanted points\n",
    "        '''\n",
    "        \n",
    "        points = np.asarray(pcd.points)\n",
    "        \n",
    "        min_x, min_y, min_z = points.min(axis=0)[:3]\n",
    "        max_x, max_y, max_z = points.max(axis=0)[:3]\n",
    "\n",
    "        padding = 0.53\n",
    "        bbox = o3d.geometry.AxisAlignedBoundingBox(min_bound=(padding*min_x, padding*min_y ,min_z ), max_bound=(padding*max_x, padding*max_y, max_z))\n",
    "\n",
    "        # Select points within the bounding box\n",
    "        pcd_in_bbox = pcd.crop(bbox)\n",
    "        \n",
    "        return pcd_in_bbox\n",
    "    \n",
    "    def visualise(self, *args):\n",
    "        # drawing\n",
    "        o3d.visualization.draw_geometries(\n",
    "            [*args], \n",
    "            window_name=\"point cloud\" \n",
    "        )\n",
    "\n",
    "process = PreProcessing()\n",
    "inlier = process.downsample_clean(pcd)\n",
    "process.visualise(inlier)\n",
    "\n",
    "pcd_in_bbox = process.bounding_box(inlier)\n",
    "cropped = process.minMaxView(pcd_in_bbox)\n",
    "\n",
    "process.visualise(cropped)"
   ]
  },
  {
   "cell_type": "code",
   "execution_count": null,
   "metadata": {},
   "outputs": [],
   "source": []
  }
 ],
 "metadata": {
  "kernelspec": {
   "display_name": "Python 3",
   "language": "python",
   "name": "python3"
  },
  "language_info": {
   "codemirror_mode": {
    "name": "ipython",
    "version": 3
   },
   "file_extension": ".py",
   "mimetype": "text/x-python",
   "name": "python",
   "nbconvert_exporter": "python",
   "pygments_lexer": "ipython3",
   "version": "3.8.5"
  }
 },
 "nbformat": 4,
 "nbformat_minor": 2
}

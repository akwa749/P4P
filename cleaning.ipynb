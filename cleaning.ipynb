{
 "cells": [
  {
   "cell_type": "code",
   "execution_count": 1,
   "metadata": {},
   "outputs": [
    {
     "name": "stdout",
     "output_type": "stream",
     "text": [
      "Jupyter environment detected. Enabling Open3D WebVisualizer.\n",
      "[Open3D INFO] WebRTC GUI backend enabled.\n",
      "[Open3D INFO] WebRTCWindowSystem: HTTP handshake server disabled.\n"
     ]
    }
   ],
   "source": [
    "import numpy as np\n",
    "import open3d as o3d\n",
    "# import pptk # works with Python 3.6"
   ]
  },
  {
   "cell_type": "code",
   "execution_count": 2,
   "metadata": {},
   "outputs": [
    {
     "name": "stdout",
     "output_type": "stream",
     "text": [
      "PLY file loaded\n"
     ]
    }
   ],
   "source": [
    "# Load ply file\n",
    "pc_ply = o3d.io.read_point_cloud(\"./data/P001 2022-01-25 01_39_54.ply\")\n",
    "print('PLY file loaded')"
   ]
  },
  {
   "cell_type": "code",
   "execution_count": 3,
   "metadata": {},
   "outputs": [
    {
     "name": "stdout",
     "output_type": "stream",
     "text": [
      "['HalfEdgeTriangleMesh', 'Image', 'LineSet', 'PointCloud', 'RGBDImage', 'TetraMesh', 'TriangleMesh', 'Type', 'Unspecified', 'VoxelGrid', '__add__', '__class__', '__copy__', '__deepcopy__', '__delattr__', '__dir__', '__doc__', '__eq__', '__format__', '__ge__', '__getattribute__', '__gt__', '__hash__', '__iadd__', '__init__', '__init_subclass__', '__le__', '__lt__', '__module__', '__ne__', '__new__', '__reduce__', '__reduce_ex__', '__repr__', '__setattr__', '__sizeof__', '__str__', '__subclasshook__', 'clear', 'cluster_dbscan', 'colors', 'compute_convex_hull', 'compute_mahalanobis_distance', 'compute_mean_and_covariance', 'compute_nearest_neighbor_distance', 'compute_point_cloud_distance', 'covariances', 'create_from_depth_image', 'create_from_rgbd_image', 'crop', 'detect_planar_patches', 'dimension', 'estimate_covariances', 'estimate_normals', 'estimate_point_covariances', 'farthest_point_down_sample', 'get_axis_aligned_bounding_box', 'get_center', 'get_geometry_type', 'get_max_bound', 'get_min_bound', 'get_minimal_oriented_bounding_box', 'get_oriented_bounding_box', 'get_rotation_matrix_from_axis_angle', 'get_rotation_matrix_from_quaternion', 'get_rotation_matrix_from_xyz', 'get_rotation_matrix_from_xzy', 'get_rotation_matrix_from_yxz', 'get_rotation_matrix_from_yzx', 'get_rotation_matrix_from_zxy', 'get_rotation_matrix_from_zyx', 'has_colors', 'has_covariances', 'has_normals', 'has_points', 'hidden_point_removal', 'is_empty', 'normalize_normals', 'normals', 'orient_normals_consistent_tangent_plane', 'orient_normals_to_align_with_direction', 'orient_normals_towards_camera_location', 'paint_uniform_color', 'points', 'random_down_sample', 'remove_duplicated_points', 'remove_non_finite_points', 'remove_radius_outlier', 'remove_statistical_outlier', 'rotate', 'scale', 'segment_plane', 'select_by_index', 'transform', 'translate', 'uniform_down_sample', 'voxel_down_sample', 'voxel_down_sample_and_trace']\n"
     ]
    }
   ],
   "source": [
    "# PLY file info\n",
    "print(dir(pc_ply))"
   ]
  },
  {
   "cell_type": "code",
   "execution_count": 4,
   "metadata": {},
   "outputs": [
    {
     "name": "stdout",
     "output_type": "stream",
     "text": [
      "Shape of points (247847, 3)\n",
      "Shape of colors (247847, 3)\n"
     ]
    }
   ],
   "source": [
    "print('Shape of points', np.asarray(pc_ply.points).shape)\n",
    "print('Shape of colors', np.asarray(pc_ply.colors).shape)"
   ]
  },
  {
   "cell_type": "code",
   "execution_count": 5,
   "metadata": {},
   "outputs": [],
   "source": [
    "# visualise\n",
    "o3d.visualization.draw_geometries([pc_ply], window_name=\"Original Point Cloud\")"
   ]
  },
  {
   "cell_type": "code",
   "execution_count": 6,
   "metadata": {},
   "outputs": [],
   "source": [
    "# downsampling\n",
    "voxelSize = 0.01\n",
    "downsampled = pc_ply.voxel_down_sample(voxelSize)"
   ]
  },
  {
   "cell_type": "code",
   "execution_count": 7,
   "metadata": {},
   "outputs": [],
   "source": [
    "# outliers\n",
    "cl, ind = downsampled.remove_statistical_outlier(nb_neighbors=20, std_ratio=2.0)\n",
    "cleaned_pcd = downsampled.select_by_index(ind)"
   ]
  },
  {
   "cell_type": "code",
   "execution_count": 35,
   "metadata": {},
   "outputs": [
    {
     "ename": "TypeError",
     "evalue": "'open3d.cpu.pybind.geometry.PointCloud' object is not subscriptable",
     "output_type": "error",
     "traceback": [
      "\u001b[1;31m---------------------------------------------------------------------------\u001b[0m",
      "\u001b[1;31mTypeError\u001b[0m                                 Traceback (most recent call last)",
      "Cell \u001b[1;32mIn[35], line 2\u001b[0m\n\u001b[0;32m      1\u001b[0m \u001b[39m# Define the bounding box\u001b[39;00m\n\u001b[1;32m----> 2\u001b[0m min_x \u001b[39m=\u001b[39m np\u001b[39m.\u001b[39mmin(cleaned_pcd[:, \u001b[39m0\u001b[39;49m])\n\u001b[0;32m      3\u001b[0m max_x \u001b[39m=\u001b[39m np\u001b[39m.\u001b[39mmax(cleaned_pcd[:, \u001b[39m0\u001b[39m])\n\u001b[0;32m      4\u001b[0m min_y \u001b[39m=\u001b[39m np\u001b[39m.\u001b[39mmin(cleaned_pcd[:, \u001b[39m1\u001b[39m])\n",
      "\u001b[1;31mTypeError\u001b[0m: 'open3d.cpu.pybind.geometry.PointCloud' object is not subscriptable"
     ]
    }
   ],
   "source": [
    "\n",
    "# Define the bounding box\n",
    "min_x = np.min(cleaned_pcd[:, 0])\n",
    "max_x = np.max(cleaned_pcd[:, 0])\n",
    "min_y = np.min(cleaned_pcd[:, 1])\n",
    "max_y = np.max(cleaned_pcd[:, 1])\n",
    "min_z = np.min(cleaned_pcd[:, 2])\n",
    "max_z = np.max(cleaned_pcd[:, 2])\n",
    "print(min_x)\n",
    "\n",
    "# Expand the bounding box slightly\n",
    "padding = 0.5  # for example, 10% of the range\n",
    "\n",
    "min_x = padding * min_x\n",
    "max_x = padding * max_x\n",
    "min_y = padding * min_y\n",
    "max_y = padding * max_y\n",
    "min_z = padding * min_z\n",
    "#z neutral as don't want to cut off head\n",
    "max_z = 1 * max_z\n",
    "\n",
    "print(min_x)\n",
    "\n",
    "# Filter the points\n",
    "human_points = cleaned_pcd[\n",
    "    (cleaned_pcd[:, 0] >= min_x) & (cleaned_pcd[:, 0] <= max_x) &\n",
    "    (cleaned_pcd[:, 1] >= min_y) & (cleaned_pcd[:, 1] <= max_y) &\n",
    "    (cleaned_pcd[:, 2] >= min_z) & (cleaned_pcd[:, 2] <= max_z)\n",
    "]\n",
    "\n",
    "\n",
    "###\n",
    "visualized_point_cloud = o3d.geometry.PointCloud()\n",
    "visualized_point_cloud.points = o3d.utility.Vector3dVector(human_points)\n",
    "o3d.visualization.draw_geometries([visualized_point_cloud])\n",
    "\n",
    "print(\"done\")"
   ]
  },
  {
   "cell_type": "code",
   "execution_count": 31,
   "metadata": {},
   "outputs": [],
   "source": [
    "plane_model, inliers = cleaned_pcd.segment_plane(distance_threshold=0.009, ransac_n=3, num_iterations=10000)\n",
    "inlier_cloud = cleaned_pcd.select_by_index(inliers)\n",
    "outlier_cloud = cleaned_pcd.select_by_index(inliers, invert=True)\n",
    "\n",
    "# Visualize the cleaned point cloud\n",
    "o3d.visualization.draw_geometries([outlier_cloud], window_name=\"Cleaned Point Cloud\")\n"
   ]
  },
  {
   "cell_type": "code",
   "execution_count": 15,
   "metadata": {},
   "outputs": [],
   "source": [
    "o3d.visualization.draw_geometries([outlier_cloud], window_name=\"Cleaned Point Cloud\")"
   ]
  },
  {
   "cell_type": "code",
   "execution_count": null,
   "metadata": {},
   "outputs": [],
   "source": []
  },
  {
   "cell_type": "code",
   "execution_count": null,
   "metadata": {},
   "outputs": [],
   "source": []
  },
  {
   "cell_type": "code",
   "execution_count": null,
   "metadata": {},
   "outputs": [],
   "source": []
  }
 ],
 "metadata": {
  "kernelspec": {
   "display_name": "Python 3 (ipykernel)",
   "language": "python",
   "name": "python3"
  },
  "language_info": {
   "codemirror_mode": {
    "name": "ipython",
    "version": 3
   },
   "file_extension": ".py",
   "mimetype": "text/x-python",
   "name": "python",
   "nbconvert_exporter": "python",
   "pygments_lexer": "ipython3",
   "version": "3.9.16"
  }
 },
 "nbformat": 4,
 "nbformat_minor": 2
}

{
 "cells": [
  {
   "cell_type": "code",
   "execution_count": 170,
   "metadata": {},
   "outputs": [],
   "source": [
    "\n",
    "import numpy as np\n",
    "import open3d as o3d\n",
    "import pathlib\n",
    "import math\n",
    "import itertools"
   ]
  },
  {
   "attachments": {},
   "cell_type": "markdown",
   "metadata": {},
   "source": [
    "## Loading in Point cloud data"
   ]
  },
  {
   "cell_type": "code",
   "execution_count": 203,
   "metadata": {},
   "outputs": [
    {
     "name": "stdout",
     "output_type": "stream",
     "text": [
      "PLY file loaded\n",
      "Shape of points (251759, 3)\n",
      "Shape of colors (251759, 3)\n"
     ]
    }
   ],
   "source": [
    "# Load ply file\n",
    "path = \"./data/P002 2022-01-25 01_24_48.ply\"\n",
    "\n",
    "if pathlib.Path(path).exists():\n",
    "    pcd = o3d.io.read_point_cloud(path)\n",
    "    print('PLY file loaded')\n",
    "else:\n",
    "    raise FileNotFoundError(\"File not found.\")\n",
    "\n",
    "print('Shape of points', np.asarray(pcd.points).shape)\n",
    "print('Shape of colors', np.asarray(pcd.colors).shape)"
   ]
  },
  {
   "cell_type": "code",
   "execution_count": 183,
   "metadata": {},
   "outputs": [],
   "source": [
    "o3d.visualization.draw_geometries([pcd])"
   ]
  },
  {
   "cell_type": "code",
   "execution_count": 189,
   "metadata": {},
   "outputs": [
    {
     "name": "stdout",
     "output_type": "stream",
     "text": [
      "point cloud has 27 clusters\n"
     ]
    }
   ],
   "source": [
    "import matplotlib.pyplot as plt\n",
    "\n",
    "def viewClustersViaColours(pcd: o3d.cpu.pybind.geometry.PointCloud) -> None:\n",
    "    '''\n",
    "    Test function to visualise the clusters by colours\n",
    "    \n",
    "    Experiment with parameters of cluster_dbscan() for potentially better results..\n",
    "    \n",
    "    DEFAULT -> { eps: 0.05, min_points: 10 }\n",
    "    \n",
    "    Note: MUST reload in data after finishing visual.\n",
    "    '''\n",
    "    \n",
    "    labels = np.array(pcd.cluster_dbscan(eps=0.05, min_points=3, print_progress=True))\n",
    "    max_label = labels.max()\n",
    "    print(f\"point cloud has {max_label + 1} clusters\")\n",
    "    colors = plt.get_cmap(\"tab20\")(labels / (max_label if max_label > 0 else 1))\n",
    "    colors[labels < 0] = 0\n",
    "    pcd.colors = o3d.utility.Vector3dVector(colors[:, :3])\n",
    "    o3d.visualization.draw_geometries([pcd])\n",
    "\n",
    "viewClustersViaColours(pcd)"
   ]
  },
  {
   "attachments": {},
   "cell_type": "markdown",
   "metadata": {},
   "source": [
    "# Preprocessing"
   ]
  },
  {
   "cell_type": "code",
   "execution_count": 204,
   "metadata": {},
   "outputs": [],
   "source": [
    "def minimalBoundingBox(pcd: o3d.cpu.pybind.geometry.PointCloud) -> None:\n",
    "    '''\n",
    "    Applies a minimal bounding box, isolating the human subject from the scene.\n",
    "    This helps to remove majority of the unnecessary points.\n",
    "    \n",
    "    Args:\n",
    "        pcd (o3d.cpu.pybind.geometry.PointCloud): PointCloud object\n",
    "    \n",
    "    Returns:\n",
    "        type: o3d.cpu.pybind.geometry.PointCloud'     \n",
    "    '''\n",
    "    \n",
    "    points = np.asarray(pcd.points)\n",
    "    \n",
    "    min_x, min_y, min_z = points.min(axis=0)[:3]\n",
    "    max_x, max_y, max_z = points.max(axis=0)[:3]\n",
    "\n",
    "    padding = 0.53 # need to calculate, cant be preset value.\n",
    "    bbox = o3d.geometry.AxisAlignedBoundingBox(min_bound=(padding*min_x, padding*min_y ,min_z), max_bound=(padding*max_x, padding*max_y, max_z))\n",
    "    bbox.get_minimal_oriented_bounding_box()\n",
    "    bbox.color = [1,0,0]\n",
    "\n",
    "    # Select points within the bounding box\n",
    "    pcd_in_bbox = pcd.crop(bbox)\n",
    "    \n",
    "    o3d.visualization.draw_geometries([pcd_in_bbox])\n",
    "    \n",
    "    return pcd_in_bbox\n",
    "\n",
    "def bounding_box_minor(pcd: o3d.cpu.pybind.geometry.PointCloud) -> None:\n",
    "    '''\n",
    "    Cleans the floor??\n",
    "    \n",
    "    Brain no work\n",
    "    \n",
    "    '''\n",
    "    \n",
    "    # Create bounding box:\n",
    "    bounds = [[-math.inf, math.inf], [-math.inf, math.inf], [0, 0.0458]]  # set the bounds\n",
    "    \n",
    "    bounding_box_points = list(itertools.product(*bounds))  # create limit points\n",
    "    bounding_box = o3d.geometry.AxisAlignedBoundingBox.create_from_points(\n",
    "        o3d.utility.Vector3dVector(bounding_box_points))  # create bounding box object\n",
    "    \n",
    "    # Crop the point cloud using the bounding box:\n",
    "    pcd_croped = pcd.crop(bounding_box)\n",
    "    dists = np.asarray(pcd.compute_point_cloud_distance(pcd_croped))\n",
    "    indices = np.where(dists > 0.001)[0]\n",
    "    pcd_cropped_inv = pcd.select_by_index(indices)\n",
    "\n",
    "    # Display the cropped point cloud:\n",
    "    # self.visualise(pcd_croped, windowName=\"pcd cropped\")\n",
    "    o3d.visualization.draw_geometries([pcd_cropped_inv])\n",
    "        \n",
    "    return pcd_cropped_inv\n",
    "\n",
    "\n",
    "def downsample_clean(pcd: o3d.cpu.pybind.geometry.PointCloud) -> None:\n",
    "    '''\n",
    "    Performs downsampling, outlier removal and bounding box removal\n",
    "    \n",
    "    Args:\n",
    "        pcd (o3d.cpu.pybind.geometry.PointCloud): PointCloud object\n",
    "    \n",
    "    Returns:\n",
    "        type: None \n",
    "    '''\n",
    "\n",
    "    # voxel downsampling: reducing overall num of pts\n",
    "    voxel_size = 0.02\n",
    "    downsampled = pcd.voxel_down_sample(voxel_size) \n",
    "    \n",
    "    # outlier cleaning\n",
    "    _, ind = downsampled.remove_statistical_outlier(nb_neighbors=100, std_ratio=2.0)\n",
    "    cleaned_pcd = downsampled.select_by_index(ind)\n",
    "    \n",
    "    # minimal bounding box\n",
    "    pcd = minimalBoundingBox(cleaned_pcd)\n",
    "    pcd = bounding_box_minor(pcd)\n",
    "\n",
    "    # paint removal parts\n",
    "    epsilon = 0.001\n",
    "    points = np.asarray(pcd.points)\n",
    "    indices = np.where(np.abs(points[:, 2] < epsilon))[0]\n",
    "    \n",
    "    pcd_in_color = pcd.select_by_index(indices)\n",
    "    pcd_in_color.paint_uniform_color([1,1,0])\n",
    "    pcd = pcd.select_by_index(indices, invert=True)\n",
    "    \n",
    "    o3d.visualization.draw_geometries([pcd])\n",
    "\n",
    "    return pcd\n",
    "\n",
    "pcd = downsample_clean(pcd)"
   ]
  },
  {
   "cell_type": "code",
   "execution_count": 205,
   "metadata": {},
   "outputs": [
    {
     "name": "stdout",
     "output_type": "stream",
     "text": [
      "[Open3D WARNING] GLFW Error: WGL: Failed to make context current: The requested transformation operation is not supported. \n"
     ]
    }
   ],
   "source": [
    "from collections import Counter\n",
    "\n",
    "def isolateLargestCluster(pcd: o3d.cpu.pybind.geometry.PointCloud, labels: np.ndarray) -> None:\n",
    "    '''\n",
    "    Uses DBSCAN to group and isolate the largest point cloud \n",
    "       \n",
    "    Args:\n",
    "        pcd (o3d.cpu.pybind.geometry.PointCloud): PointCloud object\n",
    "        labels (np.ndarray): Array of clusters identified by labels\n",
    "    \n",
    "    Returns:\n",
    "        type: o3d.cpu.pybind.geometry.PointCloud\n",
    "    '''\n",
    "\n",
    "    # finding the label of largest cluster + ignoring noisy points labeled -1\n",
    "    counts = Counter(labels)\n",
    "    largest_cluster_label = max(counts.items(), key=lambda x: x[1] if x[0] != -1 else -1)[0]\n",
    "\n",
    "    # get all pts / colors of largest cluster\n",
    "    largest_cluster_points = np.array(pcd.points)[labels == largest_cluster_label]\n",
    "    largest_cluster_colors = np.array(pcd.colors)[labels == largest_cluster_label]\n",
    "    \n",
    "    # new point cloud from the largest cluster pts w/ colors\n",
    "    largest_cluster_pcd = o3d.geometry.PointCloud()\n",
    "    largest_cluster_pcd.points = o3d.utility.Vector3dVector(largest_cluster_points)\n",
    "    largest_cluster_pcd.colors = o3d.utility.Vector3dVector(largest_cluster_colors)\n",
    "    \n",
    "    return largest_cluster_pcd\n",
    "    \n",
    "labels = np.array(pcd.cluster_dbscan(eps=0.05, min_points=3, print_progress=True))\n",
    "pcd = isolateLargestCluster(pcd, labels)\n",
    "o3d.visualization.draw_geometries([pcd])"
   ]
  },
  {
   "cell_type": "code",
   "execution_count": null,
   "metadata": {},
   "outputs": [],
   "source": [
    "# def farthest_point_sampling(point_cloud, num_samples):\n",
    "#     \"\"\"\n",
    "#     Perform farthest point sampling on a point cloud.\n",
    "    \n",
    "#     Parameters:\n",
    "#     - point_cloud: numpy array of shape (N, 3)\n",
    "#     - num_samples: desired number of points after sampling\n",
    "\n",
    "#     Returns:\n",
    "#     - sampled_point_cloud: numpy array of shape (num_samples, 3)\n",
    "#     \"\"\"\n",
    "\n",
    "#     N = point_cloud.shape[0]  # original number of points\n",
    "\n",
    "#     # Array to hold the indices of the sampled points\n",
    "#     sampled_indices = np.zeros((num_samples,), dtype=int)\n",
    "\n",
    "#     # Array to hold the squared distances to the nearest sampled point\n",
    "#     sq_distances = np.full((N,), np.inf)\n",
    "\n",
    "#     # Randomly choose the first point\n",
    "#     sampled_indices[0] = np.random.randint(N)\n",
    "#     sq_distances[sampled_indices[0]] = 0\n",
    "\n",
    "#     for i in range(1, num_samples):\n",
    "#         # Compute squared distances to the latest sampled point\n",
    "#         new_sq_distances = np.sum((point_cloud - point_cloud[sampled_indices[i - 1]])**2, axis=1)\n",
    "\n",
    "#         # Update the squared distances to the nearest sampled point\n",
    "#         np.minimum(sq_distances, new_sq_distances, out=sq_distances)\n",
    "\n",
    "#         # Choose the point with the greatest squared distance to the nearest sampled point\n",
    "#         sampled_indices[i] = np.argmax(sq_distances)\n",
    "\n",
    "#     # Return the sampled points\n",
    "#     return point_cloud[sampled_indices]\n",
    "\n",
    "# sampled_points = farthest_point_sampling(np.asarray(pcd.points), num_samples=1000)\n",
    "# sampled_pcd = o3d.geometry.PointCloud()\n",
    "# sampled_pcd.points = o3d.utility.Vector3dVector(sampled_points)\n",
    "# o3d.visualization.draw_geometries([sampled_pcd])"
   ]
  },
  {
   "cell_type": "code",
   "execution_count": null,
   "metadata": {},
   "outputs": [],
   "source": []
  },
  {
   "cell_type": "code",
   "execution_count": null,
   "metadata": {},
   "outputs": [],
   "source": [
    "\n",
    "        "
   ]
  },
  {
   "cell_type": "code",
   "execution_count": null,
   "metadata": {},
   "outputs": [],
   "source": []
  },
  {
   "cell_type": "code",
   "execution_count": null,
   "metadata": {},
   "outputs": [],
   "source": []
  },
  {
   "cell_type": "code",
   "execution_count": null,
   "metadata": {},
   "outputs": [],
   "source": []
  },
  {
   "cell_type": "code",
   "execution_count": null,
   "metadata": {},
   "outputs": [],
   "source": []
  },
  {
   "cell_type": "code",
   "execution_count": null,
   "metadata": {},
   "outputs": [],
   "source": []
  }
 ],
 "metadata": {
  "kernelspec": {
   "display_name": "Python 3",
   "language": "python",
   "name": "python3"
  },
  "language_info": {
   "codemirror_mode": {
    "name": "ipython",
    "version": 3
   },
   "file_extension": ".py",
   "mimetype": "text/x-python",
   "name": "python",
   "nbconvert_exporter": "python",
   "pygments_lexer": "ipython3",
   "version": "3.8.16"
  }
 },
 "nbformat": 4,
 "nbformat_minor": 2
}

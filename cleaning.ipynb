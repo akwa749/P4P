{
 "cells": [
  {
   "cell_type": "code",
   "execution_count": 2,
   "metadata": {},
   "outputs": [
    {
     "name": "stdout",
     "output_type": "stream",
     "text": [
      "Jupyter environment detected. Enabling Open3D WebVisualizer.\n",
      "[Open3D INFO] WebRTC GUI backend enabled.\n",
      "[Open3D INFO] WebRTCWindowSystem: HTTP handshake server disabled.\n"
     ]
    }
   ],
   "source": [
    "import numpy as np\n",
    "import open3d as o3d\n",
    "import pathlib\n",
    "import sys\n",
    "import math\n",
    "import itertools\n",
    "import matplotlib.pyplot as plt\n",
    "import copy"
   ]
  },
  {
   "cell_type": "code",
   "execution_count": 3,
   "metadata": {},
   "outputs": [
    {
     "name": "stdout",
     "output_type": "stream",
     "text": [
      "Numpy version: 1.23.5\n",
      "Open3D version: 0.17.0\n",
      "Python version: 3.9.16\n"
     ]
    }
   ],
   "source": [
    "print(f\"Numpy version: {np.__version__}\")\n",
    "print(f\"Open3D version: {o3d.__version__}\")\n",
    "print(f\"Python version: {sys.version[:6]}\")"
   ]
  },
  {
   "attachments": {},
   "cell_type": "markdown",
   "metadata": {},
   "source": [
    "## Loading in Point cloud data\n",
    "\n",
    "Problems encountered: Trouble cleaning with scans with a depth perception problem, might need to investigate order of code execution\n",
    "\n",
    "Todo: Remove more of the floor manually before applying DBSCAN\n",
    "\n",
    "Trouble with: \n",
    "P003, \n",
    "P010 (ground isnt cleaned??) \n",
    "P011 (weird capture?) \n",
    "P013 (ground isnt cleaned??)\n",
    "P014 (ground isnt cleaned??)\n",
    "P015 (ground)\n",
    "P017\n",
    "\n",
    "\n",
    "P005 / P006 have some spurious points around its edges, especially around the feet."
   ]
  },
  {
   "cell_type": "code",
   "execution_count": 4,
   "metadata": {},
   "outputs": [
    {
     "name": "stdout",
     "output_type": "stream",
     "text": [
      "PLY file loaded.\n",
      "Shape of points (247847, 3)\n",
      "Shape of colors (247847, 3)\n"
     ]
    }
   ],
   "source": [
    "# Load ply file\n",
    "path = \"./data/P001 2022-01-25 01_39_54.ply\"\n",
    "\n",
    "def load(path: str) -> o3d.cpu.pybind.geometry.PointCloud:\n",
    "    '''\n",
    "        Loads a ply file provided a valid path with robust error checking\n",
    "        \n",
    "        Checks file path exists and is a ply file that is not empty\n",
    "        \n",
    "        Args:\n",
    "            path: string path to a .ply file\n",
    "        \n",
    "        Returns:\n",
    "            pcd: non-empty point cloud data object\n",
    "    '''\n",
    "    \n",
    "    # checks if file exists\n",
    "    if not pathlib.Path(path).exists(): \n",
    "        raise FileNotFoundError(\"File not found.\")\n",
    "    \n",
    "    # checking correct file format\n",
    "    if pathlib.Path(path).suffix != '.ply':\n",
    "        raise ValueError(f\"Expected a .ply file, got {pathlib.Path(path).suffix}\")\n",
    "    \n",
    "    # check if file is not empty\n",
    "    if pathlib.Path(path).stat().st_size == 0:\n",
    "        raise ValueError(\"File is empty.\")\n",
    "    \n",
    "    pcd = o3d.io.read_point_cloud(path)\n",
    "    \n",
    "    # checks pt cloud is not empty\n",
    "    if not np.asarray(pcd.points).size:\n",
    "        raise ValueError(\"Point cloud has no points.\")\n",
    "    \n",
    "    # pts and colors must match (not too important, but mismatches may lead to incorrect results when vis or analysing)\n",
    "    if np.asarray(pcd.points).shape[0] != np.asarray(pcd.colors).shape[0]:\n",
    "        raise ValueError(\"Point cloud has mismatch between points and colors.\")\n",
    "    \n",
    "    return pcd # should pass all error cases\n",
    "\n",
    "pcd = load(path)\n",
    "\n",
    "print(\"PLY file loaded.\")\n",
    "print('Shape of points', np.asarray(pcd.points).shape)\n",
    "print('Shape of colors', np.asarray(pcd.colors).shape)"
   ]
  },
  {
   "cell_type": "code",
   "execution_count": 5,
   "metadata": {},
   "outputs": [],
   "source": [
    "o3d.visualization.draw_geometries([pcd])"
   ]
  },
  {
   "cell_type": "code",
   "execution_count": 6,
   "metadata": {},
   "outputs": [
    {
     "name": "stdout",
     "output_type": "stream",
     "text": [
      "point cloud has 21 clusters\n"
     ]
    }
   ],
   "source": [
    "pcd_vis = copy.deepcopy(pcd) # need to do this to create a deep copy of pcd\n",
    "\n",
    "def viewClustersViaColours(pcd: o3d.cpu.pybind.geometry.PointCloud) -> None:\n",
    "    '''\n",
    "        Visualising pcd coloured by cluster applying DBSCAN (Density-Based Spatial Clustering of Applications with Noise) algorithm\n",
    "        Alter cluster_dbscan() params for different results\n",
    "            eps: max dist between two samples for them to be considered same neighbourhood\n",
    "            min_points: min number of points required to form a cluster\n",
    "    '''\n",
    "    \n",
    "    labels = np.array(pcd.cluster_dbscan(eps=0.03, min_points=3, print_progress=True))\n",
    "    max_label = labels.max()\n",
    "    print(f\"point cloud has {max_label + 1} clusters\")\n",
    "    colors = plt.get_cmap(\"tab20\")(labels / (max_label if max_label > 0 else 1)) # avoids div error\n",
    "    colors[labels < 0] = 0 # label=-1 indicates noise\n",
    "    pcd.colors = o3d.utility.Vector3dVector(colors[:, :3])\n",
    "    o3d.visualization.draw_geometries([pcd])\n",
    "\n",
    "viewClustersViaColours(pcd_vis)"
   ]
  },
  {
   "cell_type": "code",
   "execution_count": 7,
   "metadata": {},
   "outputs": [
    {
     "data": {
      "application/vnd.jupyter.widget-view+json": {
       "model_id": "2068f0db4e9044109521a143ba56661f",
       "version_major": 2,
       "version_minor": 0
      },
      "text/plain": [
       "FloatSlider(value=0.0)"
      ]
     },
     "metadata": {},
     "output_type": "display_data"
    },
    {
     "data": {
      "application/vnd.jupyter.widget-view+json": {
       "model_id": "ecd9dad45e18482b923be07a418564a7",
       "version_major": 2,
       "version_minor": 0
      },
      "text/plain": [
       "FloatText(value=0.0)"
      ]
     },
     "metadata": {},
     "output_type": "display_data"
    },
    {
     "data": {
      "text/plain": [
       "Link(source=(FloatSlider(value=0.0), 'value'), target=(FloatText(value=0.0), 'value'))"
      ]
     },
     "execution_count": 7,
     "metadata": {},
     "output_type": "execute_result"
    }
   ],
   "source": [
    "import ipywidgets as widgets\n",
    "\n",
    "# Create a slider and a text box\n",
    "slider = widgets.FloatSlider()\n",
    "text = widgets.FloatText()\n",
    "\n",
    "# Display the widgets\n",
    "display(slider, text)\n",
    "\n",
    "# Link the two widgets so they update together\n",
    "widgets.jslink((slider, 'value'), (text, 'value'))\n"
   ]
  },
  {
   "cell_type": "code",
   "execution_count": 8,
   "metadata": {},
   "outputs": [
    {
     "data": {
      "application/vnd.jupyter.widget-view+json": {
       "model_id": "d32db9ff6c3f43dc8cbec41d85334659",
       "version_major": 2,
       "version_minor": 0
      },
      "text/plain": [
       "interactive(children=(FloatSlider(value=-1.2634514570236206, description='thresh_x', max=1.3225486278533936, m…"
      ]
     },
     "metadata": {},
     "output_type": "display_data"
    },
    {
     "data": {
      "text/plain": [
       "<function __main__.view_and_adjust_threshold(thresh_x=-1.2634514570236206, thresh_x_dup=1.3225486278533936, thresh_y=-1.425574541091919, thresh_y_dup=1.4900506734848022, thresh_z=-0.028662221506237984)>"
      ]
     },
     "execution_count": 8,
     "metadata": {},
     "output_type": "execute_result"
    }
   ],
   "source": [
    "from ipywidgets import interact, interactive, fixed, interact_manual, Button\n",
    "from IPython.display import display\n",
    "\n",
    "# holds final state of point cloud\n",
    "final_pcd = None\n",
    "\n",
    "def create_grid_on_plane(thresh, axis, color):\n",
    "    lines = []\n",
    "    colors = []\n",
    "    for i in np.linspace(-1, 1, 10):  # Adjust these values as per your requirements\n",
    "        # vertical lines\n",
    "        start = [i, thresh, -1] if axis == 'y' else ([thresh, i, -1] if axis == 'x' else [-1, i, thresh])\n",
    "        end = [i, thresh, 1] if axis == 'y' else ([thresh, i, 1] if axis == 'x' else [1, i, thresh])\n",
    "        lines.append([start, end])\n",
    "        colors.append(color)\n",
    "        # horizontal lines\n",
    "        start = [-1, thresh, i] if axis == 'y' else ([thresh, -1, i] if axis == 'x' else [i, -1, thresh])\n",
    "        end = [1, thresh, i] if axis == 'y' else ([thresh, 1, i] if axis == 'x' else [i, 1, thresh])\n",
    "        lines.append([start, end])\n",
    "        colors.append(color)\n",
    "\n",
    "    line_set = o3d.geometry.LineSet(\n",
    "        points=o3d.utility.Vector3dVector(np.array(lines).reshape(-1, 3)),\n",
    "        lines=o3d.utility.Vector2iVector(np.array([[i, i+1] for i in range(0, len(lines)*2, 2)])),\n",
    "    )\n",
    "\n",
    "    line_set.colors = o3d.utility.Vector3dVector(colors)\n",
    "    return line_set\n",
    "\n",
    "\n",
    "pcd_tmp = np.asarray(pcd.points)\n",
    "\n",
    "min_x, min_y, min_z = pcd_tmp.min(axis=0)\n",
    "max_x, max_y, max_z = pcd_tmp.max(axis=0)\n",
    "def view_and_adjust_threshold(thresh_x=min_x, thresh_x_dup=max_x, thresh_y=min_y, thresh_y_dup=max_y, thresh_z=min_z):\n",
    "    global final_pcd \n",
    "\n",
    "    pcd_tmp = np.asarray(pcd.points)\n",
    "    pcd_tmpc = np.asarray(pcd.colors)\n",
    "\n",
    "    indices = (((pcd_tmp[:,0] > thresh_x) & (pcd_tmp[:,0] < thresh_x_dup)) & \n",
    "               ((pcd_tmp[:,1] > thresh_y) & (pcd_tmp[:,1] < thresh_y_dup)) & \n",
    "               (pcd_tmp[:,2] > thresh_z))\n",
    "    pcd_tmp_tmp = pcd_tmp[indices]\n",
    "    pcd_tmp_tmpc = pcd_tmpc[indices]\n",
    "\n",
    "    filtered = o3d.geometry.PointCloud()\n",
    "    filtered.points = o3d.utility.Vector3dVector(pcd_tmp_tmp)\n",
    "    filtered.colors = o3d.utility.Vector3dVector(pcd_tmp_tmpc)\n",
    "    \n",
    "    final_pcd = filtered\n",
    "    \n",
    "    plane_x = create_grid_on_plane(thresh_x, 'x', [1, 0, 0])  # red color for x plane\n",
    "    plane_y = create_grid_on_plane(thresh_y, 'y', [0, 1, 0])  # green color for y plane\n",
    "    plane_z = create_grid_on_plane(thresh_z, 'z', [0, 0, 1])  # blue color for z plane\n",
    "    \n",
    "    plane_x_dup = create_grid_on_plane(thresh_x_dup, 'x', [1, 0, 0])  # duplicate x plane\n",
    "    plane_y_dup = create_grid_on_plane(thresh_y_dup, 'y', [0, 1, 0])  # duplicate y plane\n",
    "\n",
    "    o3d.visualization.draw_geometries([final_pcd, plane_x, plane_y, plane_z, plane_x_dup, plane_y_dup])\n",
    "\n",
    "def save_pcd(b):\n",
    "    if final_pcd is not None:\n",
    "        o3d.io.write_point_cloud(\"final.ply\", final_pcd)\n",
    "        print(\"Point cloud saved!\")\n",
    "    else:\n",
    "        print(\"No point cloud to save.\")\n",
    "\n",
    "\n",
    "save_button = Button(description=\"Save point cloud\")\n",
    "save_button.on_click(save_pcd)  \n",
    "\n",
    "interact(view_and_adjust_threshold, \n",
    "         thresh_x=(min_x,max_x,(max_x-min_x)/10), \n",
    "         thresh_x_dup=(min_x, max_x, (max_x-min_x)/10), \n",
    "         thresh_y=(min_y,max_y,(max_y-min_y)/10), \n",
    "         thresh_y_dup=(min_y,max_y,(max_y-min_y)/10), \n",
    "         thresh_z=(min_z,max_z,(max_z-min_z)/10))\n",
    "\n",
    "# display(interact, save_button) # saving pcd to a .ply file"
   ]
  },
  {
   "cell_type": "code",
   "execution_count": 12,
   "metadata": {},
   "outputs": [
    {
     "ename": "TypeError",
     "evalue": "__call__() takes from 1 to 2 positional arguments but 3 were given",
     "output_type": "error",
     "traceback": [
      "\u001b[1;31m---------------------------------------------------------------------------\u001b[0m",
      "\u001b[1;31mTypeError\u001b[0m                                 Traceback (most recent call last)",
      "Cell \u001b[1;32mIn[12], line 47\u001b[0m\n\u001b[0;32m     44\u001b[0m z_box \u001b[39m=\u001b[39m VBox([thresh_z_slider, thresh_z_text])\n\u001b[0;32m     46\u001b[0m \u001b[39m# Display everything\u001b[39;00m\n\u001b[1;32m---> 47\u001b[0m interact(VBox([x_box, x_box_dup, y_box, y_box_dup, z_box]), interactive_plot)\n",
      "\u001b[1;31mTypeError\u001b[0m: __call__() takes from 1 to 2 positional arguments but 3 were given"
     ]
    }
   ],
   "source": [
    "from ipywidgets import FloatSlider, FloatText, VBox, HBox\n",
    "from IPython.display import display\n",
    "\n",
    "# Define the ranges and steps for your parameters\n",
    "x_range = (min_x, max_x, (max_x-min_x)/10)\n",
    "y_range = (min_y, max_y, (max_y-min_y)/10)\n",
    "z_range = (min_z, max_z, (max_z-min_z)/10)\n",
    "\n",
    "# Create sliders and text inputs for each parameter\n",
    "thresh_x_slider = FloatSlider(min=x_range[0], max=x_range[1], step=x_range[2])\n",
    "thresh_x_text = FloatText()\n",
    "thresh_x_slider_dup = FloatSlider(min=x_range[0], max=x_range[1], step=x_range[2])\n",
    "thresh_x_text_dup = FloatText()\n",
    "\n",
    "thresh_y_slider = FloatSlider(min=y_range[0], max=y_range[1], step=y_range[2])\n",
    "thresh_y_text = FloatText()\n",
    "thresh_y_slider_dup = FloatSlider(min=y_range[0], max=y_range[1], step=y_range[2])\n",
    "thresh_y_text_dup = FloatText()\n",
    "\n",
    "thresh_z_slider = FloatSlider(min=z_range[0], max=z_range[1], step=z_range[2])\n",
    "thresh_z_text = FloatText()\n",
    "\n",
    "# Link the sliders and text inputs\n",
    "widgets.jslink((thresh_x_slider, 'value'), (thresh_x_text, 'value'))\n",
    "widgets.jslink((thresh_x_slider_dup, 'value'), (thresh_x_text_dup, 'value'))\n",
    "widgets.jslink((thresh_y_slider, 'value'), (thresh_y_text, 'value'))\n",
    "widgets.jslink((thresh_y_slider_dup, 'value'), (thresh_y_text_dup, 'value'))\n",
    "widgets.jslink((thresh_z_slider, 'value'), (thresh_z_text, 'value'))\n",
    "\n",
    "# Create a function to update the view\n",
    "def update_view(thresh_x, thresh_x_dup, thresh_y, thresh_y_dup, thresh_z):\n",
    "    view_and_adjust_threshold(thresh_x, thresh_x_dup, thresh_y, thresh_y_dup, thresh_z)\n",
    "\n",
    "# Create interactive widgets to call the update function when the values change\n",
    "interactive_plot = widgets.interactive(view_and_adjust_threshold, thresh_x=thresh_x_slider, thresh_x_dup=thresh_x_slider_dup, \n",
    "                                       thresh_y=thresh_y_slider, thresh_y_dup=thresh_y_slider_dup, \n",
    "                                       thresh_z=thresh_z_slider)\n",
    "\n",
    "# Create boxes for each parameter (slider + text)\n",
    "x_box = VBox([thresh_x_slider, thresh_x_text])\n",
    "x_box_dup = VBox([thresh_x_slider_dup, thresh_x_text_dup])\n",
    "y_box = VBox([thresh_y_slider, thresh_y_text])\n",
    "y_box_dup = VBox([thresh_y_slider_dup, thresh_y_text_dup])\n",
    "z_box = VBox([thresh_z_slider, thresh_z_text])\n",
    "\n",
    "# Display everything\n",
    "interact(VBox([x_box, x_box_dup, y_box, y_box_dup, z_box]), interactive_plot)\n"
   ]
  },
  {
   "cell_type": "code",
   "execution_count": null,
   "metadata": {},
   "outputs": [],
   "source": [
    "o3d.visualization.draw_geometries([final_pcd])"
   ]
  },
  {
   "cell_type": "code",
   "execution_count": null,
   "metadata": {},
   "outputs": [],
   "source": [
    "# note: pcd = final_pcd creates a shallow copy, only stores reference to cropped pcd so any cahnges to pcd = changes to final_pcd   \n",
    "# Use deepcopy() to create an independent / deep copy\n",
    "\n",
    "pcd = copy.deepcopy(final_pcd) "
   ]
  },
  {
   "cell_type": "code",
   "execution_count": null,
   "metadata": {},
   "outputs": [],
   "source": [
    "o3d.visualization.draw_geometries([pcd])"
   ]
  },
  {
   "cell_type": "markdown",
   "metadata": {},
   "source": [
    "# Preprocessing"
   ]
  },
  {
   "cell_type": "code",
   "execution_count": null,
   "metadata": {},
   "outputs": [],
   "source": [
    "# Perform plane segmentation\n",
    "plane_model, inliers = pcd.segment_plane(distance_threshold=0.01,\n",
    "                                        ransac_n=3,\n",
    "                                        num_iterations=2000)\n",
    "# Here, distance_threshold is the maximum distance a point can be from the plane to be considered an inlier,\n",
    "# ransac_n is the number of initial points to sample,\n",
    "# num_iterations is the number of iterations the algorithm performs.\n",
    "\n",
    "# inliers contains the indices of the points that belong to the plane\n",
    "# We can use this to create a new point cloud containing only these points:\n",
    "plane = pcd.select_by_index(inliers)\n",
    "plane.paint_uniform_color([0,1,0])\n",
    "\n",
    "# We can also create a point cloud containing everything else:\n",
    "pcd = pcd.select_by_index(inliers, invert=True)\n",
    "\n",
    "# Visualize\n",
    "o3d.visualization.draw_geometries([pcd])"
   ]
  },
  {
   "cell_type": "code",
   "execution_count": null,
   "metadata": {},
   "outputs": [],
   "source": [
    "def bounding_box():\n",
    "    point_cloud = np.asarray(pcd.points)\n",
    "    \n",
    "    # Define the bounding box\n",
    "    min_x = np.min(point_cloud[:, 0])\n",
    "    max_x = np.max(point_cloud[:, 0])\n",
    "    min_y = np.min(point_cloud[:, 1])\n",
    "    max_y = np.max(point_cloud[:, 1])\n",
    "    min_z = np.min(point_cloud[:, 2])\n",
    "    max_z = np.max(point_cloud[:, 2])\n",
    "\n",
    "    # Expand the bounding box slightly\n",
    "    padding = 0.5  # for example, 10% of the range\n",
    "\n",
    "    min_x = padding * min_x\n",
    "    max_x = padding * max_x\n",
    "    min_y = padding * min_y\n",
    "    max_y = padding * max_y\n",
    "    min_z = padding * min_z\n",
    "\n",
    "    # Filter the points\n",
    "    human_points = point_cloud[\n",
    "        (point_cloud[:, 0] >= min_x) & (point_cloud[:, 0] <= max_x) &\n",
    "        (point_cloud[:, 1] >= min_y) & (point_cloud[:, 1] <= max_y) &\n",
    "        (point_cloud[:, 2] >= min_z) & (point_cloud[:, 2] <= max_z)\n",
    "    ]\n",
    "    \n",
    "    human_colors = np.array(pcd.colors)[\n",
    "        (point_cloud[:, 0] >= min_x) & (point_cloud[:, 0] <= max_x) &\n",
    "        (point_cloud[:, 1] >= min_y) & (point_cloud[:, 1] <= max_y) &\n",
    "        (point_cloud[:, 2] >= min_z) & (point_cloud[:, 2] <= max_z)\n",
    "    ]\n",
    "\n",
    "\n",
    "    ###\n",
    "    visualized_point_cloud = o3d.geometry.PointCloud()\n",
    "    visualized_point_cloud.points = o3d.utility.Vector3dVector(human_points)\n",
    "    visualized_point_cloud.colors = o3d.utility.Vector3dVector(human_colors)\n",
    "    \n",
    "    obb = visualized_point_cloud.get_minimal_oriented_bounding_box()\n",
    "    obb.color = [0,0,1]\n",
    "    # abb = visualized_point_cloud.get_oriented_bounding_box()\n",
    "    # abb.color = [0,1,0]\n",
    "    o3d.visualization.draw_geometries([visualized_point_cloud, obb])\n",
    "    \n",
    "    return visualized_point_cloud\n",
    "\n",
    "pcd = bounding_box()"
   ]
  },
  {
   "cell_type": "code",
   "execution_count": null,
   "metadata": {},
   "outputs": [],
   "source": [
    "def minimalBoundingBox(pcd: o3d.cpu.pybind.geometry.PointCloud, factor=0.1) -> None:\n",
    "    '''\n",
    "    Applies a minimal bounding box, isolating the human subject from the scene.\n",
    "    This helps to remove majority of the unnecessary points.\n",
    "    \n",
    "    Args:\n",
    "        pcd (o3d.cpu.pybind.geometry.PointCloud): PointCloud object\n",
    "    \n",
    "    Returns:\n",
    "        type: o3d.cpu.pybind.geometry.PointCloud'     \n",
    "    '''\n",
    "    \n",
    "    points = np.asarray(pcd.points)\n",
    "    \n",
    "    min_x, min_y, min_z = points.min(axis=0)[:3]\n",
    "    max_x, max_y, max_z = points.max(axis=0)[:3]\n",
    "\n",
    "    # std dev in each dimension\n",
    "    std_dev_x, std_dev_y, std_dev_z = np.std(points, axis=0)[:3]\n",
    "\n",
    "    padding_x = factor * std_dev_x\n",
    "    padding_y = factor * std_dev_y\n",
    "\n",
    "    # set to 0 cuz only want to adjust x/y dimensions\n",
    "    padding_z = 0 \n",
    "\n",
    "    bbox = o3d.geometry.AxisAlignedBoundingBox(min_bound=(min_x - padding_x, min_y - padding_y, min_z - padding_z), \n",
    "                                               max_bound=(max_x + padding_x, max_y + padding_y, max_z + padding_z))\n",
    "    bbox.get_minimal_oriented_bounding_box()\n",
    "    bbox.color = [1,0,0]\n",
    "\n",
    "    # Select points within the bounding box\n",
    "    pcd_in_bbox = pcd.crop(bbox)\n",
    "    \n",
    "    o3d.visualization.draw_geometries([bbox, pcd_in_bbox])\n",
    "    \n",
    "    return pcd_in_bbox\n",
    "\n",
    "## TODO! - REVIEW CODE / REFACTOR\n",
    "def bounding_box_minor(pcd: o3d.cpu.pybind.geometry.PointCloud) -> None:\n",
    "    '''\n",
    "    Cleans the floor??\n",
    "    \n",
    "    Brain no work \n",
    "    \n",
    "    '''\n",
    "    \n",
    "    # Create bounding box:\n",
    "    bounds = [[-math.inf, math.inf], [-math.inf, math.inf], [0, 0.0458]]  # set the bounds\n",
    "    \n",
    "    bounding_box_points = list(itertools.product(*bounds))  # create limit points\n",
    "    bounding_box = o3d.geometry.AxisAlignedBoundingBox.create_from_points(\n",
    "        o3d.utility.Vector3dVector(bounding_box_points))  # create bounding box object\n",
    "    \n",
    "    _, inliers = pcd.segment_plane(distance_threshold=0.01,\n",
    "                                          ransac_n=3,\n",
    "                                          num_iterations=1000)\n",
    "    plane = pcd.select_by_index(inliers)\n",
    "    pcd = pcd.select_by_index(inliers, invert=True)\n",
    "    \n",
    "    # Crop the point cloud using the bounding box:\n",
    "    pcd_croped = pcd.crop(bounding_box)\n",
    "    dists = np.asarray(pcd.compute_point_cloud_distance(pcd_croped))\n",
    "    indices = np.where(dists > 0.01)[0]\n",
    "    pcd_cropped_inv = pcd.select_by_index(indices)\n",
    "\n",
    "    # Display the cropped point cloud:\n",
    "    # self.visualise(pcd_croped, windowName=\"pcd cropped\")\n",
    "    # o3d.visualization.draw_geometries([pcd_cropped_inv])\n",
    "        \n",
    "    return pcd_cropped_inv\n",
    "\n",
    "\n",
    "def downsample_clean(pcd: o3d.cpu.pybind.geometry.PointCloud) -> None:\n",
    "    '''\n",
    "    Performs downsampling, outlier removal and bounding box removal\n",
    "    \n",
    "    Args:\n",
    "        pcd (o3d.cpu.pybind.geometry.PointCloud): PointCloud object\n",
    "    \n",
    "    Returns:\n",
    "        type: None \n",
    "    '''\n",
    "\n",
    "    # voxel downsampling: reducing overall num of pts\n",
    "    voxel_size = 0.02\n",
    "    downsampled = pcd.voxel_down_sample(voxel_size) \n",
    "    \n",
    "    # outlier cleaning\n",
    "    _, ind = downsampled.remove_statistical_outlier(nb_neighbors=100, std_ratio=2.0)\n",
    "    cleaned_pcd = downsampled.select_by_index(ind)\n",
    "    \n",
    "    # minimal bounding box\n",
    "    pcd = minimalBoundingBox(cleaned_pcd)\n",
    "    pcd = bounding_box_minor(pcd)\n",
    "\n",
    "    # paint removal parts\n",
    "    epsilon = 0.01\n",
    "    points = np.asarray(pcd.points)\n",
    "    indices = np.where(np.abs(points[:, 2] < epsilon))[0]\n",
    "    \n",
    "    pcd_in_color = pcd.select_by_index(indices)\n",
    "    pcd_in_color.paint_uniform_color([1,1,0])\n",
    "    pcd = pcd.select_by_index(indices, invert=True)\n",
    "    \n",
    "    o3d.visualization.draw_geometries([pcd])\n",
    "\n",
    "    return pcd"
   ]
  },
  {
   "cell_type": "code",
   "execution_count": null,
   "metadata": {},
   "outputs": [],
   "source": [
    "pcd = downsample_clean(pcd)"
   ]
  },
  {
   "cell_type": "code",
   "execution_count": null,
   "metadata": {},
   "outputs": [],
   "source": [
    "from collections import Counter\n",
    "\n",
    "def isolateLargestCluster(pcd: o3d.cpu.pybind.geometry.PointCloud, labels: np.ndarray) -> None:\n",
    "    '''\n",
    "    Uses DBSCAN to group and isolate the largest point cloud \n",
    "       \n",
    "    Args:\n",
    "        pcd (o3d.cpu.pybind.geometry.PointCloud): PointCloud object\n",
    "        labels (np.ndarray): Array of clusters identified by labels\n",
    "    \n",
    "    Returns:\n",
    "        type: o3d.cpu.pybind.geometry.PointCloud\n",
    "    '''\n",
    "\n",
    "    # finding the label of largest cluster + ignoring noisy points labeled -1\n",
    "    counts = Counter(labels)\n",
    "    largest_cluster_label = max(counts.items(), key=lambda x: x[1] if x[0] != -1 else -1)[0]\n",
    "\n",
    "    # get all pts / colors of largest cluster\n",
    "    largest_cluster_points = np.array(pcd.points)[labels == largest_cluster_label]\n",
    "    largest_cluster_colors = np.array(pcd.colors)[labels == largest_cluster_label]\n",
    "    \n",
    "    # new point cloud from the largest cluster pts w/ colors\n",
    "    largest_cluster_pcd = o3d.geometry.PointCloud()\n",
    "    largest_cluster_pcd.points = o3d.utility.Vector3dVector(largest_cluster_points)\n",
    "    largest_cluster_pcd.colors = o3d.utility.Vector3dVector(largest_cluster_colors)\n",
    "    \n",
    "    return largest_cluster_pcd\n",
    "    \n",
    "labels = np.array(pcd.cluster_dbscan(eps=0.05, min_points=3, print_progress=True))\n",
    "pcd = isolateLargestCluster(pcd, labels)\n",
    "o3d.visualization.draw_geometries([pcd])"
   ]
  },
  {
   "cell_type": "code",
   "execution_count": null,
   "metadata": {},
   "outputs": [],
   "source": [
    "labels = np.array(pcd.cluster_dbscan(eps=0.05, min_points=3, print_progress=True))\n",
    "pcd = isolateLargestCluster(pcd, labels)\n",
    "o3d.visualization.draw_geometries([pcd])"
   ]
  },
  {
   "cell_type": "code",
   "execution_count": null,
   "metadata": {},
   "outputs": [],
   "source": [
    "\n",
    "        "
   ]
  },
  {
   "cell_type": "code",
   "execution_count": null,
   "metadata": {},
   "outputs": [],
   "source": []
  },
  {
   "cell_type": "code",
   "execution_count": null,
   "metadata": {},
   "outputs": [],
   "source": []
  },
  {
   "cell_type": "code",
   "execution_count": null,
   "metadata": {},
   "outputs": [],
   "source": []
  },
  {
   "cell_type": "code",
   "execution_count": null,
   "metadata": {},
   "outputs": [],
   "source": []
  },
  {
   "cell_type": "code",
   "execution_count": null,
   "metadata": {},
   "outputs": [],
   "source": []
  }
 ],
 "metadata": {
  "kernelspec": {
   "display_name": "Python 3",
   "language": "python",
   "name": "python3"
  },
  "language_info": {
   "codemirror_mode": {
    "name": "ipython",
    "version": 3
   },
   "file_extension": ".py",
   "mimetype": "text/x-python",
   "name": "python",
   "nbconvert_exporter": "python",
   "pygments_lexer": "ipython3",
   "version": "3.9.16"
  }
 },
 "nbformat": 4,
 "nbformat_minor": 2
}

{
 "cells": [
  {
   "cell_type": "code",
   "execution_count": 15,
   "metadata": {},
   "outputs": [],
   "source": [
    "import numpy as np\n",
    "import open3d as o3d\n",
    "import pathlib\n",
    "import sys\n",
    "import math\n",
    "import itertools\n",
    "import matplotlib.pyplot as plt\n",
    "import copy\n",
    "\n",
    "from collections import Counter"
   ]
  },
  {
   "cell_type": "code",
   "execution_count": 2,
   "metadata": {},
   "outputs": [
    {
     "name": "stdout",
     "output_type": "stream",
     "text": [
      "Numpy version: 1.22.3\n",
      "Open3D version: 0.17.0\n",
      "Python version: 3.8.16\n"
     ]
    }
   ],
   "source": [
    "print(f\"Numpy version: {np.__version__}\")\n",
    "print(f\"Open3D version: {o3d.__version__}\")\n",
    "print(f\"Python version: {sys.version[:6]}\") "
   ]
  },
  {
   "attachments": {},
   "cell_type": "markdown",
   "metadata": {},
   "source": [
    "## Loading in Point cloud data\n",
    "\n",
    "Problems encountered: Trouble cleaning with scans with a depth perception problem, might need to investigate order of code execution\n",
    "\n",
    "Todo: Remove more of the floor manually before applying DBSCAN\n",
    "\n",
    "Trouble with: \n",
    "P003, \n",
    "P010 (ground isnt cleaned??) \n",
    "P011 (weird capture?) \n",
    "P013 (ground isnt cleaned??)\n",
    "P014 (ground isnt cleaned??)\n",
    "P015 (ground)\n",
    "P017\n",
    "\n",
    "\n",
    "P005 / P006 have some spurious points around its edges, especially around the feet."
   ]
  },
  {
   "cell_type": "code",
   "execution_count": 44,
   "metadata": {},
   "outputs": [
    {
     "name": "stdout",
     "output_type": "stream",
     "text": [
      "PLY file loaded.\n",
      "Shape of points (5348000, 3)\n",
      "Shape of colors (5348000, 3)\n"
     ]
    }
   ],
   "source": [
    "# Load ply file\n",
    "path = \"./data/Alex_crop.ply\"\n",
    "\n",
    "def load(path: str) -> o3d.cpu.pybind.geometry.PointCloud:\n",
    "    '''\n",
    "        Loads a ply file provided a valid path with robust error checking\n",
    "        \n",
    "        Checks file path exists and is a ply file that is not empty\n",
    "        \n",
    "        Args:\n",
    "            path: string path to a .ply file\n",
    "        \n",
    "        Returns:\n",
    "            pcd: non-empty point cloud data object\n",
    "    '''\n",
    "    \n",
    "    # checks if file exists\n",
    "    if not pathlib.Path(path).exists(): \n",
    "        raise FileNotFoundError(\"File not found.\")\n",
    "    \n",
    "    # checking correct file format\n",
    "    if pathlib.Path(path).suffix != '.ply':\n",
    "        raise ValueError(f\"Expected a .ply file, got {pathlib.Path(path).suffix}\")\n",
    "    \n",
    "    # check if file is not empty\n",
    "    if pathlib.Path(path).stat().st_size == 0:\n",
    "        raise ValueError(\"File is empty.\")\n",
    "    \n",
    "    pcd = o3d.io.read_point_cloud(path)\n",
    "    \n",
    "    # checks pt cloud is not empty\n",
    "    if not np.asarray(pcd.points).size:\n",
    "        raise ValueError(\"Point cloud has no points.\")\n",
    "    \n",
    "    # pts and colors must match (not too important, but mismatches may lead to incorrect results when vis or analysing)\n",
    "    if np.asarray(pcd.points).shape[0] != np.asarray(pcd.colors).shape[0]:\n",
    "        raise ValueError(\"Point cloud has mismatch between points and colors.\")\n",
    "    \n",
    "    return pcd # should pass all error cases\n",
    "\n",
    "pcd = load(path)\n",
    "\n",
    "print(\"PLY file loaded.\")\n",
    "print('Shape of points', np.asarray(pcd.points).shape)\n",
    "print('Shape of colors', np.asarray(pcd.colors).shape)"
   ]
  },
  {
   "cell_type": "code",
   "execution_count": 45,
   "metadata": {},
   "outputs": [],
   "source": [
    "pcd_tmp = copy.deepcopy(pcd)"
   ]
  },
  {
   "cell_type": "code",
   "execution_count": 6,
   "metadata": {},
   "outputs": [
    {
     "name": "stdout",
     "output_type": "stream",
     "text": [
      "[Open3D WARNING] GLFW Error: WGL: Failed to make context current: The requested transformation operation is not supported. \n",
      "[Open3D WARNING] GLFW Error: WGL: Failed to make context current: The handle is invalid. \n",
      "[Open3D WARNING] GLFW Error: WGL: Failed to make context current: The requested transformation operation is not supported. \n",
      "[Open3D WARNING] GLFW Error: WGL: Failed to make context current: The handle is invalid. \n"
     ]
    }
   ],
   "source": [
    "o3d.visualization.draw_geometries([pcd])"
   ]
  },
  {
   "cell_type": "code",
   "execution_count": 5,
   "metadata": {},
   "outputs": [
    {
     "name": "stdout",
     "output_type": "stream",
     "text": [
      "point cloud has 21 clusters\n"
     ]
    }
   ],
   "source": [
    "pcd_vis = copy.deepcopy(pcd) # need to do this to create a deep copy of pcd\n",
    "\n",
    "def viewClustersViaColours(pcd: o3d.cpu.pybind.geometry.PointCloud) -> None:\n",
    "    '''\n",
    "        Visualising pcd coloured by cluster applying DBSCAN (Density-Based Spatial Clustering of Applications with Noise) algorithm\n",
    "        Alter cluster_dbscan() params for different results\n",
    "            eps: max dist between two samples for them to be considered same neighbourhood\n",
    "            min_points: min number of points required to form a cluster\n",
    "    '''\n",
    "    \n",
    "    labels = np.array(pcd.cluster_dbscan(eps=0.03, min_points=3, print_progress=True))\n",
    "    max_label = labels.max()\n",
    "    print(f\"point cloud has {max_label + 1} clusters\")\n",
    "    colors = plt.get_cmap(\"tab20\")(labels / (max_label if max_label > 0 else 1)) # avoids div error\n",
    "    colors[labels < 0] = 0 # label=-1 indicates noise\n",
    "    pcd.colors = o3d.utility.Vector3dVector(colors[:, :3])\n",
    "    o3d.visualization.draw_geometries([pcd])\n",
    "\n",
    "viewClustersViaColours(pcd_vis)"
   ]
  },
  {
   "cell_type": "code",
   "execution_count": 54,
   "metadata": {},
   "outputs": [
    {
     "data": {
      "application/vnd.jupyter.widget-view+json": {
       "model_id": "56e3f32b85724673bc23c0d6cb05d871",
       "version_major": 2,
       "version_minor": 0
      },
      "text/plain": [
       "interactive(children=(FloatSlider(value=-0.8107507814104118, description='x', max=0.4033583868575452, min=-0.8…"
      ]
     },
     "execution_count": 54,
     "metadata": {},
     "output_type": "execute_result"
    }
   ],
   "source": [
    "from ipywidgets import interact, interactive, Button, FloatSlider, FloatText\n",
    "from ipywidgets import jslink as link\n",
    "from IPython.display import display\n",
    "\n",
    "# holds final state of point cloud\n",
    "final_pcd = None\n",
    "\n",
    "def create_grid_on_plane(thresh, axis, color):\n",
    "    lines = []\n",
    "    colors = []\n",
    "    for i in np.linspace(-1, 1, 10):  # Adjust these values as per your requirements\n",
    "        # vertical lines\n",
    "        start = [i, thresh, -1] if axis == 'y' else ([thresh, i, -1] if axis == 'x' else [-1, i, thresh])\n",
    "        end = [i, thresh, 1] if axis == 'y' else ([thresh, i, 1] if axis == 'x' else [1, i, thresh])\n",
    "        lines.append([start, end])\n",
    "        colors.append(color)\n",
    "        # horizontal lines\n",
    "        start = [-1, thresh, i] if axis == 'y' else ([thresh, -1, i] if axis == 'x' else [i, -1, thresh])\n",
    "        end = [1, thresh, i] if axis == 'y' else ([thresh, 1, i] if axis == 'x' else [i, 1, thresh])\n",
    "        lines.append([start, end])\n",
    "        colors.append(color)\n",
    "\n",
    "    line_set = o3d.geometry.LineSet(\n",
    "        points=o3d.utility.Vector3dVector(np.array(lines).reshape(-1, 3)),\n",
    "        lines=o3d.utility.Vector2iVector(np.array([[i, i+1] for i in range(0, len(lines)*2, 2)])),\n",
    "    )\n",
    "\n",
    "    line_set.colors = o3d.utility.Vector3dVector(colors)\n",
    "    return line_set\n",
    "\n",
    "pcd_tmp = np.asarray(pcd.points)\n",
    "\n",
    "min_x, min_y, min_z = pcd_tmp.min(axis=0)\n",
    "max_x, max_y, max_z = pcd_tmp.max(axis=0)\n",
    "\n",
    "def view_and_adjust_threshold(thresh_x=min_x, thresh_x_dup=max_x, thresh_y=min_y, thresh_y_dup=max_y, thresh_z=min_z):\n",
    "    global final_pcd \n",
    "\n",
    "    pcd_tmp = np.asarray(pcd.points)\n",
    "    # pcd_tmpc = np.asarray(pcd.colors)\n",
    "\n",
    "    indices = (((pcd_tmp[:,0] > thresh_x) & (pcd_tmp[:,0] < thresh_x_dup)) & \n",
    "               ((pcd_tmp[:,1] > thresh_y) & (pcd_tmp[:,1] < thresh_y_dup)) & \n",
    "               (pcd_tmp[:,2] > thresh_z))\n",
    "    pcd_tmp_tmp = pcd_tmp[indices]\n",
    "    # pcd_tmp_tmpc = pcd_tmpc[indices]\n",
    "\n",
    "    filtered = o3d.geometry.PointCloud()\n",
    "    filtered.points = o3d.utility.Vector3dVector(pcd_tmp_tmp)\n",
    "    # filtered.colors = o3d.utility.Vector3dVector(pcd_tmp_tmpc)\n",
    "    \n",
    "    final_pcd = filtered\n",
    "    \n",
    "    plane_x = create_grid_on_plane(thresh_x, 'x', [1, 0, 0])  # red color for x plane\n",
    "    plane_y = create_grid_on_plane(thresh_y, 'y', [0, 1, 0])  # green color for y plane\n",
    "    plane_z = create_grid_on_plane(thresh_z, 'z', [0, 0, 1])  # blue color for z plane\n",
    "    \n",
    "    plane_x_dup = create_grid_on_plane(thresh_x_dup, 'x', [1, 0, 0])  # duplicate x plane\n",
    "    plane_y_dup = create_grid_on_plane(thresh_y_dup, 'y', [0, 1, 0])  # duplicate y plane\n",
    "    \n",
    "    ## visualise origin pt\n",
    "    origin = o3d.geometry.TriangleMesh.create_coordinate_frame(size=1, origin=[0,0,0]) \n",
    "    o3d.visualization.draw_geometries([final_pcd, origin, plane_x, plane_y, plane_z, plane_x_dup, plane_y_dup])\n",
    "\n",
    "    # o3d.visualization.draw_geometries([final_pcd, plane_x, plane_y, plane_z, plane_x_dup, plane_y_dup])\n",
    "\n",
    "def save_pcd(b):\n",
    "    if final_pcd is not None:\n",
    "        o3d.io.write_point_cloud(\"final.ply\", final_pcd)\n",
    "        print(\"Point cloud saved!\")\n",
    "    else:\n",
    "        print(\"No point cloud to save.\")\n",
    "\n",
    "save_button = Button(description=\"Save point cloud\")\n",
    "save_button.on_click(save_pcd)  \n",
    "\n",
    "pcd_tmp = np.asarray(pcd.points)\n",
    "\n",
    "min_x, min_y, min_z = pcd_tmp.min(axis=0)\n",
    "max_x, max_y, max_z = pcd_tmp.max(axis=0)\n",
    "\n",
    "slider_x = FloatSlider(min=min_x, max=max_x, step=0.001, value=min_x, description=\"x\")\n",
    "text_x = FloatText(value=min_x, description=\"x\")\n",
    "link((slider_x, 'value'), (text_x, 'value'))\n",
    "\n",
    "slider_x_dup = FloatSlider(min=min_x, max=max_x, step=0.001, value=max_x, description=\"x_dup\")\n",
    "text_x_dup = FloatText(value=max_x, description=\"x_dup\")\n",
    "link((slider_x_dup, 'value'), (text_x_dup, 'value'))\n",
    "\n",
    "slider_y = FloatSlider(min=min_y, max=max_y, step=0.001, value=min_y, description=\"y\")\n",
    "text_y = FloatText(value=min_y, description=\"y\")\n",
    "link((slider_y, 'value'), (text_y, 'value'))\n",
    "\n",
    "slider_y_dup = FloatSlider(min=min_y, max=max_y, step=0.001, value=max_y, description=\"y_dup\")\n",
    "text_y_dup = FloatText(value=max_y, description=\"y_dup\")\n",
    "link((slider_y_dup, 'value'), (text_y_dup, 'value'))\n",
    "\n",
    "slider_z= FloatSlider(min=min_z, max=max_z, step=0.001, value=min_z, description=\"z\")\n",
    "text_z = FloatText(value=round(min_z, 2), description=\"z\")\n",
    "link((slider_z, 'value'), (text_z, 'value'))\n",
    "\n",
    "interactive(view_and_adjust_threshold, \n",
    "         thresh_x=slider_x, \n",
    "         thresh_x_dup=slider_x_dup, \n",
    "         thresh_y=slider_y, \n",
    "         thresh_y_dup=slider_y_dup, \n",
    "         thresh_z=slider_z)\n",
    "\n",
    "# display(text_x, text_x_dup, text_y, text_y_dup, text_z, interact, save_button)\n"
   ]
  },
  {
   "cell_type": "code",
   "execution_count": 53,
   "metadata": {},
   "outputs": [],
   "source": [
    "from sklearn.decomposition import PCA\n",
    "import numpy as np\n",
    "from scipy.spatial.transform import Rotation\n",
    "\n",
    "valid_points = np.asarray(pcd.points)\n",
    "\n",
    "# 1. Center the data\n",
    "mean_cleaned = np.mean(valid_points, axis=0)\n",
    "centered_data_cleaned = valid_points - mean_cleaned\n",
    "\n",
    "# 2. Scale the data\n",
    "scaling_factor = np.max(np.abs(centered_data_cleaned))\n",
    "scaled_data = centered_data_cleaned / scaling_factor\n",
    "\n",
    "# 3. Compute the covariance matrix\n",
    "covariance_matrix_scaled = np.cov(scaled_data, rowvar=False)\n",
    "\n",
    "# 4. Compute the singular value decomposition\n",
    "_, _, Vt_scaled = np.linalg.svd(covariance_matrix_scaled)\n",
    "\n",
    "# 5. The principal components are the rows of Vt\n",
    "principal_components_scaled = Vt_scaled\n",
    "\n",
    "def compute_rotation_matrix_to_z_axis(normal_vector):\n",
    "    \"\"\"Compute the rotation matrix that aligns the given vector with the z-axis.\"\"\"\n",
    "    \n",
    "    # Vector we want to align the normal to (z-axis)\n",
    "    target_vector = np.array([1, 0, 0])\n",
    "    \n",
    "    # Compute the rotation vector\n",
    "    rotation_vector = np.cross(normal_vector, target_vector)\n",
    "    rotation_vector_magnitude = np.linalg.norm(rotation_vector)\n",
    "    \n",
    "    # Compute the rotation angle\n",
    "    dot_product = np.dot(normal_vector, target_vector)\n",
    "    cos_angle = dot_product / (np.linalg.norm(normal_vector) * np.linalg.norm(target_vector))\n",
    "    rotation_angle = np.arccos(cos_angle)\n",
    "    \n",
    "    # Get the rotation matrix\n",
    "    rotation = Rotation.from_rotvec(rotation_angle * rotation_vector / rotation_vector_magnitude)\n",
    "    rotation_matrix = rotation.as_matrix()\n",
    "    \n",
    "    return rotation_matrix\n",
    "\n",
    "# Get the normal vector of the primary plane of variation (third principal component)\n",
    "normal_vector = principal_components_scaled[2, :]\n",
    "\n",
    "# Compute the rotation matrix\n",
    "rotation_matrix_to_z = compute_rotation_matrix_to_z_axis(normal_vector)\n",
    "\n",
    "# Rotate the point cloud to align with the z-axis\n",
    "aligned_points = valid_points @ rotation_matrix_to_z.T\n",
    "\n",
    "origin = o3d.geometry.TriangleMesh.create_coordinate_frame(size=1, origin=[0,0,0]) \n",
    "\n",
    "pcd = o3d.geometry.PointCloud()\n",
    "pcd.points = o3d.utility.Vector3dVector(aligned_points)\n",
    "pcd.colors = o3d.utility.Vector3dVector(np.asarray(pcd.colors))\n",
    "o3d.visualization.draw_geometries([origin, pcd])"
   ]
  },
  {
   "cell_type": "code",
   "execution_count": 47,
   "metadata": {},
   "outputs": [
    {
     "data": {
      "application/vnd.jupyter.widget-view+json": {
       "model_id": "39818a059a084baab87c93beab6e715d",
       "version_major": 2,
       "version_minor": 0
      },
      "text/plain": [
       "FloatText(value=-1.123749355465542, description='x')"
      ]
     },
     "metadata": {},
     "output_type": "display_data"
    },
    {
     "data": {
      "application/vnd.jupyter.widget-view+json": {
       "model_id": "12784e9fb89d4a6695da02c0d38900f6",
       "version_major": 2,
       "version_minor": 0
      },
      "text/plain": [
       "FloatText(value=0.805807093087455, description='x_dup')"
      ]
     },
     "metadata": {},
     "output_type": "display_data"
    },
    {
     "data": {
      "application/vnd.jupyter.widget-view+json": {
       "model_id": "9df08af5a5c94f9dbc3fcae2c3622c1c",
       "version_major": 2,
       "version_minor": 0
      },
      "text/plain": [
       "FloatText(value=-1.1921722000838315, description='y')"
      ]
     },
     "metadata": {},
     "output_type": "display_data"
    },
    {
     "data": {
      "application/vnd.jupyter.widget-view+json": {
       "model_id": "260bec95ef5f47c88e6cff5b6cd78993",
       "version_major": 2,
       "version_minor": 0
      },
      "text/plain": [
       "FloatText(value=1.1518723234370207, description='y_dup')"
      ]
     },
     "metadata": {},
     "output_type": "display_data"
    },
    {
     "data": {
      "application/vnd.jupyter.widget-view+json": {
       "model_id": "46ce1049e4ce49d1a202c058d0aecf1d",
       "version_major": 2,
       "version_minor": 0
      },
      "text/plain": [
       "FloatText(value=-0.40335838685753456, description='z')"
      ]
     },
     "metadata": {},
     "output_type": "display_data"
    },
    {
     "data": {
      "text/plain": [
       "<ipywidgets.widgets.interaction._InteractFactory at 0x17d64cd57c0>"
      ]
     },
     "metadata": {},
     "output_type": "display_data"
    },
    {
     "data": {
      "application/vnd.jupyter.widget-view+json": {
       "model_id": "1dc3182c98ae4881b5572af1a5cd89f8",
       "version_major": 2,
       "version_minor": 0
      },
      "text/plain": [
       "Button(description='Save point cloud', style=ButtonStyle())"
      ]
     },
     "metadata": {},
     "output_type": "display_data"
    }
   ],
   "source": [
    "interactive(view_and_adjust_threshold, \n",
    "         thresh_x=slider_x, \n",
    "         thresh_x_dup=slider_x_dup, \n",
    "         thresh_y=slider_y, \n",
    "         thresh_y_dup=slider_y_dup, \n",
    "         thresh_z=slider_z)\n",
    "\n",
    "display(text_x, text_x_dup, text_y, text_y_dup, text_z, interact, save_button)"
   ]
  },
  {
   "cell_type": "code",
   "execution_count": 27,
   "metadata": {},
   "outputs": [
    {
     "data": {
      "application/vnd.jupyter.widget-view+json": {
       "model_id": "c24e02e2f62644dba6fcb07034b5f05a",
       "version_major": 2,
       "version_minor": 0
      },
      "text/plain": [
       "FloatSlider(value=5.0, description='X Value:', max=10.0)"
      ]
     },
     "metadata": {},
     "output_type": "display_data"
    },
    {
     "data": {
      "application/vnd.jupyter.widget-view+json": {
       "model_id": "1f9c0fe1846a497f84c480647565e76d",
       "version_major": 2,
       "version_minor": 0
      },
      "text/plain": [
       "Button(description='Visualize', style=ButtonStyle())"
      ]
     },
     "metadata": {},
     "output_type": "display_data"
    }
   ],
   "source": [
    "from ipywidgets import interactive, Button\n",
    "\n",
    "def my_function(x):\n",
    "    print(f\"Using value: {x}\")\n",
    "\n",
    "slider_x = FloatSlider(min=0, max=10, step=0.1, value=5, description=\"X Value:\")\n",
    "w = interactive(my_function, x=slider_x)\n",
    "\n",
    "def on_button_click(b):\n",
    "    view_and_adjust_threshold()\n",
    "\n",
    "button = Button(description=\"Visualize\")\n",
    "button.on_click(on_button_click)\n",
    "\n",
    "display(slider_x, button)\n"
   ]
  },
  {
   "cell_type": "code",
   "execution_count": 28,
   "metadata": {},
   "outputs": [],
   "source": [
    "o3d.visualization.draw_geometries([final_pcd])"
   ]
  },
  {
   "cell_type": "code",
   "execution_count": 14,
   "metadata": {},
   "outputs": [],
   "source": [
    "# note: pcd = final_pcd creates a shallow copy, only stores reference to cropped pcd so any cahnges to pcd = changes to final_pcd   \n",
    "# Use deepcopy() to create an independent / deep copy\n",
    "\n",
    "pcd = copy.deepcopy(final_pcd) "
   ]
  },
  {
   "cell_type": "code",
   "execution_count": 30,
   "metadata": {},
   "outputs": [],
   "source": [
    "o3d.visualization.draw_geometries([pcd])"
   ]
  },
  {
   "cell_type": "markdown",
   "metadata": {},
   "source": [
    "# Preprocessing"
   ]
  },
  {
   "cell_type": "code",
   "execution_count": 31,
   "metadata": {},
   "outputs": [],
   "source": [
    "# Perform plane segmentation\n",
    "plane_model, inliers = pcd.segment_plane(distance_threshold=0.01,\n",
    "                                        ransac_n=3,\n",
    "                                        num_iterations=2000)\n",
    "# Here, distance_threshold is the maximum distance a point can be from the plane to be considered an inlier,\n",
    "# ransac_n is the number of initial points to sample,\n",
    "# num_iterations is the number of iterations the algorithm performs.\n",
    "\n",
    "# inliers contains the indices of the points that belong to the plane\n",
    "# We can use this to create a new point cloud containing only these points:\n",
    "plane = pcd.select_by_index(inliers)\n",
    "plane.paint_uniform_color([0,1,0])\n",
    "\n",
    "# We can also create a point cloud containing everything else:\n",
    "pcd = pcd.select_by_index(inliers, invert=True)\n",
    "\n",
    "# Visualize\n",
    "o3d.visualization.draw_geometries([pcd])"
   ]
  },
  {
   "cell_type": "code",
   "execution_count": 32,
   "metadata": {},
   "outputs": [
    {
     "data": {
      "text/plain": [
       "PointCloud with 11405 points."
      ]
     },
     "execution_count": 32,
     "metadata": {},
     "output_type": "execute_result"
    }
   ],
   "source": [
    "def downsample_clean(pcd: o3d.cpu.pybind.geometry.PointCloud) -> None:\n",
    "    '''\n",
    "    Performs downsampling, outlier removal and bounding box removal\n",
    "    \n",
    "    Args:\n",
    "        pcd (o3d.cpu.pybind.geometry.PointCloud): PointCloud object\n",
    "    \n",
    "    Returns:\n",
    "        type: None \n",
    "    '''\n",
    "\n",
    "    # voxel downsampling: reducing overall num of pts\n",
    "    voxel_size = 0.01\n",
    "    downsampled = pcd.voxel_down_sample(voxel_size) \n",
    "    \n",
    "    # outlier cleaning\n",
    "    _, ind = downsampled.remove_statistical_outlier(nb_neighbors=100, std_ratio=2.0)\n",
    "    cleaned_pcd = downsampled.select_by_index(ind)\n",
    "    \n",
    "    # paint removal parts\n",
    "    epsilon = 0.01\n",
    "    points = np.asarray(pcd.points)\n",
    "    indices = np.where(np.abs(points[:, 2] < epsilon))[0]\n",
    "    \n",
    "    pcd_in_color = pcd.select_by_index(indices)\n",
    "    pcd_in_color.paint_uniform_color([1,1,0])\n",
    "    pcd = pcd.select_by_index(indices, invert=True)\n",
    "    \n",
    "    o3d.visualization.draw_geometries([pcd])\n",
    "\n",
    "    return pcd\n",
    "\n",
    "downsample_clean(pcd)"
   ]
  },
  {
   "cell_type": "code",
   "execution_count": 33,
   "metadata": {},
   "outputs": [
    {
     "name": "stdout",
     "output_type": "stream",
     "text": [
      "[Open3D WARNING] GLFW Error: WGL: Failed to make context current: The requested transformation operation is not supported. \n",
      "[Open3D WARNING] GLFW Error: WGL: Failed to make context current: The requested transformation operation is not supported. \n"
     ]
    }
   ],
   "source": [
    "pcd = downsample_clean(pcd)"
   ]
  },
  {
   "cell_type": "code",
   "execution_count": 34,
   "metadata": {},
   "outputs": [],
   "source": [
    "\n",
    "def isolateLargestCluster(pcd: o3d.cpu.pybind.geometry.PointCloud, labels: np.ndarray) -> None:\n",
    "    '''\n",
    "    Uses DBSCAN to group and isolate the largest point cloud \n",
    "       \n",
    "    Args:\n",
    "        pcd (o3d.cpu.pybind.geometry.PointCloud): PointCloud object\n",
    "        labels (np.ndarray): Array of clusters identified by labels\n",
    "    \n",
    "    Returns:\n",
    "        type: o3d.cpu.pybind.geometry.PointCloud\n",
    "    '''\n",
    "\n",
    "    # finding the label of largest cluster + ignoring noisy points labeled -1\n",
    "    counts = Counter(labels)\n",
    "    largest_cluster_label = max(counts.items(), key=lambda x: x[1] if x[0] != -1 else -1)[0]\n",
    "\n",
    "    # get all pts / colors of largest cluster\n",
    "    largest_cluster_points = np.array(pcd.points)[labels == largest_cluster_label]\n",
    "    largest_cluster_colors = np.array(pcd.colors)[labels == largest_cluster_label]\n",
    "    \n",
    "    # new point cloud from the largest cluster pts w/ colors\n",
    "    largest_cluster_pcd = o3d.geometry.PointCloud()\n",
    "    largest_cluster_pcd.points = o3d.utility.Vector3dVector(largest_cluster_points)\n",
    "    largest_cluster_pcd.colors = o3d.utility.Vector3dVector(largest_cluster_colors)\n",
    "    \n",
    "    return largest_cluster_pcd\n",
    "    \n",
    "labels = np.array(pcd.cluster_dbscan(eps=0.05, min_points=3, print_progress=True))\n",
    "pcd = isolateLargestCluster(pcd, labels)\n",
    "o3d.visualization.draw_geometries([pcd])"
   ]
  },
  {
   "cell_type": "code",
   "execution_count": null,
   "metadata": {},
   "outputs": [],
   "source": [
    "\n",
    "        "
   ]
  },
  {
   "cell_type": "code",
   "execution_count": null,
   "metadata": {},
   "outputs": [],
   "source": []
  },
  {
   "cell_type": "code",
   "execution_count": null,
   "metadata": {},
   "outputs": [],
   "source": []
  },
  {
   "cell_type": "code",
   "execution_count": null,
   "metadata": {},
   "outputs": [],
   "source": []
  },
  {
   "cell_type": "code",
   "execution_count": null,
   "metadata": {},
   "outputs": [],
   "source": []
  },
  {
   "cell_type": "code",
   "execution_count": null,
   "metadata": {},
   "outputs": [],
   "source": []
  }
 ],
 "metadata": {
  "kernelspec": {
   "display_name": "Python 3",
   "language": "python",
   "name": "python3"
  },
  "language_info": {
   "codemirror_mode": {
    "name": "ipython",
    "version": 3
   },
   "file_extension": ".py",
   "mimetype": "text/x-python",
   "name": "python",
   "nbconvert_exporter": "python",
   "pygments_lexer": "ipython3",
   "version": "3.8.16"
  }
 },
 "nbformat": 4,
 "nbformat_minor": 2
}

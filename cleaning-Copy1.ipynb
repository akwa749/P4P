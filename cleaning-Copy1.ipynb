{
 "cells": [
  {
   "cell_type": "code",
   "execution_count": 2,
   "metadata": {},
   "outputs": [
    {
     "name": "stdout",
     "output_type": "stream",
     "text": [
      "Jupyter environment detected. Enabling Open3D WebVisualizer.\n",
      "[Open3D INFO] WebRTC GUI backend enabled.\n",
      "[Open3D INFO] WebRTCWindowSystem: HTTP handshake server disabled.\n"
     ]
    }
   ],
   "source": [
    "import numpy as np\n",
    "import open3d as o3d\n",
    "# import pptk # works with Python 3.6"
   ]
  },
  {
   "cell_type": "code",
   "execution_count": 3,
   "metadata": {},
   "outputs": [
    {
     "name": "stdout",
     "output_type": "stream",
     "text": [
      "PLY file loaded\n"
     ]
    }
   ],
   "source": [
    "# Load ply file\n",
    "pc_ply = o3d.io.read_point_cloud(\"./data/P001 2022-01-25 01_39_54.ply\")\n",
    "print('PLY file loaded')"
   ]
  },
  {
   "cell_type": "code",
   "execution_count": 4,
   "metadata": {},
   "outputs": [
    {
     "name": "stdout",
     "output_type": "stream",
     "text": [
      "['HalfEdgeTriangleMesh', 'Image', 'LineSet', 'PointCloud', 'RGBDImage', 'TetraMesh', 'TriangleMesh', 'Type', 'Unspecified', 'VoxelGrid', '__add__', '__class__', '__copy__', '__deepcopy__', '__delattr__', '__dir__', '__doc__', '__eq__', '__format__', '__ge__', '__getattribute__', '__gt__', '__hash__', '__iadd__', '__init__', '__init_subclass__', '__le__', '__lt__', '__module__', '__ne__', '__new__', '__reduce__', '__reduce_ex__', '__repr__', '__setattr__', '__sizeof__', '__str__', '__subclasshook__', 'clear', 'cluster_dbscan', 'colors', 'compute_convex_hull', 'compute_mahalanobis_distance', 'compute_mean_and_covariance', 'compute_nearest_neighbor_distance', 'compute_point_cloud_distance', 'covariances', 'create_from_depth_image', 'create_from_rgbd_image', 'crop', 'dimension', 'estimate_covariances', 'estimate_normals', 'estimate_point_covariances', 'farthest_point_down_sample', 'get_axis_aligned_bounding_box', 'get_center', 'get_geometry_type', 'get_max_bound', 'get_min_bound', 'get_oriented_bounding_box', 'get_rotation_matrix_from_axis_angle', 'get_rotation_matrix_from_quaternion', 'get_rotation_matrix_from_xyz', 'get_rotation_matrix_from_xzy', 'get_rotation_matrix_from_yxz', 'get_rotation_matrix_from_yzx', 'get_rotation_matrix_from_zxy', 'get_rotation_matrix_from_zyx', 'has_colors', 'has_covariances', 'has_normals', 'has_points', 'hidden_point_removal', 'is_empty', 'normalize_normals', 'normals', 'orient_normals_consistent_tangent_plane', 'orient_normals_to_align_with_direction', 'orient_normals_towards_camera_location', 'paint_uniform_color', 'points', 'random_down_sample', 'remove_duplicated_points', 'remove_non_finite_points', 'remove_radius_outlier', 'remove_statistical_outlier', 'rotate', 'scale', 'segment_plane', 'select_by_index', 'transform', 'translate', 'uniform_down_sample', 'voxel_down_sample', 'voxel_down_sample_and_trace']\n"
     ]
    }
   ],
   "source": [
    "# PLY file info\n",
    "print(dir(pc_ply))"
   ]
  },
  {
   "cell_type": "code",
   "execution_count": 5,
   "metadata": {},
   "outputs": [
    {
     "name": "stdout",
     "output_type": "stream",
     "text": [
      "Shape of points (247847, 3)\n",
      "Shape of colors (247847, 3)\n"
     ]
    }
   ],
   "source": [
    "print('Shape of points', np.asarray(pc_ply.points).shape)\n",
    "print('Shape of colors', np.asarray(pc_ply.colors).shape)"
   ]
  },
  {
   "cell_type": "code",
   "execution_count": 6,
   "metadata": {},
   "outputs": [],
   "source": [
    "# visualise\n",
    "o3d.visualization.draw_geometries([pc_ply], window_name=\"Original Point Cloud\")"
   ]
  },
  {
   "cell_type": "code",
   "execution_count": 7,
   "metadata": {},
   "outputs": [],
   "source": [
    "# downsampling\n",
    "voxelSize = 0.01\n",
    "downsampled = pc_ply.voxel_down_sample(voxelSize)"
   ]
  },
  {
   "cell_type": "code",
   "execution_count": 8,
   "metadata": {},
   "outputs": [],
   "source": [
    "# outliers\n",
    "cl, ind = downsampled.remove_statistical_outlier(nb_neighbors=20, std_ratio=2.0)\n",
    "cleaned_pcd = downsampled.select_by_index(ind)"
   ]
  },
  {
   "cell_type": "code",
   "execution_count": 9,
   "metadata": {},
   "outputs": [],
   "source": [
    "plane_model, inliers = cleaned_pcd.segment_plane(distance_threshold=0.009, ransac_n=3, num_iterations=10000)\n",
    "inlier_cloud = cleaned_pcd.select_by_index(inliers)\n",
    "outlier_cloud = cleaned_pcd.select_by_index(inliers, invert=True)\n",
    "\n",
    "# Visualize the cleaned point cloud\n",
    "o3d.visualization.draw_geometries([outlier_cloud], window_name=\"Cleaned Point Cloud\")\n"
   ]
  },
  {
   "cell_type": "code",
   "execution_count": 10,
   "metadata": {},
   "outputs": [],
   "source": [
    "# Define your bounding box to clean far away points\n",
    "\n",
    "points = np.asarray(outlier_cloud.points)\n",
    "\n",
    "min_x, min_y, min_z = points.min(axis=0)[:3]\n",
    "max_x, max_y, max_z = points.max(axis=0)[:3]\n",
    "\n",
    "\n",
    "\n",
    "padding = 0.53\n",
    "bbox = o3d.geometry.AxisAlignedBoundingBox(min_bound=(padding*min_x, padding*min_y ,padding*min_z ), max_bound=(padding*max_x, padding*max_y, max_z))\n",
    "\n",
    "# Select points within the bounding box\n",
    "pcd_in_bbox = outlier_cloud.crop(bbox)\n",
    "\n",
    "# Visualize\n",
    "o3d.visualization.draw_geometries([pcd_in_bbox], window_name=\"Point Cloud within BoundingBox\")\n",
    "\n"
   ]
  },
  {
   "cell_type": "code",
   "execution_count": 11,
   "metadata": {},
   "outputs": [],
   "source": [
    "# Convert the point cloud to a numpy array\n",
    "points = np.asarray(pcd_in_bbox.points)\n",
    "\n",
    "# Define a height threshold\n",
    "min_x, min_y, min_z = points.min(axis=0)[:3]\n",
    "\n",
    "height_threshold = min_z  + 0.03  # Adjust this value based on your needs\n",
    "\n",
    "# Create a mask for points below the height threshold\n",
    "mask = points[:, 2] > height_threshold\n",
    "\n",
    "# Select points below the height threshold\n",
    "subset_pcd = pcd_in_bbox.select_by_index(np.where(mask)[0])\n",
    "\n",
    "# Visualize\n",
    "o3d.visualization.draw_geometries([subset_pcd], window_name=\"Cleaned Point Cloud after DBSCAN Clustering on Subset\")\n",
    "\n",
    "\n"
   ]
  },
  {
   "cell_type": "code",
   "execution_count": 54,
   "metadata": {},
   "outputs": [
    {
     "name": "stderr",
     "output_type": "stream",
     "text": [
      "C:\\Users\\Anthony\\anaconda3\\lib\\site-packages\\sklearn\\cluster\\_kmeans.py:870: FutureWarning: The default value of `n_init` will change from 10 to 'auto' in 1.4. Set the value of `n_init` explicitly to suppress the warning\n",
      "  warnings.warn(\n"
     ]
    }
   ],
   "source": [
    "from sklearn.cluster import KMeans\n",
    "\n",
    "# Convert the point cloud to a numpy array\n",
    "points = np.asarray(pcd_in_bbox.points)\n",
    "\n",
    "# Calculate the centroid of the entire point cloud\n",
    "centroid = np.mean(points, axis=0)\n",
    "\n",
    "# Define the approximate z-coordinate of the feet\n",
    "feet_z = min_z  # Adjust this value based on your data\n",
    "\n",
    "# Shift the centroid to the level of the feet\n",
    "centroid[2] = feet_z\n",
    "\n",
    "# Define a tolerance\n",
    "tolerance = 0.05  # Adjust this value based on your needs\n",
    "\n",
    "# Create a mask for points that are within the tolerance of the new centroid\n",
    "mask = np.logical_and(points[:, 2] > (centroid[2] - tolerance), points[:, 2] < (centroid[2] + tolerance))\n",
    "\n",
    "# Extract the segment of the point cloud\n",
    "segment_points = points[mask]\n",
    "\n",
    "# Perform k-means clustering on the segment with 2 clusters (the feet and the floor)\n",
    "kmeans = KMeans(n_clusters=2, random_state=0).fit(segment_points)\n",
    "\n",
    "# Find the index of the cluster whose centroid is closer to the new centroid\n",
    "feet_cluster_index = np.argmin(np.linalg.norm(kmeans.cluster_centers_ - centroid, axis=1))\n",
    "\n",
    "# Create a mask for points in the segment that belong to the feet cluster\n",
    "segment_mask = kmeans.labels_ == feet_cluster_index\n",
    "\n",
    "# Combine the segment mask with the original mask to get a mask for the feet in the original point cloud\n",
    "mask[mask] = segment_mask\n",
    "\n",
    "# Select points using the mask\n",
    "final_pcd = pcd_in_bbox.select_by_index(np.where(~mask)[0])\n",
    "\n",
    "# Visualize\n",
    "o3d.visualization.draw_geometries([final_pcd], window_name=\"Cleaned Point Cloud after Removing Floor Points\")\n"
   ]
  },
  {
   "cell_type": "code",
   "execution_count": 56,
   "metadata": {},
   "outputs": [],
   "source": [
    "# Define the distance thresholds\n",
    "x_threshold = 0.01  # Adjust this value based on your data\n",
    "y_threshold = 0.01  # Adjust this value based on your data\n",
    "z_threshold = 0.1  # Adjust this value based on your data\n",
    "\n",
    "\n",
    "points = np.asarray(final_pcd.points)\n",
    "\n",
    "\n",
    "\n",
    "# Create a mask for points that are at or below the height of the centroid\n",
    "height_mask = points[:, 2] <= centroid[2] \n",
    "\n",
    "# Select points using the height mask\n",
    "segment_points = points[height_mask]\n",
    "\n",
    "# Create masks for points that are within the distance thresholds from the centroid\n",
    "x_mask = np.abs(segment_points[:, 0] - centroid[0]) <= x_threshold\n",
    "y_mask = np.abs(segment_points[:, 1] - centroid[1]) <= y_threshold\n",
    "\n",
    "# Combine the masks for x and y\n",
    "xy_mask = np.logical_and(x_mask, y_mask)\n",
    "\n",
    "# Get the opposite of the xy_mask\n",
    "inverse_xy_mask = ~xy_mask\n",
    "\n",
    "# Select points using the inverse_xy_mask\n",
    "final_segment_points = segment_points[inverse_xy_mask]\n",
    "\n",
    "# Combine the final_segment_points with the points above the height of the centroid\n",
    "final_points = np.vstack((points[~height_mask], final_segment_points))\n",
    "\n",
    "# Convert the final points to a point cloud\n",
    "final_pcd = o3d.geometry.PointCloud()\n",
    "final_pcd.points = o3d.utility.Vector3dVector(final_points)\n",
    "\n",
    "# Visualize\n",
    "o3d.visualization.draw_geometries([final_pcd], window_name=\"Cleaned Point Cloud after Removing Far Points\")\n"
   ]
  },
  {
   "cell_type": "code",
   "execution_count": 16,
   "metadata": {},
   "outputs": [],
   "source": [
    "o3d.visualization.draw_geometries([outlier_cloud], window_name=\"Cleaned Point Cloud\")"
   ]
  },
  {
   "cell_type": "code",
   "execution_count": null,
   "metadata": {},
   "outputs": [],
   "source": []
  },
  {
   "cell_type": "code",
   "execution_count": null,
   "metadata": {},
   "outputs": [],
   "source": []
  },
  {
   "cell_type": "code",
   "execution_count": null,
   "metadata": {},
   "outputs": [],
   "source": []
  }
 ],
 "metadata": {
  "kernelspec": {
   "display_name": "Python 3",
   "language": "python",
   "name": "python3"
  },
  "language_info": {
   "codemirror_mode": {
    "name": "ipython",
    "version": 3
   },
   "file_extension": ".py",
   "mimetype": "text/x-python",
   "name": "python",
   "nbconvert_exporter": "python",
   "pygments_lexer": "ipython3",
   "version": "3.8.5"
  }
 },
 "nbformat": 4,
 "nbformat_minor": 2
}

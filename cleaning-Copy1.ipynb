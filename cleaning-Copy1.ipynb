{
 "cells": [
  {
   "cell_type": "code",
   "execution_count": 24,
   "metadata": {},
   "outputs": [],
   "source": [
    "import numpy as np\n",
    "import open3d as o3d\n",
    "\n",
    "# o3d.interactive = False"
   ]
  },
  {
   "attachments": {},
   "cell_type": "markdown",
   "metadata": {},
   "source": [
    "## Loading in Point cloud data"
   ]
  },
  {
   "cell_type": "code",
   "execution_count": 56,
   "metadata": {},
   "outputs": [
    {
     "name": "stdout",
     "output_type": "stream",
     "text": [
      "PLY file loaded\n"
     ]
    },
    {
     "data": {
      "text/plain": [
       "open3d.cpu.pybind.geometry.PointCloud"
      ]
     },
     "execution_count": 56,
     "metadata": {},
     "output_type": "execute_result"
    }
   ],
   "source": [
    "# Load ply file\n",
    "pcd = o3d.io.read_point_cloud(\"./data/P001 2022-01-25 01_39_54.ply\")\n",
    "print('PLY file loaded')\n",
    "\n",
    "type(pcd)"
   ]
  },
  {
   "cell_type": "code",
   "execution_count": 57,
   "metadata": {},
   "outputs": [
    {
     "name": "stdout",
     "output_type": "stream",
     "text": [
      "['HalfEdgeTriangleMesh', 'Image', 'LineSet', 'PointCloud', 'RGBDImage', 'TetraMesh', 'TriangleMesh', 'Type', 'Unspecified', 'VoxelGrid', '__add__', '__class__', '__copy__', '__deepcopy__', '__delattr__', '__dir__', '__doc__', '__eq__', '__format__', '__ge__', '__getattribute__', '__gt__', '__hash__', '__iadd__', '__init__', '__init_subclass__', '__le__', '__lt__', '__module__', '__ne__', '__new__', '__reduce__', '__reduce_ex__', '__repr__', '__setattr__', '__sizeof__', '__str__', '__subclasshook__', 'clear', 'cluster_dbscan', 'colors', 'compute_convex_hull', 'compute_mahalanobis_distance', 'compute_mean_and_covariance', 'compute_nearest_neighbor_distance', 'compute_point_cloud_distance', 'covariances', 'create_from_depth_image', 'create_from_rgbd_image', 'crop', 'detect_planar_patches', 'dimension', 'estimate_covariances', 'estimate_normals', 'estimate_point_covariances', 'farthest_point_down_sample', 'get_axis_aligned_bounding_box', 'get_center', 'get_geometry_type', 'get_max_bound', 'get_min_bound', 'get_minimal_oriented_bounding_box', 'get_oriented_bounding_box', 'get_rotation_matrix_from_axis_angle', 'get_rotation_matrix_from_quaternion', 'get_rotation_matrix_from_xyz', 'get_rotation_matrix_from_xzy', 'get_rotation_matrix_from_yxz', 'get_rotation_matrix_from_yzx', 'get_rotation_matrix_from_zxy', 'get_rotation_matrix_from_zyx', 'has_colors', 'has_covariances', 'has_normals', 'has_points', 'hidden_point_removal', 'is_empty', 'normalize_normals', 'normals', 'orient_normals_consistent_tangent_plane', 'orient_normals_to_align_with_direction', 'orient_normals_towards_camera_location', 'paint_uniform_color', 'points', 'random_down_sample', 'remove_duplicated_points', 'remove_non_finite_points', 'remove_radius_outlier', 'remove_statistical_outlier', 'rotate', 'scale', 'segment_plane', 'select_by_index', 'transform', 'translate', 'uniform_down_sample', 'voxel_down_sample', 'voxel_down_sample_and_trace']\n"
     ]
    },
    {
     "data": {
      "text/plain": [
       "<bound method PyCapsule.cluster_dbscan of PointCloud with 247847 points.>"
      ]
     },
     "execution_count": 57,
     "metadata": {},
     "output_type": "execute_result"
    }
   ],
   "source": [
    "# PLY file info\n",
    "print(dir(pcd))\n",
    "\n",
    "pcd.cluster_dbscan"
   ]
  },
  {
   "cell_type": "code",
   "execution_count": 58,
   "metadata": {},
   "outputs": [
    {
     "name": "stdout",
     "output_type": "stream",
     "text": [
      "Shape of points (465839, 3)\n",
      "Shape of colors (465839, 3)\n"
     ]
    }
   ],
   "source": [
    "print('Shape of points', np.asarray(pcd.points).shape)\n",
    "print('Shape of colors', np.asarray(pcd.colors).shape)"
   ]
  },
  {
   "cell_type": "code",
   "execution_count": 104,
   "metadata": {},
   "outputs": [],
   "source": [
    "import math\n",
    "import itertools\n",
    "class PreProcessing:\n",
    "    def __init__(self, pcd: o3d.cpu.pybind.geometry.PointCloud, voxelSize=0.01, iter=10000):\n",
    "        self.pcd = pcd\n",
    "        self.voxelSize = voxelSize\n",
    "        self.iter = iter\n",
    "        # self.neighbours = \n",
    "    \n",
    "    def minMaxView(self, origin, pcd):\n",
    "        '''\n",
    "        used to visualise the min/max points in each respective axes\n",
    "        '''\n",
    "        \n",
    "        # Colors:\n",
    "        RED = [1., 0., 0.]\n",
    "        GREEN = [0., 1., 0.]\n",
    "        BLUE = [0., 0., 1.]\n",
    "        YELLOW = [1., 1., 0.]\n",
    "        MAGENTA = [1., 0., 1.]\n",
    "        CYAN = [0., 1., 1.]\n",
    "        \n",
    "        # Get max and min points of each axis x, y and z:\n",
    "        x_max = max(pcd.points, key=lambda x: x[0])\n",
    "        y_max = max(pcd.points, key=lambda x: x[1])\n",
    "        z_max = max(pcd.points, key=lambda x: x[2])\n",
    "        x_min = min(pcd.points, key=lambda x: x[0])\n",
    "        y_min = min(pcd.points, key=lambda x: x[1])\n",
    "        z_min = min(pcd.points, key=lambda x: x[2])\n",
    "        \n",
    "        # Create bounding box:\n",
    "        bounds = [[-math.inf, math.inf], [-math.inf, math.inf], [0.1, 0.4]]  # set the bounds\n",
    "        bounding_box_points = list(itertools.product(*bounds))  # create limit points\n",
    "        bounding_box = o3d.geometry.AxisAlignedBoundingBox.create_from_points(\n",
    "            o3d.utility.Vector3dVector(bounding_box_points))  # create bounding box object\n",
    "\n",
    "        # Crop the point cloud using the bounding box:\n",
    "        pcd_croped = pcd.crop(bounding_box)\n",
    "\n",
    "        # Display the cropped point cloud:\n",
    "        o3d.visualization.draw_geometries([pcd_croped])\n",
    "\n",
    "        # positions = [x_max, y_max, z_max, x_min, y_min, z_min]\n",
    "        # geometries = [pcd, origin]\n",
    "        # colors = [RED, GREEN, BLUE, MAGENTA, YELLOW, CYAN]\n",
    "        # for i in range(len(positions)):\n",
    "        #     # Create a sphere mesh:\n",
    "        #     sphere = o3d.geometry.TriangleMesh.create_sphere(radius=0.05)\n",
    "        #     # move to the point position:\n",
    "        #     sphere.translate(np.asarray(positions[i]))\n",
    "        #     # add color:\n",
    "        #     sphere.paint_uniform_color(np.asarray(colors[i]))\n",
    "        #     # compute normals for vertices or faces:\n",
    "        #     sphere.compute_vertex_normals()\n",
    "        #     # add to geometry list to display later:\n",
    "        #     geometries.append(sphere)\n",
    "\n",
    "        # # Display:\n",
    "        # o3d.visualization.draw_geometries(geometries)\n",
    "        \n",
    "        \n",
    "        # # Define a threshold:\n",
    "        # THRESHOLD = 1\n",
    "\n",
    "        # # Get the max value along the y-axis:\n",
    "        # y_max = max(pcd.points, key=lambda x: x[1])[1]\n",
    "\n",
    "        # # Get the original points color to be updated:\n",
    "        # pcd_colors = np.asarray(pcd.colors)\n",
    "\n",
    "        # # Number of points:\n",
    "        # n_points = pcd_colors.shape[0]\n",
    "\n",
    "        # # update color:\n",
    "        # for i in range(n_points):\n",
    "        #     # if the current point is aground point:\n",
    "        #     if pcd.points[i][1] >= y_max - THRESHOLD:\n",
    "        #         pcd_colors[i] = RED  # color it green\n",
    "\n",
    "        # pcd.colors = o3d.utility.Vector3dVector(pcd_colors)\n",
    "\n",
    "        # # Display:\n",
    "        # o3d.visualization.draw_geometries([pcd, origin])\n",
    "            \n",
    "    def downsample_clean(self):\n",
    "        '''\n",
    "        most of the cleaning is done here\n",
    "        '''\n",
    "        \n",
    "        # create 3d coordinate system\n",
    "        origin = o3d.geometry.TriangleMesh.create_coordinate_frame(size=0.5)\n",
    "        self.visualise(origin, pcd)\n",
    "        self.minMaxView(origin, pcd)\n",
    "\n",
    "        # reduce total number of points\n",
    "        downsampled = self.pcd.voxel_down_sample(self.voxelSize)\n",
    "        \n",
    "        # outlier cleaning\n",
    "        cl, ind = downsampled.remove_statistical_outlier(nb_neighbors=20, std_ratio=2.0)\n",
    "        cleaned_pcd = downsampled.select_by_index(ind)\n",
    "        \n",
    "        # removing majority floor\n",
    "        plane_model, inliers = cleaned_pcd.segment_plane(distance_threshold=0.009, ransac_n=3, num_iterations=self.iter)\n",
    "        inlier_cloud = cleaned_pcd.select_by_index(inliers)\n",
    "        inlier_cloud.paint_uniform_color([1,0,0])\n",
    "        outlier_cloud = cleaned_pcd.select_by_index(inliers, invert=True)\n",
    "        \n",
    "        # apply bounding box method to crop out non relevant sections\n",
    "        inlier_cloud = self.bounding_box(outlier_cloud)\n",
    "        \n",
    "        \n",
    "\n",
    "        return outlier_cloud\n",
    "    \n",
    "    def bounding_box(self, pcd):\n",
    "        '''\n",
    "        applying bounding box method removing majority of unwanted points\n",
    "        '''\n",
    "        \n",
    "        points = np.asarray(pcd.points)\n",
    "        \n",
    "        min_x, min_y, min_z = points.min(axis=0)[:3]\n",
    "        max_x, max_y, max_z = points.max(axis=0)[:3]\n",
    "\n",
    "        padding = 0.53\n",
    "        bbox = o3d.geometry.AxisAlignedBoundingBox(min_bound=(padding*min_x, padding*min_y ,padding*min_z ), max_bound=(padding*max_x, padding*max_y, max_z))\n",
    "\n",
    "        # Select points within the bounding box\n",
    "        pcd_in_bbox = pcd.crop(bbox)\n",
    "        \n",
    "        return pcd_in_bbox\n",
    "    \n",
    "    def visualise(self, *args):\n",
    "        # drawing\n",
    "        o3d.visualization.draw_geometries(\n",
    "            [*args], \n",
    "            window_name=\"point cloud\" \n",
    "        )\n",
    "\n",
    "process = PreProcessing(pcd)\n",
    "inlier = process.downsample_clean()\n",
    "process.visualise(inlier)"
   ]
  },
  {
   "cell_type": "code",
   "execution_count": 77,
   "metadata": {},
   "outputs": [],
   "source": [
    "# Visualize\n",
    "# inlier = process.bounding_box(inlier)\n",
    "# process.visualise(inlier)"
   ]
  },
  {
   "cell_type": "code",
   "execution_count": 10,
   "metadata": {},
   "outputs": [],
   "source": [
    "# Convert the point cloud to a numpy array\n",
    "points = np.asarray(pcd_in_bbox.points)\n",
    "\n",
    "# Define a height threshold\n",
    "min_x, min_y, min_z = points.min(axis=0)[:3]\n",
    "\n",
    "height_threshold = min_z  + 0.03  # Adjust this value based on your needs\n",
    "\n",
    "# Create a mask for points below the height threshold\n",
    "mask = points[:, 2] > height_threshold\n",
    "\n",
    "# Select points below the height threshold\n",
    "subset_pcd = pcd_in_bbox.select_by_index(np.where(mask)[0])\n",
    "\n",
    "# Visualize\n",
    "o3d.visualization.draw_geometries([subset_pcd], window_name=\"Cleaned Point Cloud after DBSCAN Clustering on Subset\")\n",
    "\n",
    "\n"
   ]
  },
  {
   "cell_type": "code",
   "execution_count": 27,
   "metadata": {},
   "outputs": [],
   "source": [
    "from sklearn.cluster import KMeans\n",
    "\n",
    "# Convert the point cloud to a numpy array\n",
    "points = np.asarray(pcd_in_bbox.points)\n",
    "\n",
    "# Calculate the centroid of the entire point cloud\n",
    "centroid = np.mean(points, axis=0)\n",
    "\n",
    "# Define the approximate z-coordinate of the feet\n",
    "feet_z = min_z  # Adjust this value based on your data\n",
    "\n",
    "# Shift the centroid to the level of the feet\n",
    "centroid[2] = feet_z\n",
    "\n",
    "# Define a tolerance\n",
    "tolerance = 0.05  # Adjust this value based on your needs\n",
    "\n",
    "# Create a mask for points that are within the tolerance of the new centroid\n",
    "mask = np.logical_and(points[:, 2] > (centroid[2] - tolerance), points[:, 2] < (centroid[2] + tolerance))\n",
    "\n",
    "# Extract the segment of the point cloud\n",
    "segment_points = points[mask]\n",
    "\n",
    "# Perform k-means clustering on the segment with 2 clusters (the feet and the floor)\n",
    "kmeans = KMeans(n_clusters=2, random_state=0).fit(segment_points)\n",
    "\n",
    "# Find the index of the cluster whose centroid is closer to the new centroid\n",
    "feet_cluster_index = np.argmin(np.linalg.norm(kmeans.cluster_centers_ - centroid, axis=1))\n",
    "\n",
    "# Create a mask for points in the segment that belong to the feet cluster\n",
    "segment_mask = kmeans.labels_ == feet_cluster_index\n",
    "\n",
    "# Combine the segment mask with the original mask to get a mask for the feet in the original point cloud\n",
    "mask[mask] = segment_mask\n",
    "\n",
    "# Select points using the mask\n",
    "final_pcd = pcd_in_bbox.select_by_index(np.where(~mask)[0])\n",
    "\n",
    "# Visualize\n",
    "o3d.visualization.draw_geometries([final_pcd], window_name=\"Cleaned Point Cloud after Removing Floor Points\")\n"
   ]
  },
  {
   "cell_type": "code",
   "execution_count": 26,
   "metadata": {},
   "outputs": [],
   "source": [
    "# Define the distance thresholds\n",
    "x_threshold = 0.01  # Adjust this value based on your data\n",
    "y_threshold = 0.01  # Adjust this value based on your data\n",
    "z_threshold = 0.1  # Adjust this value based on your data\n",
    "\n",
    "\n",
    "points = np.asarray(final_pcd.points)\n",
    "\n",
    "\n",
    "\n",
    "# Create a mask for points that are at or below the height of the centroid\n",
    "height_mask = points[:, 2] <= centroid[2] \n",
    "\n",
    "# Select points using the height mask\n",
    "segment_points = points[height_mask]\n",
    "\n",
    "# Create masks for points that are within the distance thresholds from the centroid\n",
    "x_mask = np.abs(segment_points[:, 0] - centroid[0]) <= x_threshold\n",
    "y_mask = np.abs(segment_points[:, 1] - centroid[1]) <= y_threshold\n",
    "\n",
    "# Combine the masks for x and y\n",
    "xy_mask = np.logical_and(x_mask, y_mask)\n",
    "\n",
    "# Get the opposite of the xy_mask\n",
    "inverse_xy_mask = ~xy_mask\n",
    "\n",
    "# Select points using the inverse_xy_mask\n",
    "final_segment_points = segment_points[inverse_xy_mask]\n",
    "\n",
    "# Combine the final_segment_points with the points above the height of the centroid\n",
    "final_points = np.vstack((points[~height_mask], final_segment_points))\n",
    "\n",
    "# Convert the final points to a point cloud\n",
    "final_pcd = o3d.geometry.PointCloud()\n",
    "final_pcd.points = o3d.utility.Vector3dVector(final_points)\n",
    "\n",
    "# Visualize\n",
    "o3d.visualization.draw_geometries([final_pcd], window_name=\"Cleaned Point Cloud after Removing Far Points\")\n"
   ]
  },
  {
   "cell_type": "code",
   "execution_count": null,
   "metadata": {},
   "outputs": [],
   "source": []
  },
  {
   "cell_type": "code",
   "execution_count": null,
   "metadata": {},
   "outputs": [],
   "source": []
  },
  {
   "cell_type": "code",
   "execution_count": null,
   "metadata": {},
   "outputs": [],
   "source": []
  }
 ],
 "metadata": {
  "kernelspec": {
   "display_name": "Python 3",
   "language": "python",
   "name": "python3"
  },
  "language_info": {
   "codemirror_mode": {
    "name": "ipython",
    "version": 3
   },
   "file_extension": ".py",
   "mimetype": "text/x-python",
   "name": "python",
   "nbconvert_exporter": "python",
   "pygments_lexer": "ipython3",
   "version": "3.8.13"
  }
 },
 "nbformat": 4,
 "nbformat_minor": 2
}

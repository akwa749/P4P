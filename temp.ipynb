{
 "cells": [
  {
   "cell_type": "code",
   "execution_count": 1,
   "metadata": {},
   "outputs": [
    {
     "name": "stdout",
     "output_type": "stream",
     "text": [
      "Jupyter environment detected. Enabling Open3D WebVisualizer.\n",
      "[Open3D INFO] WebRTC GUI backend enabled.\n",
      "[Open3D INFO] WebRTCWindowSystem: HTTP handshake server disabled.\n"
     ]
    }
   ],
   "source": [
    "import numpy as np\n",
    "import open3d as o3d\n",
    "import matplotlib.pyplot as plt\n",
    "\n",
    "%matplotlib inline"
   ]
  },
  {
   "cell_type": "code",
   "execution_count": 2,
   "metadata": {},
   "outputs": [
    {
     "data": {
      "text/plain": [
       "'0.17.0'"
      ]
     },
     "execution_count": 2,
     "metadata": {},
     "output_type": "execute_result"
    }
   ],
   "source": [
    "# checing if o3d is instaleld\n",
    "o3d.__version__"
   ]
  },
  {
   "attachments": {},
   "cell_type": "markdown",
   "metadata": {},
   "source": [
    "#### Visualise raw point cloud"
   ]
  },
  {
   "cell_type": "code",
   "execution_count": null,
   "metadata": {},
   "outputs": [],
   "source": [
    "def segment_person(pcd, eps=0.02, min_points=10):\n",
    "    \"\"\"\n",
    "    Segments the person from the point cloud using DBSCAN.\n",
    "\n",
    "    Args:\n",
    "        pcd (open3d.geometry.PointCloud): The input point cloud.\n",
    "        eps (float): The maximum distance between two samples for one to be considered as in the neighborhood of the other.\n",
    "        min_points (int): The number of samples in a neighborhood for a point to be considered as a core point.\n",
    "\n",
    "    Returns:\n",
    "        open3d.geometry.PointCloud: The point cloud of the segmented person.\n",
    "    \"\"\"\n",
    "    points = np.asarray(pcd.points)\n",
    "\n",
    "    # Run DBSCAN on the point cloud\n",
    "    labels = np.array(pcd.cluster_dbscan(eps=eps, min_points=min_points))\n",
    "\n",
    "    # Find the label of the largest cluster (assumed to be the person)\n",
    "    person_label = np.argmax(np.bincount(labels[labels != -1]))\n",
    "\n",
    "    # Create a point cloud for the person\n",
    "    person_points = np.array(pcd.points)[labels == person_label]\n",
    "    person_colors = np.array(pcd.colors)[labels == person_label]\n",
    "    person_pcd = o3d.geometry.PointCloud()\n",
    "    person_pcd.points = o3d.utility.Vector3dVector(person_points)\n",
    "    person_pcd.colors = o3d.utility.Vector3dVector(person_colors)\n",
    "    \n",
    "    return person_pcd\n",
    "\n",
    "def minimalBoundingBox(pcd: o3d.cpu.pybind.geometry.PointCloud) -> None:\n",
    "    '''\n",
    "    Applies a minimal bounding box, isolating the human subject from the scene.\n",
    "    This helps to remove majority of the unnecessary points.\n",
    "    \n",
    "    Args:\n",
    "        pcd (o3d.cpu.pybind.geometry.PointCloud): PointCloud object\n",
    "    \n",
    "    Returns:\n",
    "        type: o3d.cpu.pybind.geometry.PointCloud'     \n",
    "    '''\n",
    "    \n",
    "    points = np.asarray(pcd.points)\n",
    "    \n",
    "    min_x, min_y, min_z = points.min(axis=0)[:3]\n",
    "    max_x, max_y, max_z = points.max(axis=0)[:3]\n",
    "\n",
    "    # std dev in each dimension\n",
    "    std_dev_x, std_dev_y, std_dev_z = np.std(points, axis=0)[:3]\n",
    "\n",
    "    # arbitrary value -- adjust if needed\n",
    "    factor = 0.1 \n",
    "\n",
    "    padding_x = factor * std_dev_x\n",
    "    padding_y = factor * std_dev_y\n",
    "\n",
    "    # set to 0 cuz only want to adjust x/y dimensions\n",
    "    padding_z = 0 \n",
    "\n",
    "    bbox = o3d.geometry.AxisAlignedBoundingBox(min_bound=(min_x - padding_x, min_y - padding_y, min_z - padding_z), \n",
    "                                               max_bound=(max_x + padding_x, max_y + padding_y, max_z + padding_z))\n",
    "    bbox.get_minimal_oriented_bounding_box()\n",
    "    bbox.color = [1,0,0]\n",
    "\n",
    "    # Select points within the bounding box\n",
    "    pcd_in_bbox = pcd.crop(bbox)\n",
    "    \n",
    "    o3d.visualization.draw_geometries([bbox, pcd_in_bbox])\n",
    "    \n",
    "    return pcd_in_bbox\n",
    "\n",
    "def isolate_person(pcd, eps=0.02, min_points=10):\n",
    "    \"\"\"\n",
    "    Segments the person from the point cloud and applies a minimal bounding box.\n",
    "    \"\"\"\n",
    "    # Segment the person\n",
    "    person_pcd = segment_person(pcd, eps, min_points)\n",
    "\n",
    "    # Apply the bounding box\n",
    "    pcd_in_bbox = minimalBoundingBox(person_pcd)\n",
    "\n",
    "    return pcd_in_bbox\n",
    "\n",
    "o3d.visualization.draw_geometries([isolate_person(pcd)])"
   ]
  },
  {
   "cell_type": "code",
   "execution_count": 19,
   "metadata": {},
   "outputs": [],
   "source": [
    "pcd = o3d.io.read_point_cloud('./data/P002 2022-01-25 01_24_48.ply')"
   ]
  },
  {
   "cell_type": "code",
   "execution_count": 21,
   "metadata": {},
   "outputs": [
    {
     "name": "stdout",
     "output_type": "stream",
     "text": [
      "done\n"
     ]
    }
   ],
   "source": [
    "\n",
    "\n",
    "def bounding_box():\n",
    "    point_cloud = np.asarray(pcd.points)\n",
    "    \n",
    "    # Define the bounding box\n",
    "    min_x = np.min(point_cloud[:, 0])\n",
    "    max_x = np.max(point_cloud[:, 0])\n",
    "    min_y = np.min(point_cloud[:, 1])\n",
    "    max_y = np.max(point_cloud[:, 1])\n",
    "    min_z = np.min(point_cloud[:, 2])\n",
    "    max_z = np.max(point_cloud[:, 2])\n",
    "\n",
    "    # Expand the bounding box slightly\n",
    "    padding = 0.5  # for example, 10% of the range\n",
    "\n",
    "    min_x = padding * min_x\n",
    "    max_x = padding * max_x\n",
    "    min_y = padding * min_y\n",
    "    max_y = padding * max_y\n",
    "    min_z = padding * min_z\n",
    "\n",
    "    # Filter the points\n",
    "    human_points = point_cloud[\n",
    "        (point_cloud[:, 0] >= min_x) & (point_cloud[:, 0] <= max_x) &\n",
    "        (point_cloud[:, 1] >= min_y) & (point_cloud[:, 1] <= max_y) &\n",
    "        (point_cloud[:, 2] >= min_z) & (point_cloud[:, 2] <= max_z)\n",
    "    ]\n",
    "    \n",
    "    human_colors = np.array(pcd.colors)[\n",
    "        (point_cloud[:, 0] >= min_x) & (point_cloud[:, 0] <= max_x) &\n",
    "        (point_cloud[:, 1] >= min_y) & (point_cloud[:, 1] <= max_y) &\n",
    "        (point_cloud[:, 2] >= min_z) & (point_cloud[:, 2] <= max_z)\n",
    "    ]\n",
    "\n",
    "\n",
    "    ###\n",
    "    visualized_point_cloud = o3d.geometry.PointCloud()\n",
    "    visualized_point_cloud.points = o3d.utility.Vector3dVector(human_points)\n",
    "    visualized_point_cloud.colors = o3d.utility.Vector3dVector(human_colors)\n",
    "    \n",
    "    obb = visualized_point_cloud.get_minimal_oriented_bounding_box()\n",
    "    obb.color = [0,0,1]\n",
    "    # abb = visualized_point_cloud.get_oriented_bounding_box()\n",
    "    # abb.color = [0,1,0]\n",
    "    o3d.visualization.draw_geometries([visualized_point_cloud, obb])\n",
    "    \n",
    "\n",
    "    print(\"done\")\n",
    "\n",
    "bounding_box()"
   ]
  },
  {
   "attachments": {},
   "cell_type": "markdown",
   "metadata": {},
   "source": [
    "### Vertex normal estimation\n",
    "\n",
    "- `estimate_normals` function finds adjacent points and calculates the principal axis of the adjacent points using covariance analysis\n",
    "    - `radius` = search radius, `max_nn` = maximum nearest neighbour\n",
    "    - so radius = 0.1 (10cm search radius) and max_nn = 30 (only considers 30 neighbours)\n",
    "- estimates normal vector (vector perpindicular to tangent plane) for each point in point cloud.\n",
    "- sensitive to noise and variations & computationally expensive"
   ]
  },
  {
   "cell_type": "code",
   "execution_count": 30,
   "metadata": {},
   "outputs": [],
   "source": [
    "downpcd.estimate_normals(search_param=o3d.geometry.KDTreeSearchParamHybrid(radius=0.1, max_nn=30))\n",
    "o3d.visualization.draw_geometries([downpcd], point_show_normal=True)\n",
    "\n",
    "downpcd.normals[0]"
   ]
  }
 ],
 "metadata": {
  "kernelspec": {
   "display_name": "dslab",
   "language": "python",
   "name": "python3"
  },
  "language_info": {
   "codemirror_mode": {
    "name": "ipython",
    "version": 3
   },
   "file_extension": ".py",
   "mimetype": "text/x-python",
   "name": "python",
   "nbconvert_exporter": "python",
   "pygments_lexer": "ipython3",
   "version": "3.9.16"
  },
  "orig_nbformat": 4
 },
 "nbformat": 4,
 "nbformat_minor": 2
}

{
 "cells": [
  {
   "cell_type": "code",
   "execution_count": 2,
   "metadata": {},
   "outputs": [
    {
     "name": "stdout",
     "output_type": "stream",
     "text": [
      "Jupyter environment detected. Enabling Open3D WebVisualizer.\n",
      "[Open3D INFO] WebRTC GUI backend enabled.\n",
      "[Open3D INFO] WebRTCWindowSystem: HTTP handshake server disabled.\n"
     ]
    }
   ],
   "source": [
    "import numpy as np\n",
    "import open3d as o3d\n",
    "import matplotlib.pyplot as plt\n",
    "\n",
    "%matplotlib inline"
   ]
  },
  {
   "cell_type": "code",
   "execution_count": 3,
   "metadata": {},
   "outputs": [
    {
     "data": {
      "text/plain": [
       "'0.17.0'"
      ]
     },
     "execution_count": 3,
     "metadata": {},
     "output_type": "execute_result"
    }
   ],
   "source": [
    "# checing if o3d is instaleld\n",
    "o3d.__version__"
   ]
  },
  {
   "attachments": {},
   "cell_type": "markdown",
   "metadata": {},
   "source": [
    "#### Visualise raw point cloud"
   ]
  },
  {
   "cell_type": "code",
   "execution_count": 28,
   "metadata": {},
   "outputs": [
    {
     "name": "stdout",
     "output_type": "stream",
     "text": [
      "PointCloud with 251759 points.\n",
      "[[-1.35046351  0.24485803  0.0835193 ]\n",
      " [-1.35046351  0.246858    0.0915193 ]\n",
      " [-1.35046351  0.24785799  0.0995193 ]\n",
      " ...\n",
      " [ 1.16753662 -0.51514196  2.53951955]\n",
      " [ 1.16803658 -0.52314198  2.53951955]\n",
      " [ 1.16803658 -0.531142    2.53951955]]\n",
      "Min: [-1.47696352 -1.48314226 -0.0274807 ]\n",
      "Max: [1.18503678 1.22135806 2.57151937]\n"
     ]
    }
   ],
   "source": [
    "pcd = o3d.io.read_point_cloud(\"./data/P002 2022-01-25 01_24_48.ply\")\n",
    "print(pcd)\n",
    "print(np.asarray(pcd.points))\n",
    "# Print min and max coordinates\n",
    "print(\"Min:\", np.min(pcd.points, axis=0))\n",
    "print(\"Max:\", np.max(pcd.points, axis=0))"
   ]
  },
  {
   "attachments": {},
   "cell_type": "markdown",
   "metadata": {},
   "source": [
    "### Voxel downsampling"
   ]
  },
  {
   "attachments": {},
   "cell_type": "markdown",
   "metadata": {},
   "source": [
    "- Lidar scans can be very large with millions of points, to improve efficiency, we reduce the overall number of points in the point cloud while retaining the overall structure and shape"
   ]
  },
  {
   "cell_type": "code",
   "execution_count": 29,
   "metadata": {},
   "outputs": [],
   "source": [
    "voxel_size = 0.05\n",
    "downpcd = pcd.voxel_down_sample(voxel_size)\n",
    "o3d.visualization.draw_geometries([downpcd])"
   ]
  },
  {
   "attachments": {},
   "cell_type": "markdown",
   "metadata": {},
   "source": [
    "### Vertex normal estimation\n",
    "\n",
    "- `estimate_normals` function finds adjacent points and calculates the principal axis of the adjacent points using covariance analysis\n",
    "    - `radius` = search radius, `max_nn` = maximum nearest neighbour\n",
    "    - so radius = 0.1 (10cm search radius) and max_nn = 30 (only considers 30 neighbours)\n",
    "- estimates normal vector (vector perpindicular to tangent plane) for each point in point cloud.\n",
    "- sensitive to noise and variations & computationally expensive"
   ]
  },
  {
   "cell_type": "code",
   "execution_count": 30,
   "metadata": {},
   "outputs": [],
   "source": [
    "downpcd.estimate_normals(search_param=o3d.geometry.KDTreeSearchParamHybrid(radius=0.1, max_nn=30))\n",
    "o3d.visualization.draw_geometries([downpcd], point_show_normal=True)"
   ]
  },
  {
   "attachments": {},
   "cell_type": "markdown",
   "metadata": {},
   "source": [
    "#### Estimated vertex normal"
   ]
  },
  {
   "cell_type": "code",
   "execution_count": 31,
   "metadata": {},
   "outputs": [
    {
     "data": {
      "text/plain": [
       "array([ 0.0382553 , -0.07033175, -0.99678984])"
      ]
     },
     "execution_count": 31,
     "metadata": {},
     "output_type": "execute_result"
    }
   ],
   "source": [
    "downpcd.normals[0]"
   ]
  },
  {
   "cell_type": "code",
   "execution_count": 32,
   "metadata": {},
   "outputs": [
    {
     "name": "stdout",
     "output_type": "stream",
     "text": [
      "Normal vectors of the first 10 points\n",
      "[[ 3.82552967e-02 -7.03317526e-02 -9.96789836e-01]\n",
      " [ 1.30591400e-01  7.64487856e-02 -9.88484431e-01]\n",
      " [ 3.39524397e-04  9.96340889e-01 -8.54676435e-02]\n",
      " [-8.59651969e-03 -1.45583988e-02  9.99857066e-01]\n",
      " [ 1.53950932e-02 -9.87630672e-02  9.94991883e-01]\n",
      " [-1.48672095e-01  9.45758031e-01 -2.88856978e-01]\n",
      " [ 9.98957752e-01  4.25496547e-02  1.65207685e-02]\n",
      " [-1.21948413e-02 -9.99877159e-01  9.84641230e-03]\n",
      " [-3.32356369e-02 -9.96704843e-01 -7.39922200e-02]\n",
      " [-2.01307636e-02 -1.09861695e-01  9.93743005e-01]]\n"
     ]
    }
   ],
   "source": [
    "print(\"Normal vectors of the first 10 points\")\n",
    "print(np.asarray(downpcd.normals)[:10, :])"
   ]
  },
  {
   "attachments": {},
   "cell_type": "markdown",
   "metadata": {},
   "source": [
    "### Point cloud distance\n",
    "\n",
    "- `compute_point_cloud_distance` computes the distance from source to target point cloud (only rly works with 2 sets of PCs)"
   ]
  },
  {
   "cell_type": "code",
   "execution_count": 33,
   "metadata": {},
   "outputs": [],
   "source": [
    "pcd = o3d.io.read_point_cloud(\"./data/P001 2022-01-25 01_39_54.ply\")"
   ]
  },
  {
   "cell_type": "code",
   "execution_count": 34,
   "metadata": {},
   "outputs": [],
   "source": [
    "dists = pcd.compute_point_cloud_distance(downpcd)\n",
    "dists = np.asarray(dists)\n",
    "# print(dists)\n",
    "ind = np.where(dists > 0.01)[0]\n",
    "new = pcd.select_by_index(ind)\n",
    "o3d.visualization.draw_geometries_with_editing([new])"
   ]
  },
  {
   "cell_type": "code",
   "execution_count": 35,
   "metadata": {},
   "outputs": [],
   "source": [
    "def draw_registration_result_original_color(source, target, transformation):\n",
    "    source_temp = copy.deepcopy(source)\n",
    "    source_temp.transform(transformation)\n",
    "    o3d.visualization.draw_geometries([source_temp, target])"
   ]
  },
  {
   "attachments": {},
   "cell_type": "markdown",
   "metadata": {},
   "source": [
    "### bounding box"
   ]
  },
  {
   "cell_type": "code",
   "execution_count": 36,
   "metadata": {},
   "outputs": [],
   "source": [
    "# aabb = downpcd.get_axis_aligned_bounding_box()\n",
    "# aabb.color = (1, 0, 0)\n",
    "\n",
    "# # Compute the oriented bounding box\n",
    "# obb = downpcd.get_oriented_bounding_box()\n",
    "# obb.color = (0,1,0)  # green\n",
    "\n",
    "bbox = o3d.geometry.AxisAlignedBoundingBox(min_bound=(0.5,0.6,0.5), max_bound=(3,4,2))\n",
    "\n",
    "# Crop the point cloud\n",
    "cropped_pcd = pcd.crop(bbox)\n",
    "\n",
    "# Visualize the cropped point cloud\n",
    "o3d.visualization.draw_geometries([cropped_pcd])\n",
    "\n",
    "# Display the point cloud with its bounding boxes\n",
    "# o3d.visualization.draw_geometries([downpcd, aabb, obb])"
   ]
  },
  {
   "attachments": {},
   "cell_type": "markdown",
   "metadata": {},
   "source": [
    "### dbscan clustering\n",
    "\n",
    "- grouping point clouds together, density based clustering algorithm\n",
    "- `cluster_dbscan` takes `eps` = distance to neighbours in cluster, `min_points` = min number of points to form cluster\n",
    "- the function returns `labels` where the label `-1` indicates noise"
   ]
  },
  {
   "cell_type": "code",
   "execution_count": 37,
   "metadata": {},
   "outputs": [],
   "source": [
    "import matplotlib.pyplot as plt"
   ]
  },
  {
   "cell_type": "code",
   "execution_count": 38,
   "metadata": {},
   "outputs": [
    {
     "name": "stdout",
     "output_type": "stream",
     "text": [
      "[Open3D DEBUG] Precompute neighbors.\n",
      "[Open3D DEBUG] Done Precompute neighbors.\n",
      "[Open3D DEBUG] Compute Clusters\n",
      "[Open3D DEBUG] Done Compute Clusters: 37\n",
      "point cloud has 37 clusters\n",
      "[[0.12156863 0.46666667 0.70588235 1.        ]\n",
      " [0.12156863 0.46666667 0.70588235 1.        ]\n",
      " [0.12156863 0.46666667 0.70588235 1.        ]\n",
      " ...\n",
      " [0.12156863 0.46666667 0.70588235 1.        ]\n",
      " [0.12156863 0.46666667 0.70588235 1.        ]\n",
      " [0.12156863 0.46666667 0.70588235 1.        ]]\n"
     ]
    }
   ],
   "source": [
    "with o3d.utility.VerbosityContextManager(o3d.utility.VerbosityLevel.Debug) as cm:\n",
    "    labels = np.array(pcd.cluster_dbscan(eps = 0.02, min_points=10, print_progress=True))\n",
    "\n",
    "max_label = labels.max()\n",
    "\n",
    "print(f\"point cloud has {max_label + 1} clusters\") # index count starts from 0, so + 1 to get actual number of clusters\n",
    "colors = plt.get_cmap(\"tab20\")(labels / (max_label if max_label > 0 else 1))\n",
    "print(colors)\n",
    "\n",
    "colors[labels < 0] = 0\n",
    "pcd.colors = o3d.utility.Vector3dVector(colors[:, :3])\n",
    "o3d.visualization.draw_geometries([pcd])"
   ]
  },
  {
   "attachments": {},
   "cell_type": "markdown",
   "metadata": {},
   "source": [
    "### plane segmentation\n",
    "\n",
    "- finds plane with largest support in point cloud via `segment_plane`\n",
    "- `distance_threshold` = max distance a point can have to an estimated plane to be considered an inlier\n",
    "- `ransac_n` = number of points that are randomly sampled to estimate a plane\n",
    "- `num_iterations` = how often a random plane is sampled and verified\n",
    "- Returns a list of indices of the inlier points"
   ]
  },
  {
   "cell_type": "code",
   "execution_count": 39,
   "metadata": {},
   "outputs": [
    {
     "name": "stdout",
     "output_type": "stream",
     "text": [
      "-0.00574584570168714x + -0.003863946854561101y + 0.9999760272985935z + -0.035509656775515715 = 0\n"
     ]
    }
   ],
   "source": [
    "model, inliers = pcd.segment_plane(distance_threshold=0.02, ransac_n=5, num_iterations=1000)\n",
    "[a, b, c, d] = model\n",
    "\n",
    "print(f\"{a}x + {b}y + {c}z + {d} = 0\")\n",
    "\n",
    "inlier_cloud = pcd.select_by_index(inliers)\n",
    "inlier_cloud.paint_uniform_color([1,0,0])\n",
    "outlier_cloud = pcd.select_by_index(inliers, invert=True)\n",
    "o3d.visualization.draw_geometries([outlier_cloud, inlier_cloud])"
   ]
  },
  {
   "cell_type": "code",
   "execution_count": null,
   "metadata": {},
   "outputs": [],
   "source": []
  },
  {
   "cell_type": "code",
   "execution_count": null,
   "metadata": {},
   "outputs": [],
   "source": []
  },
  {
   "cell_type": "code",
   "execution_count": null,
   "metadata": {},
   "outputs": [],
   "source": []
  },
  {
   "cell_type": "code",
   "execution_count": null,
   "metadata": {},
   "outputs": [],
   "source": []
  },
  {
   "cell_type": "code",
   "execution_count": null,
   "metadata": {},
   "outputs": [],
   "source": []
  }
 ],
 "metadata": {
  "kernelspec": {
   "display_name": "dslab",
   "language": "python",
   "name": "python3"
  },
  "language_info": {
   "codemirror_mode": {
    "name": "ipython",
    "version": 3
   },
   "file_extension": ".py",
   "mimetype": "text/x-python",
   "name": "python",
   "nbconvert_exporter": "python",
   "pygments_lexer": "ipython3",
   "version": "3.8.16"
  },
  "orig_nbformat": 4
 },
 "nbformat": 4,
 "nbformat_minor": 2
}
